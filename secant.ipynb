{
 "cells": [
  {
   "cell_type": "code",
   "execution_count": 2,
   "metadata": {},
   "outputs": [
    {
     "ename": "SystemExit",
     "evalue": "Usage: secant_method.py <x0> <x1> <n>",
     "output_type": "error",
     "traceback": [
      "An exception has occurred, use %tb to see the full traceback.\n",
      "\u001b[1;31mSystemExit\u001b[0m\u001b[1;31m:\u001b[0m Usage: secant_method.py <x0> <x1> <n>\n"
     ]
    },
    {
     "name": "stderr",
     "output_type": "stream",
     "text": [
      "C:\\Users\\benq4\\AppData\\Local\\conda\\conda\\envs\\py36\\lib\\site-packages\\IPython\\core\\interactiveshell.py:2969: UserWarning: To exit: use 'exit', 'quit', or Ctrl-D.\n",
      "  warn(\"To exit: use 'exit', 'quit', or Ctrl-D.\", stacklevel=1)\n"
     ]
    }
   ],
   "source": [
    "import sys\n",
    "\n",
    "def f(x):\n",
    "\treturn x**3+x-1\n",
    "\t\n",
    "def secant(x0,x1,n):\n",
    "\tfor i in range(n):\n",
    "\t\tif f(x1)-f(x0) == 0:\n",
    "\t\t\treturn x1\n",
    "\t\tx_temp = x1 - (f(x1)*(x1-x0)*1.0)/(f(x1)-f(x0))\n",
    "\t\tx0 = x1\n",
    "\t\tx1 = x_temp\n",
    "\treturn x1\n",
    "\t\n",
    "def main(argv):\n",
    "\tif (len(sys.argv) != 4):\n",
    "\t\tsys.exit('Usage: secant_method.py <x0> <x1> <n>')\n",
    "\t\n",
    "\tprint('The root is: '),\n",
    "\tprint (secant(float(sys.argv[1]),float(sys.argv[2]),int(sys.argv[3])))\n",
    "\n",
    "if __name__ == \"__main__\":\n",
    "\tmain(sys.argv[1:])"
   ]
  },
  {
   "cell_type": "code",
   "execution_count": null,
   "metadata": {},
   "outputs": [],
   "source": []
  }
 ],
 "metadata": {
  "kernelspec": {
   "display_name": "Python 3",
   "language": "python",
   "name": "python3"
  },
  "language_info": {
   "codemirror_mode": {
    "name": "ipython",
    "version": 3
   },
   "file_extension": ".py",
   "mimetype": "text/x-python",
   "name": "python",
   "nbconvert_exporter": "python",
   "pygments_lexer": "ipython3",
   "version": "3.6.6"
  }
 },
 "nbformat": 4,
 "nbformat_minor": 2
}
