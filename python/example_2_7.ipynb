{
 "cells": [
  {
   "cell_type": "code",
   "execution_count": 1,
   "metadata": {},
   "outputs": [],
   "source": [
    "from falsi import *"
   ]
  },
  {
   "cell_type": "code",
   "execution_count": 2,
   "metadata": {},
   "outputs": [],
   "source": [
    "def f(x):\n",
    "    return x**5-0.5"
   ]
  },
  {
   "cell_type": "code",
   "execution_count": 10,
   "metadata": {},
   "outputs": [
    {
     "name": "stdout",
     "output_type": "stream",
     "text": [
      "1 -1.000000 1.000000 0.500000 -0.468750\n",
      "2 0.500000 1.000000 0.741935 -0.275182\n",
      "3 0.741935 1.000000 0.833546 -0.097610\n",
      "4 0.833546 1.000000 0.860733 -0.027564\n",
      "5 0.860733 1.000000 0.868010 -0.007254\n",
      "6 0.868010 1.000000 0.869897 -0.001873\n",
      "7 0.869897 1.000000 0.870383 -0.000481\n",
      "8 0.870383 1.000000 0.870508 -0.000124\n",
      "9 0.870508 1.000000 0.870540 -0.000032\n",
      "regula falsi has coverged\n",
      "x =  0.870540\n"
     ]
    }
   ],
   "source": [
    "x = falsi(f,-1.0,1,tol = 1.0e-4)\n",
    "print('x = ','{:8.6f}'.format(x))"
   ]
  },
  {
   "cell_type": "code",
   "execution_count": 4,
   "metadata": {},
   "outputs": [],
   "source": [
    "from secant import *"
   ]
  },
  {
   "cell_type": "code",
   "execution_count": 8,
   "metadata": {},
   "outputs": [
    {
     "name": "stdout",
     "output_type": "stream",
     "text": [
      "0 -1.000000 0.000000 0.500000 -0.500000\n",
      "1 0.000000 0.500000 8.000000 -0.468750\n",
      "2 0.500000 8.000000 0.500107 32767.500000\n",
      "3 8.000000 0.500107 0.500215 -0.468716\n",
      "4 0.500107 0.500215 1.998070 -0.468683\n",
      "5 0.500215 1.998070 0.522281 31.345935\n",
      "6 1.998070 0.522281 0.543676 -0.461139\n",
      "7 0.522281 0.543676 1.664298 -0.452499\n",
      "8 0.543676 1.664298 0.583537 12.268967\n",
      "9 1.664298 0.583537 0.620325 -0.432339\n",
      "10 0.583537 0.620325 1.240979 -0.408147\n",
      "11 0.620325 1.240979 0.709166 2.443218\n",
      "12 1.240979 0.709166 0.770861 -0.320635\n",
      "13 0.709166 0.770861 0.922261 -0.227804\n",
      "14 0.770861 0.922261 0.858171 0.167222\n",
      "15 0.922261 0.858171 0.869146 -0.034554\n",
      "16 0.858171 0.869146 0.870591 -0.004019\n",
      "17 0.869146 0.870591 0.870550 0.000117\n",
      "x =  0.870591\n"
     ]
    }
   ],
   "source": [
    "x = secant(f,-1.0,0,30,tol = 1.0e-4)\n",
    "print('x = ','{:8.6f}'.format(x))"
   ]
  },
  {
   "cell_type": "code",
   "execution_count": null,
   "metadata": {},
   "outputs": [],
   "source": []
  }
 ],
 "metadata": {
  "kernelspec": {
   "display_name": "Python 3",
   "language": "python",
   "name": "python3"
  },
  "language_info": {
   "codemirror_mode": {
    "name": "ipython",
    "version": 3
   },
   "file_extension": ".py",
   "mimetype": "text/x-python",
   "name": "python",
   "nbconvert_exporter": "python",
   "pygments_lexer": "ipython3",
   "version": "3.6.6"
  }
 },
 "nbformat": 4,
 "nbformat_minor": 2
}
