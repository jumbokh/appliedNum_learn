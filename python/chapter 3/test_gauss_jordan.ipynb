{
 "cells": [
  {
   "cell_type": "code",
   "execution_count": 12,
   "metadata": {},
   "outputs": [],
   "source": [
    "# -*- coding: utf-8 -*-\n",
    "\n",
    "\n",
    "def pprint(A):\n",
    "    n = len(A)\n",
    "    for i in range(0, n):\n",
    "        line = \"\"\n",
    "        for j in range(0, n+1):\n",
    "            line += str(A[i][j]) + \"\\t\"\n",
    "            if j == n-1:\n",
    "                line += \"| \"\n",
    "        print(line)\n",
    "    print(\"\")\n",
    "\n",
    "\n",
    "def gauss(A):\n",
    "    n = len(A)\n",
    "\n",
    "    for i in range(0, n):\n",
    "        # Search for maximum in this column\n",
    "        maxEl = abs(A[i][i])\n",
    "        maxRow = i\n",
    "        for k in range(i+1, n):\n",
    "            if abs(A[k][i]) > maxEl:\n",
    "                maxEl = abs(A[k][i])\n",
    "                maxRow = k\n",
    "\n",
    "        # Swap maximum row with current row (column by column)\n",
    "        for k in range(i, n+1):\n",
    "            tmp = A[maxRow][k]\n",
    "            A[maxRow][k] = A[i][k]\n",
    "            A[i][k] = tmp\n",
    "\n",
    "        # Make all rows below this one 0 in current column\n",
    "        for k in range(i+1, n):\n",
    "            c = -A[k][i]/A[i][i]\n",
    "            for j in range(i, n+1):\n",
    "                if i == j:\n",
    "                    A[k][j] = 0\n",
    "                else:\n",
    "                    A[k][j] += c * A[i][j]\n",
    "\n",
    "    # Solve equation Ax=b for an upper triangular matrix A\n",
    "    x = [0 for i in range(n)]\n",
    "    for i in range(n-1, -1, -1):\n",
    "        x[i] = A[i][n]/A[i][i]\n",
    "        for k in range(i-1, -1, -1):\n",
    "            A[k][n] -= A[k][i] * x[i]\n",
    "    return x\n"
   ]
  },
  {
   "cell_type": "code",
   "execution_count": 16,
   "metadata": {},
   "outputs": [
    {
     "name": "stdout",
     "output_type": "stream",
     "text": [
      "3\n",
      "3 -1 2\n",
      "1 1 2\n",
      "3 -2 -1\n",
      "\n",
      "1 0 0\n",
      "3\t-1\t2\t| 1\t\n",
      "1\t1\t2\t| 0\t\n",
      "3\t-2\t-1\t| 0\t\n",
      "\n",
      "Result:\t-3/8\t-7/8\t5/8\t\n"
     ]
    }
   ],
   "source": [
    "if __name__ == \"__main__\":\n",
    "    from fractions import Fraction\n",
    "    import numpy as np\n",
    "    n = int(input())\n",
    "\n",
    "    A = [[0 for j in range(n+1)] for i in range(n)]\n",
    "\n",
    "    # Read input data\n",
    "    for i in range(0, n):\n",
    "        line = list(map(Fraction, input().split(\" \")))\n",
    "        for j, el in enumerate(line):\n",
    "            A[i][j] = el\n",
    "    input()\n",
    "\n",
    "    line = input().split(\" \")\n",
    "    lastLine = list(map(Fraction, line))\n",
    "    for i in range(0, n):\n",
    "        A[i][n] = lastLine[i]\n",
    "\n",
    "    # Print input\n",
    "    pprint(A)\n",
    "\n",
    "    # Calculate solution\n",
    "    x = gauss(A)\n",
    "\n",
    "    # Print result\n",
    "    line = \"Result:\\t\"\n",
    "    for i in range(0, n):\n",
    "        line += str(x[i]) + \"\\t\"\n",
    "    print(line)"
   ]
  },
  {
   "cell_type": "code",
   "execution_count": null,
   "metadata": {},
   "outputs": [],
   "source": []
  }
 ],
 "metadata": {
  "kernelspec": {
   "display_name": "Python 3",
   "language": "python",
   "name": "python3"
  },
  "language_info": {
   "codemirror_mode": {
    "name": "ipython",
    "version": 3
   },
   "file_extension": ".py",
   "mimetype": "text/x-python",
   "name": "python",
   "nbconvert_exporter": "python",
   "pygments_lexer": "ipython3",
   "version": "3.6.6"
  }
 },
 "nbformat": 4,
 "nbformat_minor": 2
}
