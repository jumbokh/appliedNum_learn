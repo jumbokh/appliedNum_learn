{
 "cells": [
  {
   "cell_type": "code",
   "execution_count": 1,
   "metadata": {},
   "outputs": [
    {
     "name": "stdout",
     "output_type": "stream",
     "text": [
      "None\n"
     ]
    }
   ],
   "source": [
    "from inverse import *"
   ]
  },
  {
   "cell_type": "code",
   "execution_count": 2,
   "metadata": {},
   "outputs": [],
   "source": [
    "A = [[0,2,0,1],[2,2,3,2],[4,-3,0,1],[6,1,-6,-5]]"
   ]
  },
  {
   "cell_type": "code",
   "execution_count": 10,
   "metadata": {},
   "outputs": [
    {
     "name": "stdout",
     "output_type": "stream",
     "text": [
      "-0.03 , 0.13 , 0.09 , 0.06 , \n",
      "0.18 , 0.1 , -0.13 , 0.05 , \n",
      "-0.53 , 0.32 , -0.15 , -0.01 , \n",
      "0.64 , -0.21 , 0.26 , -0.1 , \n"
     ]
    }
   ],
   "source": [
    "B = inverse(A)\n",
    "for a in B:\n",
    "    for x in a:\n",
    "        print(round(x,2),\", \",end=\"\")\n",
    "    print()"
   ]
  },
  {
   "cell_type": "code",
   "execution_count": 11,
   "metadata": {},
   "outputs": [],
   "source": [
    "A1 = [[3,-1,2],[1,1,2],[2,-2,-1]]"
   ]
  },
  {
   "cell_type": "code",
   "execution_count": 12,
   "metadata": {},
   "outputs": [
    {
     "name": "stdout",
     "output_type": "stream",
     "text": [
      "-0.75 , 1.25 , 1.0 , \n",
      "-1.25 , 1.75 , 1.0 , \n",
      "1.0 , -1.0 , -1.0 , \n"
     ]
    }
   ],
   "source": [
    "B1 = inverse(A1)\n",
    "for a in B1:\n",
    "    for x in a:\n",
    "        print(round(x,2),\", \",end=\"\")\n",
    "    print()"
   ]
  },
  {
   "cell_type": "code",
   "execution_count": null,
   "metadata": {},
   "outputs": [],
   "source": []
  }
 ],
 "metadata": {
  "kernelspec": {
   "display_name": "Python 3",
   "language": "python",
   "name": "python3"
  },
  "language_info": {
   "codemirror_mode": {
    "name": "ipython",
    "version": 3
   },
   "file_extension": ".py",
   "mimetype": "text/x-python",
   "name": "python",
   "nbconvert_exporter": "python",
   "pygments_lexer": "ipython3",
   "version": "3.5.3"
  }
 },
 "nbformat": 4,
 "nbformat_minor": 2
}
