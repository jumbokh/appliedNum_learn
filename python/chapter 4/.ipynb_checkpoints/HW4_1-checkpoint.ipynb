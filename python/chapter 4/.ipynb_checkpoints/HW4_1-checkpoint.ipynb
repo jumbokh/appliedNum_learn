{
 "cells": [
  {
   "cell_type": "code",
   "execution_count": 1,
   "metadata": {
    "collapsed": true
   },
   "outputs": [],
   "source": [
    "from LUdecompx import *\n",
    "from ppmat import *"
   ]
  },
  {
   "cell_type": "code",
   "execution_count": 7,
   "metadata": {},
   "outputs": [
    {
     "name": "stdout",
     "output_type": "stream",
     "text": [
      "[[ 1  2  3]\n",
      " [ 2  4  5]\n",
      " [ 3 22 35]]\n",
      "[[ 1  2  3]\n",
      " [ 2  4  5]\n",
      " [ 3 16 26]]\n",
      "[[ 1  2  3]\n",
      " [ 2  4  5]\n",
      " [ 3 16  6]]\n",
      "[[1 2 3]\n",
      " [2 4 5]\n",
      " [3 4 6]]\n",
      "\n",
      "    1   ,     0   ,     0   \n",
      "    2   ,     1   ,     0   \n",
      "    3   ,     4   ,     1   \n"
     ]
    }
   ],
   "source": [
    "A = np.array([[1,2,3],[2,8,11],[3,22,35]])\n",
    "a,L = LUdecompx(A)\n",
    "print(a)\n",
    "ppmat(L)"
   ]
  },
  {
   "cell_type": "code",
   "execution_count": 8,
   "metadata": {},
   "outputs": [
    {
     "name": "stdout",
     "output_type": "stream",
     "text": [
      "\n",
      "    1   ,     0   ,     0   \n",
      "    2   ,     1   ,     0   \n",
      "    3   ,     4   ,     1   \n",
      "--------------------------\n",
      "[[1 2 3]\n",
      " [2 4 5]\n",
      " [3 4 6]]\n",
      "==========================\n",
      "\n",
      "    1   ,     2   ,     3   \n",
      "    4   ,     8   ,    11   \n",
      "   14   ,    26   ,    35   \n"
     ]
    }
   ],
   "source": [
    "import numpy as np\n",
    "L = np.array(L)\n",
    "U = np.array(a)\n",
    "c = L.dot(U)\n",
    "ppmat(L)\n",
    "print(\"--------------------------\")\n",
    "print(U)\n",
    "print(\"==========================\")\n",
    "ppmat(c)"
   ]
  },
  {
   "cell_type": "code",
   "execution_count": null,
   "metadata": {
    "collapsed": true
   },
   "outputs": [],
   "source": []
  }
 ],
 "metadata": {
  "kernelspec": {
   "display_name": "Python 3",
   "language": "python",
   "name": "python3"
  },
  "language_info": {
   "codemirror_mode": {
    "name": "ipython",
    "version": 3
   },
   "file_extension": ".py",
   "mimetype": "text/x-python",
   "name": "python",
   "nbconvert_exporter": "python",
   "pygments_lexer": "ipython3",
   "version": "3.6.6"
  }
 },
 "nbformat": 4,
 "nbformat_minor": 2
}
