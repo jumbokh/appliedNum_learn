{
 "cells": [
  {
   "cell_type": "code",
   "execution_count": 7,
   "metadata": {},
   "outputs": [],
   "source": [
    "import numpy as np\n",
    "from numpy import zeros\n",
    "import scipy.linalg as alg"
   ]
  },
  {
   "cell_type": "code",
   "execution_count": 8,
   "metadata": {},
   "outputs": [],
   "source": [
    "#c = np.array([4,1,2,5,0])\n",
    "#d = np.array([1,17,3,1,21])\n",
    "#e = np.array([0,4,2,0,4])\n",
    "A = np.array([[1,4,0,0,0],[4,17,1,0,0],[0,2,3,2,0],[0,0,0,1,5],[0,0,0,4,21]])\n",
    "r = np.array([[-7],[-27],[-3],[21],[89]])"
   ]
  },
  {
   "cell_type": "code",
   "execution_count": 9,
   "metadata": {},
   "outputs": [
    {
     "name": "stdout",
     "output_type": "stream",
     "text": [
      "5\n"
     ]
    }
   ],
   "source": [
    "n= len(A)\n",
    "print(n)"
   ]
  },
  {
   "cell_type": "code",
   "execution_count": 10,
   "metadata": {},
   "outputs": [],
   "source": [
    "def matrixMul(A, B):\n",
    "    return [[sum(ea*eb for ea,eb in zip(a,b)) for b in B] for a in A]\n",
    "\n",
    "def pivotize(m):\n",
    "        #Creates the pivoting matrix for m.\n",
    "        n = len(m)\n",
    "        ID = [[float(i == j) for i in range(n)] for j in range(n)]\n",
    "        for j in range(n):\n",
    "            row = max(range(j, n), key=lambda i: abs(m[i][j]))\n",
    "            if j != row:\n",
    "                ID[j], ID[row] = ID[row], ID[j]\n",
    "        return ID\n",
    "\n",
    "def lu(A):\n",
    "        #Decomposes a nxn matrix A by PA=LU and returns L, U and P.\n",
    "        n = len(A)\n",
    "        # create zero array\n",
    "\n",
    "        a = [A[0][1],A[1][2],A[2][3],A[3][4],0]\n",
    "        d = [A[0][0],A[1][1],A[2][2],A[3][3],A[4][4]]\n",
    "        b = [      0,A[1][0],A[2][1],A[3][2],A[4][3]]\n",
    "        D = zeros([n])\n",
    "        B = zeros([n])\n",
    "        D[0]=d[0]\n",
    "        for i in range(1,n):\n",
    "          B[i] = b[i]/D[i-1]\n",
    "          D[i] = d[i] - B[i]*a[i-1]\n",
    "            \n",
    "        #print(a)\n",
    "        L = np.eye(n)\n",
    "        U = np.zeros(n*n).reshape(n,n)        \n",
    "        #U = [[0.0] * n for i in range(n)]\n",
    "        for i in range(n):\n",
    "            if i<n-1:\n",
    "              U[i][i+1] = a[i]\n",
    "              L[i+1][i] = B[i+1]\n",
    "            U[i][i] = D[i]\n",
    "        return L,U,B,D"
   ]
  },
  {
   "cell_type": "code",
   "execution_count": 11,
   "metadata": {},
   "outputs": [
    {
     "name": "stdout",
     "output_type": "stream",
     "text": [
      "[[1. 0. 0. 0. 0.]\n",
      " [4. 1. 0. 0. 0.]\n",
      " [0. 2. 1. 0. 0.]\n",
      " [0. 0. 0. 1. 0.]\n",
      " [0. 0. 0. 4. 1.]]\n",
      "============================\n",
      "[[1. 4. 0. 0. 0.]\n",
      " [0. 1. 1. 0. 0.]\n",
      " [0. 0. 1. 2. 0.]\n",
      " [0. 0. 0. 1. 5.]\n",
      " [0. 0. 0. 0. 1.]]\n",
      "============================\n",
      "[0. 4. 2. 0. 4.]\n",
      "============================\n",
      "[1. 1. 1. 1. 1.]\n",
      "============================\n"
     ]
    }
   ],
   "source": [
    "L,U,D,B = lu(A)\n",
    "print(L)\n",
    "print(\"============================\")\n",
    "print(U)\n",
    "print(\"============================\")\n",
    "print(D)\n",
    "print(\"============================\")\n",
    "print(B)\n",
    "print(\"============================\")"
   ]
  },
  {
   "cell_type": "code",
   "execution_count": 12,
   "metadata": {},
   "outputs": [
    {
     "name": "stdout",
     "output_type": "stream",
     "text": [
      "[[ 1.  4.  0.  0.  0.]\n",
      " [ 4. 17.  1.  0.  0.]\n",
      " [ 0.  2.  3.  2.  0.]\n",
      " [ 0.  0.  0.  1.  5.]\n",
      " [ 0.  0.  0.  4. 21.]]\n",
      "[[ 1  4  0  0  0]\n",
      " [ 4 17  1  0  0]\n",
      " [ 0  2  3  2  0]\n",
      " [ 0  0  0  1  5]\n",
      " [ 0  0  0  4 21]]\n"
     ]
    }
   ],
   "source": [
    "nA = np.dot(L,U)\n",
    "print(nA)\n",
    "print(A)"
   ]
  },
  {
   "cell_type": "code",
   "execution_count": null,
   "metadata": {},
   "outputs": [],
   "source": []
  }
 ],
 "metadata": {
  "kernelspec": {
   "display_name": "Python 3",
   "language": "python",
   "name": "python3"
  },
  "language_info": {
   "codemirror_mode": {
    "name": "ipython",
    "version": 3
   },
   "file_extension": ".py",
   "mimetype": "text/x-python",
   "name": "python",
   "nbconvert_exporter": "python",
   "pygments_lexer": "ipython3",
   "version": "3.6.6"
  }
 },
 "nbformat": 4,
 "nbformat_minor": 2
}
