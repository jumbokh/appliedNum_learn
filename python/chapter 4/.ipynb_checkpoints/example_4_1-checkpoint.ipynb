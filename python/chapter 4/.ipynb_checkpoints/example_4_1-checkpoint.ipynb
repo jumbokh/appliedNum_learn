{
 "cells": [
  {
   "cell_type": "code",
   "execution_count": 1,
   "metadata": {
    "collapsed": true
   },
   "outputs": [],
   "source": [
    "from LUdecomp import *"
   ]
  },
  {
   "cell_type": "code",
   "execution_count": 1,
   "metadata": {
    "collapsed": true
   },
   "outputs": [],
   "source": [
    "A = [[4,12,8,4],[1,7,18,9],[2,9,20,20],[3,11,15,14]]"
   ]
  },
  {
   "cell_type": "code",
   "execution_count": 5,
   "metadata": {},
   "outputs": [
    {
     "name": "stdout",
     "output_type": "stream",
     "text": [
      "[[ 4 12  8  4]\n",
      " [ 0  4 16  8]\n",
      " [ 0  0  4 12]\n",
      " [ 0  0  0  4]]\n"
     ]
    }
   ],
   "source": [
    "a = LUdecomp(np.array(A))\n",
    "print(a)"
   ]
  },
  {
   "cell_type": "code",
   "execution_count": 1,
   "metadata": {},
   "outputs": [
    {
     "ename": "TabError",
     "evalue": "inconsistent use of tabs and spaces in indentation (LUdecompx.py, line 13)",
     "output_type": "error",
     "traceback": [
      "Traceback \u001b[1;36m(most recent call last)\u001b[0m:\n",
      "  File \u001b[0;32m\"C:\\ProgramData\\Anaconda3\\lib\\site-packages\\IPython\\core\\interactiveshell.py\"\u001b[0m, line \u001b[0;32m2862\u001b[0m, in \u001b[0;35mrun_code\u001b[0m\n    exec(code_obj, self.user_global_ns, self.user_ns)\n",
      "\u001b[1;36m  File \u001b[1;32m\"<ipython-input-1-7f4c15aa9ff5>\"\u001b[1;36m, line \u001b[1;32m1\u001b[1;36m, in \u001b[1;35m<module>\u001b[1;36m\u001b[0m\n\u001b[1;33m    from LUdecompx import *\u001b[0m\n",
      "\u001b[1;36m  File \u001b[1;32m\"E:\\1071\\appliedNum_learn\\python\\chapter 4\\LUdecompx.py\"\u001b[1;36m, line \u001b[1;32m13\u001b[0m\n\u001b[1;33m    L = np.eye(n, dtype = 'int')\u001b[0m\n\u001b[1;37m                                ^\u001b[0m\n\u001b[1;31mTabError\u001b[0m\u001b[1;31m:\u001b[0m inconsistent use of tabs and spaces in indentation\n"
     ]
    }
   ],
   "source": [
    "from LUdecompx import *\n",
    "from ppmat import *"
   ]
  },
  {
   "cell_type": "code",
   "execution_count": 2,
   "metadata": {},
   "outputs": [
    {
     "name": "stdout",
     "output_type": "stream",
     "text": [
      "  1/4\n",
      "  1/2\n",
      "  3/4\n",
      "----\n",
      "  3/4\n",
      "  1/2\n",
      "----\n",
      "  1/4\n",
      "----\n"
     ]
    }
   ],
   "source": [
    "A = [[4,12,8,4],[1,7,18,9],[2,9,20,20],[3,11,15,14]]\n",
    "a,L = LUdecompx(np.array(A))\n",
    "ppmat(a)\n",
    "ppmat(L)"
   ]
  },
  {
   "cell_type": "code",
   "execution_count": null,
   "metadata": {
    "collapsed": true
   },
   "outputs": [],
   "source": []
  }
 ],
 "metadata": {
  "kernelspec": {
   "display_name": "Python 3",
   "language": "python",
   "name": "python3"
  },
  "language_info": {
   "codemirror_mode": {
    "name": "ipython",
    "version": 3
   },
   "file_extension": ".py",
   "mimetype": "text/x-python",
   "name": "python",
   "nbconvert_exporter": "python",
   "pygments_lexer": "ipython3",
   "version": "3.6.6"
  }
 },
 "nbformat": 4,
 "nbformat_minor": 2
}
