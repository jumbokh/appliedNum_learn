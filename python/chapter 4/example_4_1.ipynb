{
 "cells": [
  {
   "cell_type": "code",
   "execution_count": 1,
   "metadata": {
    "collapsed": true
   },
   "outputs": [],
   "source": [
    "from LUdecomp import *"
   ]
  },
  {
   "cell_type": "code",
   "execution_count": 1,
   "metadata": {
    "collapsed": true
   },
   "outputs": [],
   "source": [
    "A = [[4,12,8,4],[1,7,18,9],[2,9,20,20],[3,11,15,14]]"
   ]
  },
  {
   "cell_type": "code",
   "execution_count": 5,
   "metadata": {},
   "outputs": [
    {
     "name": "stdout",
     "output_type": "stream",
     "text": [
      "[[ 4 12  8  4]\n",
      " [ 0  4 16  8]\n",
      " [ 0  0  4 12]\n",
      " [ 0  0  0  4]]\n"
     ]
    }
   ],
   "source": [
    "a = LUdecomp(np.array(A))\n",
    "print(a)"
   ]
  },
  {
   "cell_type": "code",
   "execution_count": 2,
   "metadata": {
    "collapsed": true
   },
   "outputs": [],
   "source": [
    "from LUdecompx import *\n",
    "from ppmat import *"
   ]
  },
  {
   "cell_type": "code",
   "execution_count": 3,
   "metadata": {},
   "outputs": [
    {
     "name": "stdout",
     "output_type": "stream",
     "text": [
      "[[ 4 12  8  4]\n",
      " [ 1  4 16  8]\n",
      " [ 2  9 20 20]\n",
      " [ 3 11 15 14]]\n",
      "[[ 4 12  8  4]\n",
      " [ 0  4 16  8]\n",
      " [ 2  3 16 18]\n",
      " [ 3 11 15 14]]\n",
      "[[ 4 12  8  4]\n",
      " [ 0  4 16  8]\n",
      " [ 0  3 16 18]\n",
      " [ 3  2  9 11]]\n",
      "[[ 4 12  8  4]\n",
      " [ 0  4 16  8]\n",
      " [ 0  3  4 12]\n",
      " [ 0  2  9 11]]\n",
      "[[ 4 12  8  4]\n",
      " [ 0  4 16  8]\n",
      " [ 0  0  4 12]\n",
      " [ 0  2  1  7]]\n",
      "[[ 4 12  8  4]\n",
      " [ 0  4 16  8]\n",
      " [ 0  0  4 12]\n",
      " [ 0  0  1  4]]\n",
      "[[ 4 12  8  4]\n",
      " [ 0  4 16  8]\n",
      " [ 0  0  4 12]\n",
      " [ 0  0  0  4]]\n",
      "\n",
      "    1   ,     0   ,     0   ,     0   \n",
      "  1/4   ,     1   ,     0   ,     0   \n",
      "  1/2   ,   3/4   ,     1   ,     0   \n",
      "  3/4   ,   1/2   ,   1/4   ,     1   \n"
     ]
    }
   ],
   "source": [
    "A = [[4,12,8,4],[1,7,18,9],[2,9,20,20],[3,11,15,14]]\n",
    "a,L = LUdecompx(np.array(A))\n",
    "print(a)\n",
    "ppmat(L)"
   ]
  },
  {
   "cell_type": "code",
   "execution_count": 4,
   "metadata": {},
   "outputs": [
    {
     "name": "stdout",
     "output_type": "stream",
     "text": [
      "\n",
      "    1   ,     0   ,     0   ,     0   \n",
      "  1/4   ,     1   ,     0   ,     0   \n",
      "  1/2   ,   3/4   ,     1   ,     0   \n",
      "  3/4   ,   1/2   ,   1/4   ,     1   \n",
      "--------------------------\n",
      "[[ 4 12  8  4]\n",
      " [ 0  4 16  8]\n",
      " [ 0  0  4 12]\n",
      " [ 0  0  0  4]]\n",
      "==========================\n",
      "\n",
      "    4   ,    12   ,     8   ,     4   \n",
      "    1   ,     7   ,    18   ,     9   \n",
      "    2   ,     9   ,    20   ,    20   \n",
      "    3   ,    11   ,    15   ,    14   \n"
     ]
    }
   ],
   "source": [
    "import numpy as np\n",
    "L = np.array(L)\n",
    "U = np.array(a)\n",
    "c = L.dot(U)\n",
    "ppmat(L)\n",
    "print(\"--------------------------\")\n",
    "print(U)\n",
    "print(\"==========================\")\n",
    "ppmat(c)"
   ]
  },
  {
   "cell_type": "code",
   "execution_count": null,
   "metadata": {
    "collapsed": true
   },
   "outputs": [],
   "source": []
  }
 ],
 "metadata": {
  "kernelspec": {
   "display_name": "Python 3",
   "language": "python",
   "name": "python3"
  },
  "language_info": {
   "codemirror_mode": {
    "name": "ipython",
    "version": 3
   },
   "file_extension": ".py",
   "mimetype": "text/x-python",
   "name": "python",
   "nbconvert_exporter": "python",
   "pygments_lexer": "ipython3",
   "version": "3.6.2"
  }
 },
 "nbformat": 4,
 "nbformat_minor": 2
}
