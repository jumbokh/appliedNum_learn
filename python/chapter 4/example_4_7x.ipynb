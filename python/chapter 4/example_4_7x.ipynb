{
 "cells": [
  {
   "cell_type": "code",
   "execution_count": 1,
   "metadata": {},
   "outputs": [],
   "source": [
    "from GaussLU import *\n",
    "import numpy as np"
   ]
  },
  {
   "cell_type": "code",
   "execution_count": 2,
   "metadata": {},
   "outputs": [],
   "source": [
    "c = np.array([4,1,2,5,0])\n",
    "d = np.array([1,17,3,1,21])\n",
    "e = np.array([0,4,2,0,4])\n",
    "A = np.array([[1,4,0,0,0],[4,17,1,0,0],[0,2,3,2,0],[0,0,0,1,5],[0,0,0,4,21]])\n",
    "r = np.array([[-7],[-27],[-3],[21],[89]])"
   ]
  },
  {
   "cell_type": "code",
   "execution_count": 3,
   "metadata": {},
   "outputs": [],
   "source": [
    "def matrixMul(A, B):\n",
    "    return [[sum(ea*eb for ea,eb in zip(a,b)) for b in B] for a in A]\n",
    "\n",
    "def pivotize(m):\n",
    "        #Creates the pivoting matrix for m.\n",
    "        n = len(m)\n",
    "        ID = [[float(i == j) for i in range(n)] for j in range(n)]\n",
    "        for j in range(n):\n",
    "            row = max(range(j, n), key=lambda i: abs(m[i][j]))\n",
    "            if j != row:\n",
    "                ID[j], ID[row] = ID[row], ID[j]\n",
    "        return ID\n",
    "\n",
    "def lu(A):\n",
    "        #Decomposes a nxn matrix A by PA=LU and returns L, U and P.\n",
    "        n = len(A)\n",
    "        L = [[0.0] * n for i in range(n)]\n",
    "        U = [[0.0] * n for i in range(n)]\n",
    "        P = pivotize(A)\n",
    "        A2 = matrixMul(P, A)\n",
    "        for j in range(n):\n",
    "            L[j][j] = 1.0\n",
    "            for i in range(j+1):\n",
    "                s1 = sum(U[k][j] * L[i][k] for k in range(i))\n",
    "                U[i][j] = A2[i][j] - s1\n",
    "            for i in range(j, n):\n",
    "                s2 = sum(U[k][j] * L[i][k] for k in range(j))\n",
    "                L[i][j] = (A2[i][j] - s2) / U[j][j]\n",
    "        return L\n"
   ]
  },
  {
   "cell_type": "code",
   "execution_count": 16,
   "metadata": {},
   "outputs": [
    {
     "name": "stdout",
     "output_type": "stream",
     "text": [
      "5\n",
      "LU factorization: \n",
      "\n",
      " 1.00     , 0.00     , 0.00     , 0.00     , 0.00     ,\n",
      " 0.25     , 1.00     , 0.00     , 0.00     , 0.00     ,\n",
      " 0.00     , -4.00    , 1.00     , 0.00     , 0.00     ,\n",
      " 0.00     , -0.00    , 0.00     , 1.00     , 0.00     ,\n",
      " 0.00     , -0.00    , 2.00     , 0.20     , 1.00     ,\n"
     ]
    }
   ],
   "source": [
    "L = lu(A)\n",
    "n = len(L)\n",
    "print(n)\n",
    "print('LU factorization: \\n')\n",
    "f_f = lambda x: \" %-8.2f\" % x\n",
    "for i in range(n):\n",
    "    for k in range(n):\n",
    "     print(f_f(L[i][k]),',',end='')     \n",
    "    print()"
   ]
  },
  {
   "cell_type": "code",
   "execution_count": 30,
   "metadata": {},
   "outputs": [
    {
     "name": "stdout",
     "output_type": "stream",
     "text": [
      "Internal solver : \n",
      "\n",
      "\n",
      " 1.0, -2.0, 3.0, -4.0, 5.0,\n"
     ]
    }
   ],
   "source": [
    "x = np.linalg.solve(A,r)\n",
    "\n",
    "print('Internal solver : \\n\\n')\n",
    "for i in range(len(x)):\n",
    "    print(' {},'.format(x[i][0]),end='')\n",
    "print()"
   ]
  },
  {
   "cell_type": "code",
   "execution_count": 22,
   "metadata": {},
   "outputs": [],
   "source": [
    "import scipy.linalg as alg\n",
    "import numpy as np\n",
    "from ppmat import *"
   ]
  },
  {
   "cell_type": "code",
   "execution_count": 23,
   "metadata": {},
   "outputs": [],
   "source": [
    "A = np.array([[1,4,0,0,0],[4,17,1,0,0],[0,2,3,2,0],[0,0,0,1,5],[0,0,0,4,21]])\n",
    "r = np.array([[-7],[-27],[-3],[21],[89]])\n",
    "P,L,U = alg.lu(A,permute_l=False)"
   ]
  },
  {
   "cell_type": "code",
   "execution_count": 26,
   "metadata": {},
   "outputs": [
    {
     "name": "stdout",
     "output_type": "stream",
     "text": [
      "P = \n",
      "    0   ,     0   ,     1   ,     0   ,     0   \n",
      "    1   ,     0   ,     0   ,     0   ,     0   \n",
      "    0   ,     1   ,     0   ,     0   ,     0   \n",
      "    0   ,     0   ,     0   ,     0   ,     1   \n",
      "    0   ,     0   ,     0   ,     1   ,     0   \n",
      "L = \n",
      "    1   ,     0   ,     0   ,     0   ,     0   \n",
      "    0   ,     1   ,     0   ,     0   ,     0   \n",
      "  1/4   ,  -1/8   ,     1   ,     0   ,     0   \n",
      "    0   ,     0   ,     0   ,     1   ,     0   \n",
      "    0   ,     0   ,     0   ,   1/4   ,     1   \n",
      "U = \n",
      "    4   ,    17   ,     1   ,     0   ,     0   \n",
      "    0   ,     2   ,     3   ,     2   ,     0   \n",
      "    0   ,     0   ,   1/8   ,   1/4   ,     0   \n",
      "    0   ,     0   ,     0   ,     4   ,    21   \n",
      "    0   ,     0   ,     0   ,     0   ,  -1/4   \n"
     ]
    }
   ],
   "source": [
    "print('P = ',end='')\n",
    "ppmat(P)\n",
    "print('L = ',end='')\n",
    "ppmat(L)\n",
    "print('U = ',end='')\n",
    "ppmat(U)"
   ]
  },
  {
   "cell_type": "code",
   "execution_count": null,
   "metadata": {},
   "outputs": [],
   "source": []
  }
 ],
 "metadata": {
  "kernelspec": {
   "display_name": "Python 3",
   "language": "python",
   "name": "python3"
  },
  "language_info": {
   "codemirror_mode": {
    "name": "ipython",
    "version": 3
   },
   "file_extension": ".py",
   "mimetype": "text/x-python",
   "name": "python",
   "nbconvert_exporter": "python",
   "pygments_lexer": "ipython3",
   "version": "3.5.6"
  }
 },
 "nbformat": 4,
 "nbformat_minor": 2
}
