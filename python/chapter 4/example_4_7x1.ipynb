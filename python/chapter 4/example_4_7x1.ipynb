{
 "cells": [
  {
   "cell_type": "code",
   "execution_count": 3,
   "metadata": {},
   "outputs": [],
   "source": [
    "from triDecompLU import *\n",
    "from ppmat import *\n",
    "A = np.array([[1,4,0,0,0],[4,17,1,0,0],[0,2,3,2,0],[0,0,0,1,5],[0,0,0,4,21]])\n",
    "r = np.array([[-7],[-27],[-3],[21],[89]])"
   ]
  },
  {
   "cell_type": "code",
   "execution_count": 4,
   "metadata": {},
   "outputs": [],
   "source": [
    "L,U,B,D = lu(A)"
   ]
  },
  {
   "cell_type": "code",
   "execution_count": 9,
   "metadata": {},
   "outputs": [
    {
     "name": "stdout",
     "output_type": "stream",
     "text": [
      "L:\n",
      "\n",
      "    1   ,     0   ,     0   ,     0   ,     0   \n",
      "    4   ,     1   ,     0   ,     0   ,     0   \n",
      "    0   ,     2   ,     1   ,     0   ,     0   \n",
      "    0   ,     0   ,     0   ,     1   ,     0   \n",
      "    0   ,     0   ,     0   ,     4   ,     1   \n",
      "===============================================\n",
      "U:\n",
      "\n",
      "    1   ,     4   ,     0   ,     0   ,     0   \n",
      "    0   ,     1   ,     1   ,     0   ,     0   \n",
      "    0   ,     0   ,     1   ,     2   ,     0   \n",
      "    0   ,     0   ,     0   ,     1   ,     5   \n",
      "    0   ,     0   ,     0   ,     0   ,     1   \n",
      "===============================================\n",
      "D:\n",
      "[1. 1. 1. 1. 1.]\n",
      "===============================================\n",
      "B:\n",
      "[0. 4. 2. 0. 4.]\n",
      "===============================================\n"
     ]
    }
   ],
   "source": [
    "print('L:')\n",
    "ppmat(L)\n",
    "print(\"===============================================\")\n",
    "print('U:')\n",
    "ppmat(U)\n",
    "print(\"===============================================\")\n",
    "print('D:')\n",
    "print(D)\n",
    "print(\"===============================================\")\n",
    "print('B:')\n",
    "print(B)\n",
    "print(\"===============================================\")"
   ]
  },
  {
   "cell_type": "code",
   "execution_count": 10,
   "metadata": {},
   "outputs": [
    {
     "name": "stdout",
     "output_type": "stream",
     "text": [
      "Internal solver : \n",
      "\n",
      "\n",
      " 1.0, -2.0, 3.0, -4.0, 5.0,\n"
     ]
    }
   ],
   "source": [
    "x = solve(A,r)\n",
    "print('Internal solver : \\n\\n')\n",
    "for i in range(len(x)):\n",
    "    print(' {},'.format(x[i][0]),end='')\n",
    "print()"
   ]
  },
  {
   "cell_type": "code",
   "execution_count": null,
   "metadata": {},
   "outputs": [],
   "source": []
  }
 ],
 "metadata": {
  "kernelspec": {
   "display_name": "Python 3",
   "language": "python",
   "name": "python3"
  },
  "language_info": {
   "codemirror_mode": {
    "name": "ipython",
    "version": 3
   },
   "file_extension": ".py",
   "mimetype": "text/x-python",
   "name": "python",
   "nbconvert_exporter": "python",
   "pygments_lexer": "ipython3",
   "version": "3.6.6"
  }
 },
 "nbformat": 4,
 "nbformat_minor": 2
}
