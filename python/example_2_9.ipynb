{
 "cells": [
  {
   "cell_type": "code",
   "execution_count": 7,
   "metadata": {},
   "outputs": [],
   "source": [
    "from newton import *"
   ]
  },
  {
   "cell_type": "code",
   "execution_count": 8,
   "metadata": {},
   "outputs": [],
   "source": [
    "def f(x):\n",
    "    return x**3-3.0*x**2+4.0/3.0"
   ]
  },
  {
   "cell_type": "code",
   "execution_count": 9,
   "metadata": {},
   "outputs": [],
   "source": [
    "def fpr(x):\n",
    "    return 3.0*x**2-6.0*x"
   ]
  },
  {
   "cell_type": "code",
   "execution_count": 10,
   "metadata": {},
   "outputs": [
    {
     "name": "stdout",
     "output_type": "stream",
     "text": [
      "0 0.500000 0.814815 0.708333\n",
      "1 0.814815 0.774270 -0.117462\n",
      "2 0.774270 0.773926 -0.000980\n",
      "3 0.773926 0.773926 -0.000000\n",
      "x =  0.773926\n"
     ]
    }
   ],
   "source": [
    "x = newton(f,fpr,0.5,30,tol = 1.0e-5)\n",
    "print('x = ','{:8.6f}'.format(x))"
   ]
  },
  {
   "cell_type": "code",
   "execution_count": 11,
   "metadata": {},
   "outputs": [
    {
     "name": "stdout",
     "output_type": "stream",
     "text": [
      "1 0.000000 2.000000 0.666667 0.296296\n",
      "2 0.666667 2.000000 0.800000 -0.074667\n",
      "3 0.666667 0.800000 0.773163 0.002173\n",
      "4 0.773163 0.800000 0.773922 0.000013\n",
      "5 0.773922 0.800000 0.773926 0.000000\n",
      "regula falsi has coverged\n",
      "x =  0.773926\n"
     ]
    }
   ],
   "source": [
    "from falsi import *\n",
    "x = falsi(f, 0,2, tol = 1.0e-5)\n",
    "print('x = ','{:8.6f}'.format(x))"
   ]
  },
  {
   "cell_type": "code",
   "execution_count": null,
   "metadata": {},
   "outputs": [],
   "source": []
  }
 ],
 "metadata": {
  "kernelspec": {
   "display_name": "Python 3",
   "language": "python",
   "name": "python3"
  },
  "language_info": {
   "codemirror_mode": {
    "name": "ipython",
    "version": 3
   },
   "file_extension": ".py",
   "mimetype": "text/x-python",
   "name": "python",
   "nbconvert_exporter": "python",
   "pygments_lexer": "ipython3",
   "version": "3.6.6"
  }
 },
 "nbformat": 4,
 "nbformat_minor": 2
}
