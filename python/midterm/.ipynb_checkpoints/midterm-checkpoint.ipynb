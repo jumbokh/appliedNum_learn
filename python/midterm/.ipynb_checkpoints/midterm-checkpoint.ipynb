{
 "cells": [
  {
   "cell_type": "markdown",
   "metadata": {},
   "source": [
    "### No.1\n",
    "'''\n",
    "A = [[3,-1,2],[1,1,2],[2,-2,-1]],\n",
    "b = [7, 9, -5]\n",
    "'''"
   ]
  },
  {
   "cell_type": "code",
   "execution_count": 1,
   "metadata": {},
   "outputs": [],
   "source": [
    "from gauss_jordan import *"
   ]
  },
  {
   "cell_type": "code",
   "execution_count": 2,
   "metadata": {},
   "outputs": [],
   "source": [
    "A = [[3,-1,2],[1,1,2],[2,-2,-1]]\n",
    "b = [7, 9, -5]"
   ]
  },
  {
   "cell_type": "code",
   "execution_count": 3,
   "metadata": {},
   "outputs": [
    {
     "name": "stdout",
     "output_type": "stream",
     "text": [
      "[1.0, 2.0, 3.0]\n",
      "None\n"
     ]
    }
   ],
   "source": [
    "x = gauss_jordan(A,b)\n",
    "print(x)"
   ]
  },
  {
   "cell_type": "code",
   "execution_count": 4,
   "metadata": {},
   "outputs": [],
   "source": [
    "def pprint(A):\n",
    "    n = len(A)\n",
    "    for i in range(0, n):\n",
    "        line = \"\"\n",
    "        for j in range(0, n+1):\n",
    "            line += str(A[i][j]) + \"\\t\"\n",
    "            if j == n-1:\n",
    "                line += \"| \"\n",
    "        print(line)\n",
    "    print(\"\")\n",
    "\n",
    "\n",
    "def gauss(A):\n",
    "    n = len(A)\n",
    "\n",
    "    for i in range(0, n):\n",
    "        # Search for maximum in this column\n",
    "        maxEl = abs(A[i][i])\n",
    "        maxRow = i\n",
    "        for k in range(i+1, n):\n",
    "            if abs(A[k][i]) > maxEl:\n",
    "                maxEl = abs(A[k][i])\n",
    "                maxRow = k\n",
    "\n",
    "        # Swap maximum row with current row (column by column)\n",
    "        for k in range(i, n+1):\n",
    "            tmp = A[maxRow][k]\n",
    "            A[maxRow][k] = A[i][k]\n",
    "            A[i][k] = tmp\n",
    "\n",
    "        # Make all rows below this one 0 in current column\n",
    "        for k in range(i+1, n):\n",
    "            c = -A[k][i]/A[i][i]\n",
    "            for j in range(i, n+1):\n",
    "                if i == j:\n",
    "                    A[k][j] = 0\n",
    "                else:\n",
    "                    A[k][j] += c * A[i][j]\n",
    "\n",
    "    # Solve equation Ax=b for an upper triangular matrix A\n",
    "    x = [0 for i in range(n)]\n",
    "    for i in range(n-1, -1, -1):\n",
    "        x[i] = A[i][n]/A[i][i]\n",
    "        for k in range(i-1, -1, -1):\n",
    "            A[k][n] -= A[k][i] * x[i]\n",
    "    return x"
   ]
  },
  {
   "cell_type": "code",
   "execution_count": 5,
   "metadata": {},
   "outputs": [
    {
     "name": "stdout",
     "output_type": "stream",
     "text": [
      "Result:\t1.0\t2.0\t3.0\t\n"
     ]
    }
   ],
   "source": [
    "A = [[3,-1,2,7],[1,1,2,9],[2,-2,-1,-5]]\n",
    "x = gauss(A)\n",
    "# Print result\n",
    "line = \"Result:\\t\"\n",
    "for i in range(0, 3):\n",
    "    line += str(x[i]) + \"\\t\"\n",
    "print(line)"
   ]
  },
  {
   "cell_type": "markdown",
   "metadata": {},
   "source": [
    "### No.2 \n",
    "'''\n",
    "#### A = [[3,-1,2],[1,1,2],[3,-2,-1]]\n",
    "### inverse(A) = ?"
   ]
  },
  {
   "cell_type": "code",
   "execution_count": 6,
   "metadata": {},
   "outputs": [
    {
     "name": "stdout",
     "output_type": "stream",
     "text": [
      "\n",
      "    3   ,    -1   ,     2   ,     1   ,     0   ,     0   \n",
      "    1   ,     1   ,     2   ,     0   ,     1   ,     0   \n",
      "    3   ,    -2   ,    -1   ,     0   ,     0   ,     1   \n",
      "\n",
      "    1   ,  -2/3   ,  -1/3   ,     0   ,     0   ,   1/3   \n",
      "    1   ,     1   ,     2   ,     0   ,     1   ,     0   \n",
      "    3   ,    -1   ,     2   ,     1   ,     0   ,     0   \n",
      "\n",
      "    1   ,  -2/3   ,  -1/3   ,     0   ,     0   ,   1/3   \n",
      "    1   ,     1   ,     2   ,     0   ,     1   ,     0   \n",
      "    3   ,    -1   ,     2   ,     1   ,     0   ,     0   \n",
      "\n",
      "    1   ,  -2/3   ,  -1/3   ,     0   ,     0   ,   1/3   \n",
      "    0   ,   5/3   ,   7/3   ,     0   ,     1   ,  -1/3   \n",
      "    3   ,    -1   ,     2   ,     1   ,     0   ,     0   \n",
      "\n",
      "    1   ,  -2/3   ,  -1/3   ,     0   ,     0   ,   1/3   \n",
      "    0   ,     1   ,     3   ,     1   ,     0   ,    -1   \n",
      "    0   ,   5/3   ,   7/3   ,     0   ,     1   ,  -1/3   \n",
      "\n",
      "    1   ,     0   ,   5/3   ,   2/3   ,     0   ,  -1/3   \n",
      "    0   ,     1   ,     3   ,     1   ,     0   ,    -1   \n",
      "    0   ,   5/3   ,   7/3   ,     0   ,     1   ,  -1/3   \n",
      "\n",
      "    1   ,     0   ,   5/3   ,   2/3   ,     0   ,  -1/3   \n",
      "    0   ,     1   ,     3   ,     1   ,     0   ,    -1   \n",
      "    0   ,   5/3   ,   7/3   ,     0   ,     1   ,  -1/3   \n",
      "\n",
      "    1   ,     0   ,   5/3   ,   2/3   ,     0   ,  -1/3   \n",
      "    0   ,     1   ,     3   ,     1   ,     0   ,    -1   \n",
      "    0   ,     0   ,     1   ,   5/8   ,  -3/8   ,  -1/2   \n",
      "\n",
      "    1   ,     0   ,     0   ,  -3/8   ,   5/8   ,   1/2   \n",
      "    0   ,     1   ,     3   ,     1   ,     0   ,    -1   \n",
      "    0   ,     0   ,     1   ,   5/8   ,  -3/8   ,  -1/2   \n",
      "\n",
      "    1   ,     0   ,     0   ,  -3/8   ,   5/8   ,   1/2   \n",
      "    0   ,     1   ,     0   ,  -7/8   ,   9/8   ,   1/2   \n",
      "    0   ,     0   ,     1   ,   5/8   ,  -3/8   ,  -1/2   \n",
      "\n",
      "    1   ,     0   ,     0   ,  -3/8   ,   5/8   ,   1/2   \n",
      "    0   ,     1   ,     0   ,  -7/8   ,   9/8   ,   1/2   \n",
      "    0   ,     0   ,     1   ,   5/8   ,  -3/8   ,  -1/2   \n",
      "--------------------------\n",
      "\n",
      " -3/8   ,   5/8   ,   1/2   \n",
      " -7/8   ,   9/8   ,   1/2   \n",
      "  5/8   ,  -3/8   ,  -1/2   \n"
     ]
    }
   ],
   "source": [
    "from inverse_fr import *\n",
    "from ppmat import *\n",
    "\n",
    "size = 3\n",
    "\n",
    "# We want to invert the following matrix:\n",
    "\n",
    "toInverse = [[0 for j in range(size)] for i in range(size)]\n",
    "toInverse[0] = [3, -1, 2]\n",
    "toInverse[1] = [1, 1, 2]\n",
    "toInverse[2] = [3, -2, -1]\n",
    "final = inverse_fr(toInverse)\n",
    "print(\"--------------------------\")\n",
    "ppmat(final)"
   ]
  },
  {
   "cell_type": "code",
   "execution_count": 7,
   "metadata": {},
   "outputs": [
    {
     "name": "stdout",
     "output_type": "stream",
     "text": [
      "\n",
      "    3   ,    -1   ,     2   \n",
      "    1   ,     1   ,     2   \n",
      "    3   ,    -2   ,    -1   \n",
      "--------------------------\n",
      "\n",
      " -3/8   ,   5/8   ,   1/2   \n",
      " -7/8   ,   9/8   ,   1/2   \n",
      "  5/8   ,  -3/8   ,  -1/2   \n",
      "==========================\n",
      "\n",
      "    1   ,     0   ,     0   \n",
      "    0   ,     1   ,     0   \n",
      "    0   ,     0   ,     1   \n"
     ]
    }
   ],
   "source": [
    "import numpy as np\n",
    "c = np.dot(toInverse,final)\n",
    "ppmat(toInverse)\n",
    "print(\"--------------------------\")\n",
    "ppmat(final)\n",
    "print(\"==========================\")\n",
    "ppmat(c)"
   ]
  },
  {
   "cell_type": "markdown",
   "metadata": {},
   "source": [
    "### No. 3 '''\n",
    "A = [[2,6,10],[1,3,3],[3,14,28]]\n",
    "b = [0,2,-8]\n",
    "'''"
   ]
  },
  {
   "cell_type": "code",
   "execution_count": 8,
   "metadata": {},
   "outputs": [],
   "source": [
    "from gauss_jordan import *\n",
    "A = [[2,6,10],[1,3,3],[3,14,28]]\n",
    "b = [0,2,-8]"
   ]
  },
  {
   "cell_type": "code",
   "execution_count": 9,
   "metadata": {},
   "outputs": [
    {
     "name": "stdout",
     "output_type": "stream",
     "text": [
      "[2.0000000000000013, 0.9999999999999992, -0.9999999999999998]\n"
     ]
    }
   ],
   "source": [
    "x = gauss_jordan(A,b)"
   ]
  },
  {
   "cell_type": "markdown",
   "metadata": {},
   "source": [
    "### No.4 y = x**4-0.25"
   ]
  },
  {
   "cell_type": "code",
   "execution_count": 10,
   "metadata": {},
   "outputs": [],
   "source": [
    "from bisectionx import *\n",
    "from secantx import *\n",
    "from newtonx import *\n",
    "def f(x):\n",
    "    return x**4-0.25"
   ]
  },
  {
   "cell_type": "code",
   "execution_count": 11,
   "metadata": {},
   "outputs": [],
   "source": [
    "def fpr(x):\n",
    "    return 3*x**3"
   ]
  },
  {
   "cell_type": "code",
   "execution_count": null,
   "metadata": {},
   "outputs": [],
   "source": [
    "! pip install prettytable"
   ]
  },
  {
   "cell_type": "code",
   "execution_count": 14,
   "metadata": {},
   "outputs": [
    {
     "ename": "ImportError",
     "evalue": "No module named 'prettytable'",
     "output_type": "error",
     "traceback": [
      "\u001b[0;31m---------------------------------------------------------------------------\u001b[0m",
      "\u001b[0;31mImportError\u001b[0m                               Traceback (most recent call last)",
      "\u001b[0;32m<ipython-input-14-ea78577ff274>\u001b[0m in \u001b[0;36m<module>\u001b[0;34m()\u001b[0m\n\u001b[1;32m      2\u001b[0m \u001b[0mx\u001b[0m\u001b[0;34m,\u001b[0m\u001b[0mlogdat\u001b[0m \u001b[0;34m=\u001b[0m \u001b[0mbisectionx\u001b[0m\u001b[0;34m(\u001b[0m\u001b[0mf\u001b[0m\u001b[0;34m,\u001b[0m \u001b[0;36m0\u001b[0m\u001b[0;34m,\u001b[0m\u001b[0;36m1\u001b[0m\u001b[0;34m,\u001b[0m \u001b[0mtol\u001b[0m \u001b[0;34m=\u001b[0m \u001b[0;36m1.0e-5\u001b[0m\u001b[0;34m)\u001b[0m\u001b[0;34m\u001b[0m\u001b[0m\n\u001b[1;32m      3\u001b[0m \u001b[0;31m#print('x = ','{:6.4f}'.format(ans))\u001b[0m\u001b[0;34m\u001b[0m\u001b[0;34m\u001b[0m\u001b[0m\n\u001b[0;32m----> 4\u001b[0;31m \u001b[0;32mfrom\u001b[0m \u001b[0mprettytable\u001b[0m \u001b[0;32mimport\u001b[0m \u001b[0mPrettyTable\u001b[0m\u001b[0;34m\u001b[0m\u001b[0m\n\u001b[0m\u001b[1;32m      5\u001b[0m \u001b[0;32mimport\u001b[0m \u001b[0mmatplotlib\u001b[0m\u001b[0;34m.\u001b[0m\u001b[0mpyplot\u001b[0m \u001b[0;32mas\u001b[0m \u001b[0mplt\u001b[0m\u001b[0;34m\u001b[0m\u001b[0m\n\u001b[1;32m      6\u001b[0m \u001b[0mprintx\u001b[0m \u001b[0;34m=\u001b[0m \u001b[0mPrettyTable\u001b[0m\u001b[0;34m(\u001b[0m\u001b[0;34m[\u001b[0m\u001b[0;34m\"a\"\u001b[0m\u001b[0;34m,\u001b[0m\u001b[0;34m\"b\"\u001b[0m\u001b[0;34m,\u001b[0m\u001b[0;34m\"m\"\u001b[0m\u001b[0;34m,\u001b[0m\u001b[0;34m\"ya\"\u001b[0m\u001b[0;34m,\u001b[0m\u001b[0;34m\"yb\"\u001b[0m\u001b[0;34m,\u001b[0m\u001b[0;34m\"ym\"\u001b[0m \u001b[0;34m]\u001b[0m\u001b[0;34m)\u001b[0m\u001b[0;34m\u001b[0m\u001b[0m\n",
      "\u001b[0;31mImportError\u001b[0m: No module named 'prettytable'"
     ]
    }
   ],
   "source": [
    "# 二分法\n",
    "x,logdat = bisectionx(f, 0,1, tol = 1.0e-5)\n",
    "#print('x = ','{:6.4f}'.format(ans))\n",
    "from prettytable import PrettyTable\n",
    "import matplotlib.pyplot as plt\n",
    "printx = PrettyTable([\"a\",\"b\",\"m\",\"ya\",\"yb\",\"ym\" ])\n",
    "printx.padding_width = 1\n",
    "for a,b,m,f1,f2,f3 in logdat:\n",
    "    printx.add_row([a,b,m,f1,f2,f3])   \n",
    "print(printx)\n"
   ]
  },
  {
   "cell_type": "code",
   "execution_count": 16,
   "metadata": {},
   "outputs": [
    {
     "data": {
      "text/plain": [
       "<matplotlib.figure.Figure at 0x6fdb60f0>"
      ]
     },
     "metadata": {},
     "output_type": "display_data"
    }
   ],
   "source": [
    "import matplotlib.pyplot as plt\n",
    "t = np.arange(0,1,.01)\n",
    "n = np.copy(t)\n",
    "n.fill(0)\n",
    "plt.plot(t, f(t), 'r')\n",
    "plt.plot(t,n,'k')\n",
    "for a,b,m,f1,f2,f3 in logdat:\n",
    "    plt.plot(a,f1,'go')\n",
    "    plt.plot(b,f2,'bo')\n",
    "    plt.plot(m,0,'co')\n",
    "plt.show()"
   ]
  },
  {
   "cell_type": "code",
   "execution_count": 19,
   "metadata": {},
   "outputs": [
    {
     "ename": "ImportError",
     "evalue": "No module named 'prettytable'",
     "output_type": "error",
     "traceback": [
      "\u001b[0;31m---------------------------------------------------------------------------\u001b[0m",
      "\u001b[0;31mImportError\u001b[0m                               Traceback (most recent call last)",
      "\u001b[0;32m<ipython-input-19-f7ff59c661d3>\u001b[0m in \u001b[0;36m<module>\u001b[0;34m()\u001b[0m\n\u001b[1;32m      2\u001b[0m \u001b[0mx\u001b[0m\u001b[0;34m,\u001b[0m\u001b[0mlogdat\u001b[0m \u001b[0;34m=\u001b[0m \u001b[0msecantx\u001b[0m\u001b[0;34m(\u001b[0m\u001b[0mf\u001b[0m\u001b[0;34m,\u001b[0m \u001b[0;36m0\u001b[0m\u001b[0;34m,\u001b[0m\u001b[0;36m1\u001b[0m\u001b[0;34m,\u001b[0m\u001b[0;36m30\u001b[0m\u001b[0;34m,\u001b[0m \u001b[0mtol\u001b[0m \u001b[0;34m=\u001b[0m \u001b[0;36m1.0e-5\u001b[0m\u001b[0;34m)\u001b[0m\u001b[0;34m\u001b[0m\u001b[0m\n\u001b[1;32m      3\u001b[0m \u001b[0;31m#print('x = ','{:6.4f}'.format(ans))\u001b[0m\u001b[0;34m\u001b[0m\u001b[0;34m\u001b[0m\u001b[0m\n\u001b[0;32m----> 4\u001b[0;31m \u001b[0;32mfrom\u001b[0m \u001b[0mprettytable\u001b[0m \u001b[0;32mimport\u001b[0m \u001b[0mPrettyTable\u001b[0m\u001b[0;34m\u001b[0m\u001b[0m\n\u001b[0m\u001b[1;32m      5\u001b[0m \u001b[0;32mimport\u001b[0m \u001b[0mmatplotlib\u001b[0m\u001b[0;34m.\u001b[0m\u001b[0mpyplot\u001b[0m \u001b[0;32mas\u001b[0m \u001b[0mplt\u001b[0m\u001b[0;34m\u001b[0m\u001b[0m\n\u001b[1;32m      6\u001b[0m \u001b[0mprintx\u001b[0m \u001b[0;34m=\u001b[0m \u001b[0mPrettyTable\u001b[0m\u001b[0;34m(\u001b[0m\u001b[0;34m[\u001b[0m\u001b[0;34m\"a\"\u001b[0m\u001b[0;34m,\u001b[0m\u001b[0;34m\"b\"\u001b[0m\u001b[0;34m,\u001b[0m\u001b[0;34m\"m\"\u001b[0m\u001b[0;34m,\u001b[0m\u001b[0;34m\"ya\"\u001b[0m\u001b[0;34m,\u001b[0m\u001b[0;34m\"yb\"\u001b[0m\u001b[0;34m,\u001b[0m\u001b[0;34m\"ym\"\u001b[0m \u001b[0;34m]\u001b[0m\u001b[0;34m)\u001b[0m\u001b[0;34m\u001b[0m\u001b[0m\n",
      "\u001b[0;31mImportError\u001b[0m: No module named 'prettytable'"
     ]
    }
   ],
   "source": [
    "# 政割法\n",
    "x,logdat = secantx(f, 0,1,30, tol = 1.0e-5)\n",
    "#print('x = ','{:6.4f}'.format(ans))\n",
    "from prettytable import PrettyTable\n",
    "import matplotlib.pyplot as plt\n",
    "printx = PrettyTable([\"a\",\"b\",\"m\",\"ya\",\"yb\",\"ym\" ])\n",
    "printx.padding_width = 1\n",
    "for a,b,m,f1,f2,f3 in logdat:\n",
    "    printx.add_row([a,b,m,f1,f2,f3])   \n",
    "print(printx)\n",
    "\n"
   ]
  },
  {
   "cell_type": "code",
   "execution_count": 20,
   "metadata": {},
   "outputs": [],
   "source": [
    "# 牛頓法\n",
    "x,logdat = newtonx(f,fpr,0.5,10,tol = 1.0e-4)"
   ]
  },
  {
   "cell_type": "code",
   "execution_count": 21,
   "metadata": {},
   "outputs": [
    {
     "data": {
      "image/png": "[encoded data removed]",
      "text/plain": [
       "<matplotlib.figure.Figure at 0x6fec7c50>"
      ]
     },
     "metadata": {
      "needs_background": "light"
     },
     "output_type": "display_data"
    }
   ],
   "source": [
    "import numpy as np\n",
    "import matplotlib.pyplot as plt\n",
    "\n",
    "t = np.arange(-1.0,3.0,.01)\n",
    "n = np.copy(t)\n",
    "n.fill(0)\n",
    "plt.plot(t, f(t), 'r')\n",
    "plt.plot(t,n,'k')\n",
    "for a,fa,m,fm in logdat:\n",
    "    plt.plot(a,fa,'go')\n",
    "    plt.plot(m,fm,'bo')\n",
    "plt.show()"
   ]
  },
  {
   "cell_type": "code",
   "execution_count": null,
   "metadata": {},
   "outputs": [],
   "source": []
  }
 ],
 "metadata": {
  "kernelspec": {
   "display_name": "Python 3",
   "language": "python",
   "name": "python3"
  },
  "language_info": {
   "codemirror_mode": {
    "name": "ipython",
    "version": 3
   },
   "file_extension": ".py",
   "mimetype": "text/x-python",
   "name": "python",
   "nbconvert_exporter": "python",
   "pygments_lexer": "ipython3",
   "version": "3.5.3"
  }
 },
 "nbformat": 4,
 "nbformat_minor": 2
}
