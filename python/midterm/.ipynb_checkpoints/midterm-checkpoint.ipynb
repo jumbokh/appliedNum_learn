{
 "cells": [
  {
   "cell_type": "markdown",
   "metadata": {},
   "source": [
    "### No.1\n",
    "'''\n",
    "A = [[3,-1,2],[1,1,2],[2,-2,-1]],\n",
    "b = [7, 9, -5]\n",
    "'''"
   ]
  },
  {
   "cell_type": "code",
   "execution_count": 1,
   "metadata": {},
   "outputs": [],
   "source": [
    "from gauss_jordan import *"
   ]
  },
  {
   "cell_type": "code",
   "execution_count": 2,
   "metadata": {},
   "outputs": [],
   "source": [
    "A = [[3,-1,2],[1,1,2],[2,-2,-1]]\n",
    "b = [7, 9, -5]"
   ]
  },
  {
   "cell_type": "code",
   "execution_count": 3,
   "metadata": {},
   "outputs": [
    {
     "name": "stdout",
     "output_type": "stream",
     "text": [
      "[1.0, 2.0, 3.0]\n",
      "None\n"
     ]
    }
   ],
   "source": [
    "x = gauss_jordan(A,b)\n",
    "print(x)"
   ]
  },
  {
   "cell_type": "code",
   "execution_count": 4,
   "metadata": {},
   "outputs": [],
   "source": [
    "def pprint(A):\n",
    "    n = len(A)\n",
    "    for i in range(0, n):\n",
    "        line = \"\"\n",
    "        for j in range(0, n+1):\n",
    "            line += str(A[i][j]) + \"\\t\"\n",
    "            if j == n-1:\n",
    "                line += \"| \"\n",
    "        print(line)\n",
    "    print(\"\")\n",
    "\n",
    "\n",
    "def gauss(A):\n",
    "    n = len(A)\n",
    "\n",
    "    for i in range(0, n):\n",
    "        # Search for maximum in this column\n",
    "        maxEl = abs(A[i][i])\n",
    "        maxRow = i\n",
    "        for k in range(i+1, n):\n",
    "            if abs(A[k][i]) > maxEl:\n",
    "                maxEl = abs(A[k][i])\n",
    "                maxRow = k\n",
    "\n",
    "        # Swap maximum row with current row (column by column)\n",
    "        for k in range(i, n+1):\n",
    "            tmp = A[maxRow][k]\n",
    "            A[maxRow][k] = A[i][k]\n",
    "            A[i][k] = tmp\n",
    "\n",
    "        # Make all rows below this one 0 in current column\n",
    "        for k in range(i+1, n):\n",
    "            c = -A[k][i]/A[i][i]\n",
    "            for j in range(i, n+1):\n",
    "                if i == j:\n",
    "                    A[k][j] = 0\n",
    "                else:\n",
    "                    A[k][j] += c * A[i][j]\n",
    "\n",
    "    # Solve equation Ax=b for an upper triangular matrix A\n",
    "    x = [0 for i in range(n)]\n",
    "    for i in range(n-1, -1, -1):\n",
    "        x[i] = A[i][n]/A[i][i]\n",
    "        for k in range(i-1, -1, -1):\n",
    "            A[k][n] -= A[k][i] * x[i]\n",
    "    return x"
   ]
  },
  {
   "cell_type": "code",
   "execution_count": 5,
   "metadata": {},
   "outputs": [
    {
     "name": "stdout",
     "output_type": "stream",
     "text": [
      "Result:\t1.0\t2.0\t3.0\t\n"
     ]
    }
   ],
   "source": [
    "A = [[3,-1,2,7],[1,1,2,9],[2,-2,-1,-5]]\n",
    "x = gauss(A)\n",
    "# Print result\n",
    "line = \"Result:\\t\"\n",
    "for i in range(0, 3):\n",
    "    line += str(x[i]) + \"\\t\"\n",
    "print(line)"
   ]
  },
  {
   "cell_type": "markdown",
   "metadata": {},
   "source": [
    "### No.2 \n",
    "'''\n",
    "#### A = [[3,-1,2],[1,1,2],[3,-2,-1]]\n",
    "### inverse(A) = ?"
   ]
  },
  {
   "cell_type": "code",
   "execution_count": 6,
   "metadata": {},
   "outputs": [
    {
     "name": "stdout",
     "output_type": "stream",
     "text": [
      "\n",
      "    3   ,    -1   ,     2   ,     1   ,     0   ,     0   \n",
      "    1   ,     1   ,     2   ,     0   ,     1   ,     0   \n",
      "    3   ,    -2   ,    -1   ,     0   ,     0   ,     1   \n",
      "\n",
      "    1   ,  -2/3   ,  -1/3   ,     0   ,     0   ,   1/3   \n",
      "    1   ,     1   ,     2   ,     0   ,     1   ,     0   \n",
      "    3   ,    -1   ,     2   ,     1   ,     0   ,     0   \n",
      "\n",
      "    1   ,  -2/3   ,  -1/3   ,     0   ,     0   ,   1/3   \n",
      "    1   ,     1   ,     2   ,     0   ,     1   ,     0   \n",
      "    3   ,    -1   ,     2   ,     1   ,     0   ,     0   \n",
      "\n",
      "    1   ,  -2/3   ,  -1/3   ,     0   ,     0   ,   1/3   \n",
      "    0   ,   5/3   ,   7/3   ,     0   ,     1   ,  -1/3   \n",
      "    3   ,    -1   ,     2   ,     1   ,     0   ,     0   \n",
      "\n",
      "    1   ,  -2/3   ,  -1/3   ,     0   ,     0   ,   1/3   \n",
      "    0   ,     1   ,     3   ,     1   ,     0   ,    -1   \n",
      "    0   ,   5/3   ,   7/3   ,     0   ,     1   ,  -1/3   \n",
      "\n",
      "    1   ,     0   ,   5/3   ,   2/3   ,     0   ,  -1/3   \n",
      "    0   ,     1   ,     3   ,     1   ,     0   ,    -1   \n",
      "    0   ,   5/3   ,   7/3   ,     0   ,     1   ,  -1/3   \n",
      "\n",
      "    1   ,     0   ,   5/3   ,   2/3   ,     0   ,  -1/3   \n",
      "    0   ,     1   ,     3   ,     1   ,     0   ,    -1   \n",
      "    0   ,   5/3   ,   7/3   ,     0   ,     1   ,  -1/3   \n",
      "\n",
      "    1   ,     0   ,   5/3   ,   2/3   ,     0   ,  -1/3   \n",
      "    0   ,     1   ,     3   ,     1   ,     0   ,    -1   \n",
      "    0   ,     0   ,     1   ,   5/8   ,  -3/8   ,  -1/2   \n",
      "\n",
      "    1   ,     0   ,     0   ,  -3/8   ,   5/8   ,   1/2   \n",
      "    0   ,     1   ,     3   ,     1   ,     0   ,    -1   \n",
      "    0   ,     0   ,     1   ,   5/8   ,  -3/8   ,  -1/2   \n",
      "\n",
      "    1   ,     0   ,     0   ,  -3/8   ,   5/8   ,   1/2   \n",
      "    0   ,     1   ,     0   ,  -7/8   ,   9/8   ,   1/2   \n",
      "    0   ,     0   ,     1   ,   5/8   ,  -3/8   ,  -1/2   \n",
      "\n",
      "    1   ,     0   ,     0   ,  -3/8   ,   5/8   ,   1/2   \n",
      "    0   ,     1   ,     0   ,  -7/8   ,   9/8   ,   1/2   \n",
      "    0   ,     0   ,     1   ,   5/8   ,  -3/8   ,  -1/2   \n",
      "--------------------------\n",
      "\n",
      " -3/8   ,   5/8   ,   1/2   \n",
      " -7/8   ,   9/8   ,   1/2   \n",
      "  5/8   ,  -3/8   ,  -1/2   \n"
     ]
    }
   ],
   "source": [
    "from inverse_fr import *\n",
    "from ppmat import *\n",
    "\n",
    "size = 3\n",
    "\n",
    "# We want to invert the following matrix:\n",
    "\n",
    "toInverse = [[0 for j in range(size)] for i in range(size)]\n",
    "toInverse[0] = [3, -1, 2]\n",
    "toInverse[1] = [1, 1, 2]\n",
    "toInverse[2] = [3, -2, -1]\n",
    "final = inverse_fr(toInverse)\n",
    "print(\"--------------------------\")\n",
    "ppmat(final)"
   ]
  },
  {
   "cell_type": "code",
   "execution_count": 7,
   "metadata": {},
   "outputs": [
    {
     "name": "stdout",
     "output_type": "stream",
     "text": [
      "\n",
      "    3   ,    -1   ,     2   \n",
      "    1   ,     1   ,     2   \n",
      "    3   ,    -2   ,    -1   \n",
      "--------------------------\n",
      "\n",
      " -3/8   ,   5/8   ,   1/2   \n",
      " -7/8   ,   9/8   ,   1/2   \n",
      "  5/8   ,  -3/8   ,  -1/2   \n",
      "==========================\n",
      "\n",
      "    1   ,     0   ,     0   \n",
      "    0   ,     1   ,     0   \n",
      "    0   ,     0   ,     1   \n"
     ]
    }
   ],
   "source": [
    "import numpy as np\n",
    "c = np.dot(toInverse,final)\n",
    "ppmat(toInverse)\n",
    "print(\"--------------------------\")\n",
    "ppmat(final)\n",
    "print(\"==========================\")\n",
    "ppmat(c)"
   ]
  },
  {
   "cell_type": "markdown",
   "metadata": {},
   "source": [
    "### No. 3 '''\n",
    "A = [[2,6,10],[1,3,3],[3,14,28]]\n",
    "b = [0,2,-8]\n",
    "'''"
   ]
  },
  {
   "cell_type": "code",
   "execution_count": 8,
   "metadata": {},
   "outputs": [],
   "source": [
    "from gauss_jordan import *\n",
    "A = [[2,6,10],[1,3,3],[3,14,28]]\n",
    "b = [0,2,-8]"
   ]
  },
  {
   "cell_type": "code",
   "execution_count": 9,
   "metadata": {},
   "outputs": [
    {
     "name": "stdout",
     "output_type": "stream",
     "text": [
      "[2.0000000000000013, 0.9999999999999992, -0.9999999999999998]\n"
     ]
    }
   ],
   "source": [
    "x = gauss_jordan(A,b)"
   ]
  },
  {
   "cell_type": "markdown",
   "metadata": {},
   "source": [
    "### No.4 y = x**4-0.25"
   ]
  },
  {
   "cell_type": "code",
   "execution_count": 10,
   "metadata": {},
   "outputs": [],
   "source": [
    "from bisectionx import *\n",
    "from secantx import *\n",
    "from newtonx import *\n",
    "def f(x):\n",
    "    return x**4-0.25"
   ]
  },
  {
   "cell_type": "code",
   "execution_count": 11,
   "metadata": {},
   "outputs": [],
   "source": [
    "def fpr(x):\n",
    "    return 3*x**3"
   ]
  },
  {
   "cell_type": "code",
   "execution_count": 12,
   "metadata": {},
   "outputs": [
    {
     "name": "stdout",
     "output_type": "stream",
     "text": [
      "x =  0.7071\n",
      "+--------+--------+--------+---------+--------+---------+\n",
      "|   a    |   b    |   m    |    ya   |   yb   |    ym   |\n",
      "+--------+--------+--------+---------+--------+---------+\n",
      "|   0    |   2    |  1.0   |  -0.25  | 15.75  |   0.75  |\n",
      "|   0    |  1.0   |  0.5   |  -0.25  |  0.75  | -0.1875 |\n",
      "|  0.5   |  1.0   |  0.75  | -0.1875 |  0.75  |  0.0664 |\n",
      "|  0.5   |  0.75  | 0.625  | -0.1875 | 0.0664 | -0.0974 |\n",
      "| 0.625  |  0.75  | 0.6875 | -0.0974 | 0.0664 | -0.0266 |\n",
      "| 0.6875 |  0.75  | 0.7188 | -0.0266 | 0.0664 |  0.0169 |\n",
      "| 0.6875 | 0.7188 | 0.7031 | -0.0266 | 0.0169 | -0.0056 |\n",
      "| 0.7031 | 0.7188 | 0.7109 | -0.0056 | 0.0169 |  0.0055 |\n",
      "| 0.7031 | 0.7109 | 0.707  | -0.0056 | 0.0055 | -0.0001 |\n",
      "| 0.707  | 0.7109 | 0.709  | -0.0001 | 0.0055 |  0.0027 |\n",
      "| 0.707  | 0.709  | 0.708  | -0.0001 | 0.0027 |  0.0013 |\n",
      "| 0.707  | 0.708  | 0.7075 | -0.0001 | 0.0013 |  0.0006 |\n",
      "| 0.707  | 0.7075 | 0.7073 | -0.0001 | 0.0006 |  0.0002 |\n",
      "| 0.707  | 0.7073 | 0.7072 | -0.0001 | 0.0002 |  0.0001 |\n",
      "| 0.707  | 0.7072 | 0.7071 | -0.0001 | 0.0001 |   -0.0  |\n",
      "| 0.7071 | 0.7072 | 0.7071 |   -0.0  | 0.0001 |   0.0   |\n",
      "| 0.7071 | 0.7071 | 0.7071 |   -0.0  |  0.0   |   0.0   |\n",
      "| 0.7071 | 0.7071 | 0.7071 |   -0.0  |  0.0   |   -0.0  |\n",
      "+--------+--------+--------+---------+--------+---------+\n"
     ]
    }
   ],
   "source": [
    "# 二分法\n",
    "from prettytable import PrettyTable\n",
    "import matplotlib.pyplot as plt\n",
    "\n",
    "x,logdat = bisectionx(f, 0,2, tol = 1.0e-5)\n",
    "print('x = ','{:6.4f}'.format(x))\n",
    "\n",
    "printx = PrettyTable([\"a\",\"b\",\"m\",\"ya\",\"yb\",\"ym\" ])\n",
    "printx.padding_width = 1\n",
    "for a,b,m,f1,f2,f3 in logdat:\n",
    "    printx.add_row([a,b,m,f1,f2,f3])   \n",
    "print(printx)\n"
   ]
  },
  {
   "cell_type": "code",
   "execution_count": 13,
   "metadata": {},
   "outputs": [
    {
     "data": {
      "image/png": "[encoded data removed]",
      "text/plain": [
       "<Figure size 432x288 with 1 Axes>"
      ]
     },
     "metadata": {
      "needs_background": "light"
     },
     "output_type": "display_data"
    }
   ],
   "source": [
    "import matplotlib.pyplot as plt\n",
    "t = np.arange(-1,1.25,.01)\n",
    "n = np.copy(t)\n",
    "n.fill(0)\n",
    "plt.plot(t, f(t), 'r')\n",
    "plt.plot(t,n,'k')\n",
    "for a,b,m,f1,f2,f3 in logdat:\n",
    "    plt.plot(a,f1,'go')\n",
    "    plt.plot(b,f2,'bo')\n",
    "    plt.plot(m,0,'co')\n",
    "plt.show()"
   ]
  },
  {
   "cell_type": "code",
   "execution_count": 14,
   "metadata": {},
   "outputs": [
    {
     "name": "stdout",
     "output_type": "stream",
     "text": [
      "+--------+--------+--------+---------+\n",
      "|   a    |   b    |   m    |    yb   |\n",
      "+--------+--------+--------+---------+\n",
      "|   0    |   1    |  0.25  | -0.2461 |\n",
      "|   1    |  0.25  | 0.4353 | -0.2141 |\n",
      "|  0.25  | 0.4353 | 1.6751 |  7.6241 |\n",
      "| 0.4353 | 1.6751 | 0.4692 | -0.2016 |\n",
      "| 1.6751 | 0.4692 | 0.5002 | -0.1874 |\n",
      "| 0.4692 | 0.5002 | 0.9112 |  0.4395 |\n",
      "| 0.5002 | 0.9112 | 0.6231 | -0.0993 |\n",
      "| 0.9112 | 0.6231 | 0.6762 | -0.0409 |\n",
      "| 0.6231 | 0.6762 | 0.7135 |  0.0091 |\n",
      "| 0.6762 | 0.7135 | 0.7067 | -0.0006 |\n",
      "| 0.7135 | 0.7067 | 0.7071 |   -0.0  |\n",
      "+--------+--------+--------+---------+\n"
     ]
    }
   ],
   "source": [
    "# 正割法\n",
    "x,logdat = secantx(f, 0,1,30, tol = 1.0e-5)\n",
    "#print('x = ','{:6.4f}'.format(ans))\n",
    "from prettytable import PrettyTable\n",
    "import matplotlib.pyplot as plt\n",
    "printx = PrettyTable([\"a\",\"b\",\"m\",\"yb\" ])\n",
    "printx.padding_width = 1\n",
    "for a,b,m,f1 in logdat:\n",
    "    printx.add_row([a,b,m,f1])   \n",
    "print(printx)\n",
    "\n"
   ]
  },
  {
   "cell_type": "code",
   "execution_count": 20,
   "metadata": {},
   "outputs": [
    {
     "data": {
      "image/png": "[encoded data removed]",
      "text/plain": [
       "<Figure size 432x288 with 1 Axes>"
      ]
     },
     "metadata": {
      "needs_background": "light"
     },
     "output_type": "display_data"
    }
   ],
   "source": [
    "import matplotlib.pyplot as plt\n",
    "t = np.arange(-1,1.25,.01)\n",
    "n = np.copy(t)\n",
    "n.fill(0)\n",
    "plt.plot(t, f(t), 'r')\n",
    "plt.plot(t,n,'k')\n",
    "for a,b,m,yb in logdat:\n",
    "    plt.plot(a,0,'go')\n",
    "    plt.plot(b,0,'bo')\n",
    "    plt.plot(m,0,'co')\n",
    "plt.show()"
   ]
  },
  {
   "cell_type": "code",
   "execution_count": 15,
   "metadata": {},
   "outputs": [
    {
     "name": "stdout",
     "output_type": "stream",
     "text": [
      "x =  0.707149\n",
      "+--------------------+-------------------------+--------------------+-------------------------+\n",
      "|         x          |            y            |       x_temp       |          y_temp         |\n",
      "+--------------------+-------------------------+--------------------+-------------------------+\n",
      "|        0.5         |         -0.1875         |        1.0         |           0.75          |\n",
      "|        1.0         |           0.75          |        0.75        |        0.06640625       |\n",
      "|        0.75        |        0.06640625       | 0.6975308641975309 |  -0.013269772336434199  |\n",
      "| 0.6975308641975309 |  -0.013269772336434199  | 0.7105640903257011 |   0.004925349461462447  |\n",
      "| 0.7105640903257011 |   0.004925349461462447  | 0.705987879463693  |  -0.0015786141287178201 |\n",
      "| 0.705987879463693  |  -0.0015786141287178201 | 0.7074832988124421 |  0.0005329017805741354  |\n",
      "| 0.7074832988124421 |  0.0005329017805741354  | 0.7069816759291347 | -0.00017687860331902505 |\n",
      "| 0.7069816759291347 | -0.00017687860331902505 | 0.7071485272207091 |  5.904303608644801e-05  |\n",
      "| 0.7071485272207091 |  5.904303608644801e-05  | 0.7070928707705307 | -1.9671718497787927e-05 |\n",
      "+--------------------+-------------------------+--------------------+-------------------------+\n"
     ]
    }
   ],
   "source": [
    "# 牛頓法\n",
    "x,logdat = newtonx(f,fpr,0.5,10,tol = 1.0e-4)\n",
    "print('x = ','{:8.6f}'.format(x))\n",
    "printx = PrettyTable([\"x\",\"y\",\"x_temp\",\"y_temp\" ])\n",
    "printx.padding_width = 1\n",
    "for x,y,x_temp,y_temp in logdat:\n",
    "    printx.add_row([x,y,x_temp,y_temp])   \n",
    "print(printx)"
   ]
  },
  {
   "cell_type": "code",
   "execution_count": 16,
   "metadata": {},
   "outputs": [
    {
     "data": {
      "image/png": "[encoded data removed]",
      "text/plain": [
       "<Figure size 432x288 with 1 Axes>"
      ]
     },
     "metadata": {
      "needs_background": "light"
     },
     "output_type": "display_data"
    }
   ],
   "source": [
    "import numpy as np\n",
    "import matplotlib.pyplot as plt\n",
    "\n",
    "t = np.arange(-1.0,1.25,.01)\n",
    "n = np.copy(t)\n",
    "n.fill(0)\n",
    "plt.plot(t, f(t), 'r')\n",
    "plt.plot(t,n,'k')\n",
    "for x,y,x_temp,y_temp in logdat:\n",
    "    plt.plot(x,y,'go')\n",
    "    plt.plot(x_temp,y_temp,'bo')\n",
    "plt.show()"
   ]
  },
  {
   "cell_type": "code",
   "execution_count": null,
   "metadata": {},
   "outputs": [],
   "source": []
  }
 ],
 "metadata": {
  "kernelspec": {
   "display_name": "Python 3",
   "language": "python",
   "name": "python3"
  },
  "language_info": {
   "codemirror_mode": {
    "name": "ipython",
    "version": 3
   },
   "file_extension": ".py",
   "mimetype": "text/x-python",
   "name": "python",
   "nbconvert_exporter": "python",
   "pygments_lexer": "ipython3",
   "version": "3.6.1"
  }
 },
 "nbformat": 4,
 "nbformat_minor": 2
}
