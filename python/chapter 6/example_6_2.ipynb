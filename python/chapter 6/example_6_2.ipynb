{
 "cells": [
  {
   "cell_type": "code",
   "execution_count": 6,
   "metadata": {},
   "outputs": [
    {
     "name": "stdout",
     "output_type": "stream",
     "text": [
      "index    x1          x2     x3          r\n",
      "1    -0.5000 ,   3.0000 ,  -1.5000 ,     3.3912\n",
      "2     1.7500 ,   2.5000 ,   0.2500 ,     2.8940\n",
      "3     0.6250 ,   2.2500 ,  -1.1250 ,     1.7941\n",
      "4     1.1875 ,   2.1250 ,  -0.6875 ,     0.7235\n",
      "5     0.9062 ,   2.0625 ,  -1.0312 ,     0.4485\n",
      "6     1.0469 ,   2.0312 ,  -0.9219 ,     0.1809\n",
      "7     0.9766 ,   2.0156 ,  -1.0078 ,     0.1121\n",
      "8     1.0117 ,   2.0078 ,  -0.9805 ,     0.0452\n",
      "9     0.9941 ,   2.0039 ,  -1.0020 ,     0.0280\n",
      "10     1.0029 ,   2.0020 ,  -0.9951 ,     0.0113\n",
      "11     0.9985 ,   2.0010 ,  -1.0005 ,     0.0070\n",
      "12     1.0007 ,   2.0005 ,  -0.9988 ,     0.0028\n",
      "13     0.9996 ,   2.0002 ,  -1.0001 ,     0.0018\n",
      "Iteration is coverged\n"
     ]
    }
   ],
   "source": [
    "import numpy as np\n",
    "\n",
    "A = np.array([[2,-1,1],[1,2,-1],[1,-1,2]])\n",
    "b = np.array([[-1],[6],[-3]])\n",
    "maxit = 18\n",
    "tol = 0.001\n",
    "\n",
    "def cross(a,b,n):\n",
    "    sumx = 0.0\n",
    "    for i in range(len(a)):\n",
    "        if i != n:\n",
    "            sumx += a[i]*b[i]\n",
    "    return sumx\n",
    "\n",
    "def disp(x):\n",
    "    for i in range(len(x)):\n",
    "       print('%8.4f'%x[i],', ',end='')\n",
    "    \n",
    "r,c = A.shape\n",
    "B = np.zeros((r,c),dtype=float)\n",
    "bb = np.zeros(c,dtype=float)\n",
    "for i in range(r):\n",
    "    s = A[i][i]\n",
    "    B[i] = A[i]/s\n",
    "    bb[i] = b[i]/s    \n",
    "x = np.zeros(c,dtype=float)\n",
    "nx = np.zeros(c,dtype=float)\n",
    "np.set_printoptions(precision=4, suppress=True)\n",
    "print('index    x1          x2     x3          r')\n",
    "for k in range(maxit):\n",
    "    for ii in range(c):\n",
    "        nx[ii] = bb[ii] - cross(B[ii],x,ii)\n",
    "    r = np.linalg.norm(nx-x)  \n",
    "    if r < tol:\n",
    "        print('Iteration is coverged')\n",
    "        break    \n",
    "    print(k+1,end='   ')\n",
    "    disp(nx)\n",
    "    print(' ','%8.4f'%r)\n",
    "    x = nx.copy()"
   ]
  },
  {
   "cell_type": "code",
   "execution_count": null,
   "metadata": {
    "collapsed": true
   },
   "outputs": [],
   "source": []
  }
 ],
 "metadata": {
  "kernelspec": {
   "display_name": "Python 3",
   "language": "python",
   "name": "python3"
  },
  "language_info": {
   "codemirror_mode": {
    "name": "ipython",
    "version": 3
   },
   "file_extension": ".py",
   "mimetype": "text/x-python",
   "name": "python",
   "nbconvert_exporter": "python",
   "pygments_lexer": "ipython3",
   "version": "3.6.6"
  }
 },
 "nbformat": 4,
 "nbformat_minor": 2
}
