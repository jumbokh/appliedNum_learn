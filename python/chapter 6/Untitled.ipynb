{
 "cells": [
  {
   "cell_type": "code",
   "execution_count": 2,
   "metadata": {},
   "outputs": [
    {
     "name": "stdout",
     "output_type": "stream",
     "text": [
      "[ 8  1 -1] [8]\n",
      "[2 1 9] [12]\n",
      "[ 1 -7  2] [-4]\n"
     ]
    }
   ],
   "source": [
    "import numpy as np\n",
    "\n",
    "A = np.array([[8,1,-1],[2,1,9],[1,-7,2]])\n",
    "b = np.array([[8],[12],[-4]])\n",
    "r,c = A.shape\n",
    "for i in range(r):\n",
    "    print(A[i],b[i])"
   ]
  },
  {
   "cell_type": "code",
   "execution_count": 3,
   "metadata": {},
   "outputs": [
    {
     "name": "stdout",
     "output_type": "stream",
     "text": [
      "[[64 12  4]]\n",
      "***********\n",
      "[[ 16  12 -36]]\n",
      "***********\n",
      "[[  8 -84  -8]]\n",
      "***********\n"
     ]
    }
   ],
   "source": [
    "r,c = A.shape\n",
    "for i in range(c):\n",
    "    x = A[i] * b.T\n",
    "    print(x)\n",
    "    print(\"***********\")"
   ]
  },
  {
   "cell_type": "code",
   "execution_count": 2,
   "metadata": {},
   "outputs": [
    {
     "name": "stdout",
     "output_type": "stream",
     "text": [
      "  1.0000,  -6.0000,   3.0000,   6.7823\n"
     ]
    }
   ],
   "source": [
    "import numpy as np\n",
    "x = np.zeros(3,dtype=float)\n",
    "b = np.array([-1,6,-3])\n",
    "c = x-b\n",
    "for i in range(len(x)):\n",
    "    print('%8.4f'%c[i],end=', ')\n",
    "print('%8.4f'%np.linalg.norm(c))"
   ]
  },
  {
   "cell_type": "code",
   "execution_count": null,
   "metadata": {
    "collapsed": true
   },
   "outputs": [],
   "source": []
  }
 ],
 "metadata": {
  "kernelspec": {
   "display_name": "Python 3",
   "language": "python",
   "name": "python3"
  },
  "language_info": {
   "codemirror_mode": {
    "name": "ipython",
    "version": 3
   },
   "file_extension": ".py",
   "mimetype": "text/x-python",
   "name": "python",
   "nbconvert_exporter": "python",
   "pygments_lexer": "ipython3",
   "version": "3.6.6"
  }
 },
 "nbformat": 4,
 "nbformat_minor": 2
}
