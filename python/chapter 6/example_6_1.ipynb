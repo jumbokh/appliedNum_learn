{
 "cells": [
  {
   "cell_type": "code",
   "execution_count": 3,
   "metadata": {},
   "outputs": [
    {
     "name": "stdout",
     "output_type": "stream",
     "text": [
      "index    x1          x2     r\n",
      "1     2.7500 ,   2.7500 ,     3.1820\n",
      "2     1.6250 ,   1.6250 ,     1.5910\n",
      "3     2.1875 ,   2.1875 ,     0.7955\n",
      "4     1.9062 ,   1.9062 ,     0.3977\n",
      "5     2.0469 ,   2.0469 ,     0.1989\n",
      "6     1.9766 ,   1.9766 ,     0.0994\n",
      "7     2.0117 ,   2.0117 ,     0.0497\n",
      "8     1.9941 ,   1.9941 ,     0.0249\n",
      "9     2.0029 ,   2.0029 ,     0.0124\n",
      "10     1.9985 ,   1.9985 ,     0.0062\n",
      "11     2.0007 ,   2.0007 ,     0.0031\n",
      "12     1.9996 ,   1.9996 ,     0.0016\n",
      "Iteration is coverged\n"
     ]
    }
   ],
   "source": [
    "# Jacobi\n",
    "import numpy as np\n",
    "\n",
    "A = np.array([[2,1],[1,2]])\n",
    "b = np.array([[6],[6]])\n",
    "maxit = 13\n",
    "tol = 0.001\n",
    "\n",
    "def cross(a,b,n):\n",
    "    sumx = 0.0\n",
    "    for i in range(len(a)):\n",
    "        if i != n:\n",
    "            sumx += a[i]*b[i]\n",
    "    return sumx\n",
    "\n",
    "def disp(x):\n",
    "    for i in range(len(x)):\n",
    "       print('%8.4f'%x[i],', ',end='')\n",
    "    \n",
    "r,c = A.shape\n",
    "B = np.zeros((r,c),dtype=float)\n",
    "bb = np.zeros(c,dtype=float)\n",
    "for i in range(r):\n",
    "    s = A[i][i]\n",
    "    B[i] = A[i]/s\n",
    "    bb[i] = b[i]/s    \n",
    "x = [0.5,0.5]\n",
    "nx = np.zeros(c,dtype=float)\n",
    "np.set_printoptions(precision=4, suppress=True)\n",
    "print('index    x1          x2     r')\n",
    "x1 = x.copy()\n",
    "for k in range(maxit):\n",
    "    for ii in range(c):\n",
    "        nx[ii] = bb[ii] - cross(B[ii],x,ii)\n",
    "       # x[ii] = nx[ii]\n",
    "    r = np.linalg.norm(nx-x1)  \n",
    "    if r < tol:\n",
    "        print('Iteration is coverged')\n",
    "        break\n",
    "    print(k+1,end='   ')\n",
    "    disp(nx)\n",
    "    print(' ','%8.4f'%r)\n",
    "    x = nx.copy()\n",
    "    x1 = nx.copy()"
   ]
  },
  {
   "cell_type": "code",
   "execution_count": null,
   "metadata": {
    "collapsed": true
   },
   "outputs": [],
   "source": []
  }
 ],
 "metadata": {
  "kernelspec": {
   "display_name": "Python 3",
   "language": "python",
   "name": "python3"
  },
  "language_info": {
   "codemirror_mode": {
    "name": "ipython",
    "version": 3
   },
   "file_extension": ".py",
   "mimetype": "text/x-python",
   "name": "python",
   "nbconvert_exporter": "python",
   "pygments_lexer": "ipython3",
   "version": "3.6.6"
  }
 },
 "nbformat": 4,
 "nbformat_minor": 2
}
