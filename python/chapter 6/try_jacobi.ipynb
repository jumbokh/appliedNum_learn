{
 "cells": [
  {
   "cell_type": "code",
   "execution_count": 1,
   "metadata": {
    "collapsed": true
   },
   "outputs": [],
   "source": [
    "import numpy as np\n",
    "from jacobi import *"
   ]
  },
  {
   "cell_type": "code",
   "execution_count": 2,
   "metadata": {
    "collapsed": true
   },
   "outputs": [],
   "source": [
    "A = np.array([[8,1,-1],[2,1,9],[1,-7,2]])\n",
    "b = np.array([[8],[12],[-4]])"
   ]
  },
  {
   "cell_type": "code",
   "execution_count": 3,
   "metadata": {},
   "outputs": [
    {
     "name": "stdout",
     "output_type": "stream",
     "text": [
      "[ 8 -8 10]\n",
      "[[ 0.99033427 -0.10335016 -0.09250282]\n",
      " [ 0.13870121  0.73792581  0.66047518]\n",
      " [ 0.         -0.66692146  0.74512802]]\n"
     ]
    }
   ],
   "source": [
    "sol,p = jacobi(A)\n",
    "print(sol)\n",
    "print(p)"
   ]
  },
  {
   "cell_type": "code",
   "execution_count": 25,
   "metadata": {},
   "outputs": [
    {
     "name": "stdout",
     "output_type": "stream",
     "text": [
      "3 3\n",
      "[[ 8.  1. -1.  8.]\n",
      " [ 2.  1.  9. 12.]\n",
      " [ 1. -7.  2. -4.]]\n"
     ]
    }
   ],
   "source": [
    "# step 1 尺度化\n",
    "A = np.array([[8,1,-1],[2,1,9],[1,-7,2]])\n",
    "b = np.array([[8],[12],[-4]])\n",
    "r,c = A.shape\n",
    "print(r,c)\n",
    "B = np.zeros((r,c+1),dtype=float)\n",
    "for i in range(r):\n",
    "    for j in range(c):\n",
    "        B[i][j]=A[i][j]\n",
    "    B[i][j+1] = b[i]\n",
    "print(B)"
   ]
  },
  {
   "cell_type": "code",
   "execution_count": 26,
   "metadata": {},
   "outputs": [
    {
     "name": "stdout",
     "output_type": "stream",
     "text": [
      "[[ 8.  1. -1.  8.]\n",
      " [ 2.  1.  9. 12.]\n",
      " [ 1. -7.  2. -4.]]\n",
      "[[ 1.     0.125 -0.125  1.   ]\n",
      " [ 2.     1.     9.    12.   ]\n",
      " [ 0.5   -3.5    1.    -2.   ]]\n"
     ]
    }
   ],
   "source": [
    "r1,c1 = B.shape\n",
    "H = B.copy()\n",
    "print(H)\n",
    "for i in range(r1):\n",
    "    s = B[i][i]\n",
    "    for j in range(c1):\n",
    "        H[i][j] = B[i][j]/s\n",
    "print(H)\n",
    "    "
   ]
  },
  {
   "cell_type": "code",
   "execution_count": 15,
   "metadata": {},
   "outputs": [
    {
     "name": "stdout",
     "output_type": "stream",
     "text": [
      "1 [ 1 12 -2] 1.0\n",
      "2 [  0  30 103] 0.0\n",
      "3 [   10  -935 -3279] 0.0\n",
      "4 [  -292  30107 105518] 0.0\n",
      "5 [    9427  -968504 -3394479] 0.0\n",
      "6 [  -303245  31156813 109200466] 0.0\n",
      "7 [    9755457 -1002315096   781986729] 0.0\n",
      "8 [ 223037729 1105978585 -535561115] 0.0\n",
      "9 [-205192461  935467673 -918234212] 0.0\n",
      "10 [-231712734  137598796  597452151] 0.0\n"
     ]
    },
    {
     "name": "stderr",
     "output_type": "stream",
     "text": [
      "C:\\Users\\jumbo\\Anaconda3\\lib\\site-packages\\ipykernel_launcher.py:17: RuntimeWarning: overflow encountered in long_scalars\n",
      "C:\\Users\\jumbo\\Anaconda3\\lib\\site-packages\\ipykernel_launcher.py:14: RuntimeWarning: overflow encountered in long_scalars\n",
      "  \n"
     ]
    }
   ],
   "source": [
    "import numpy as np\n",
    "\n",
    "A = np.array([[8,1,-1],[2,1,9],[1,-7,2]])\n",
    "b = np.array([[8],[12],[-4]])\n",
    "maxit = 10\n",
    "tol = 0.001\n",
    "r,c = A.shape\n",
    "x = np.array([0,0,0])\n",
    "nx = np.array([0,0,0])\n",
    "def f_1(x,a,b):\n",
    "    return (1/a[0])*(b-a[1]*x[1]-a[2]*x[2])\n",
    "\n",
    "def f_2(x,a,b):\n",
    "    return (1/a[1])*(b-a[0]*x[0]-a[2]*x[2])\n",
    "\n",
    "def f_3(x,a,b):\n",
    "    return (1/a[2])*(b-a[0]*x[0]-a[1]*x[1])\n",
    "\n",
    "for i in range(maxit):\n",
    "    nx[0] = f_1(x,A[0],b[0])\n",
    "    nx[1] = f_2(x,A[1],b[1])\n",
    "    nx[2] = f_3(x,A[2],b[2])\n",
    "    r = (np.linalg.norm(nx)-np.linalg.norm(x))/np.linalg.norm(nx)\n",
    "    print(i+1,nx,r)\n",
    "    x = nx"
   ]
  },
  {
   "cell_type": "code",
   "execution_count": 1,
   "metadata": {},
   "outputs": [
    {
     "name": "stdout",
     "output_type": "stream",
     "text": [
      "[[ 1.     0.125 -0.125]\n",
      " [ 2.     1.     9.   ]\n",
      " [ 0.5   -3.5    1.   ]]\n",
      "[ 1. 12. -2.]\n"
     ]
    }
   ],
   "source": [
    "import numpy as np\n",
    "np.set_printoptions(precision=4, suppress=True)\n",
    "A = np.array([[8,1,-1],[2,1,9],[1,-7,2]])\n",
    "b = np.array([[8],[12],[-4]])\n",
    "maxit = 10\n",
    "tol = 0.001\n",
    "r,c = A.shape\n",
    "x = np.array([0,0,0])\n",
    "nx = np.array([0,0,0])\n",
    "B = np.zeros((r,c),dtype=float)\n",
    "bb = np.zeros(c,dtype=float)\n",
    "for i in range(r):\n",
    "    s = A[i][i]\n",
    "    B[i] = A[i]/s\n",
    "    bb[i] = b[i]/s\n",
    "print(B)\n",
    "print(bb)"
   ]
  },
  {
   "cell_type": "code",
   "execution_count": 6,
   "metadata": {},
   "outputs": [
    {
     "name": "stdout",
     "output_type": "stream",
     "text": [
      "1 [ 1. 12. -2.] 1.0\n"
     ]
    },
    {
     "ename": "TypeError",
     "evalue": "'numpy.float64' object cannot be interpreted as an integer",
     "output_type": "error",
     "traceback": [
      "\u001b[1;31m---------------------------------------------------------------------------\u001b[0m",
      "\u001b[1;31mTypeError\u001b[0m                                 Traceback (most recent call last)",
      "\u001b[1;32m<ipython-input-6-75b128e20d75>\u001b[0m in \u001b[0;36m<module>\u001b[1;34m()\u001b[0m\n\u001b[0;32m      4\u001b[0m \u001b[1;33m\u001b[0m\u001b[0m\n\u001b[0;32m      5\u001b[0m \u001b[1;32mfor\u001b[0m \u001b[0mk\u001b[0m \u001b[1;32min\u001b[0m \u001b[0mrange\u001b[0m\u001b[1;33m(\u001b[0m\u001b[0mmaxit\u001b[0m\u001b[1;33m)\u001b[0m\u001b[1;33m:\u001b[0m\u001b[1;33m\u001b[0m\u001b[0m\n\u001b[1;32m----> 6\u001b[1;33m     \u001b[1;32mfor\u001b[0m \u001b[0mii\u001b[0m \u001b[1;32min\u001b[0m \u001b[0mrange\u001b[0m\u001b[1;33m(\u001b[0m\u001b[0mr\u001b[0m\u001b[1;33m)\u001b[0m\u001b[1;33m:\u001b[0m\u001b[1;33m\u001b[0m\u001b[0m\n\u001b[0m\u001b[0;32m      7\u001b[0m         \u001b[0msumx\u001b[0m \u001b[1;33m=\u001b[0m \u001b[1;36m0.0\u001b[0m\u001b[1;33m\u001b[0m\u001b[0m\n\u001b[0;32m      8\u001b[0m         \u001b[1;32mfor\u001b[0m \u001b[0mj\u001b[0m \u001b[1;32min\u001b[0m \u001b[0mrange\u001b[0m\u001b[1;33m(\u001b[0m\u001b[0mc\u001b[0m\u001b[1;33m)\u001b[0m\u001b[1;33m:\u001b[0m\u001b[1;33m\u001b[0m\u001b[0m\n",
      "\u001b[1;31mTypeError\u001b[0m: 'numpy.float64' object cannot be interpreted as an integer"
     ]
    }
   ],
   "source": [
    "r,c = B.shape\n",
    "x = np.zeros(c,dtype=float)\n",
    "nx = np.zeros(c)\n",
    "\n",
    "for k in range(maxit):\n",
    "    for ii in range(r):\n",
    "        sumx = 0.0\n",
    "        for j in range(c):\n",
    "            if j != ii:\n",
    "                sumx += B[ii][j]*x[ii]\n",
    "        nx[ii] = bb[ii] - sumx\n",
    "    n1 = np.linalg.norm(nx)\n",
    "    n2 = np.linalg.norm(x)\n",
    "    r = (n1-n2)/n1\n",
    "    print(k+1,nx,r)\n",
    "    if r < tol:\n",
    "        break\n",
    "    x = nx\n",
    "        "
   ]
  },
  {
   "cell_type": "code",
   "execution_count": 10,
   "metadata": {},
   "outputs": [
    {
     "ename": "ValueError",
     "evalue": "setting an array element with a sequence.",
     "output_type": "error",
     "traceback": [
      "\u001b[1;31m---------------------------------------------------------------------------\u001b[0m",
      "\u001b[1;31mValueError\u001b[0m                                Traceback (most recent call last)",
      "\u001b[1;32m<ipython-input-10-4cedbe5ce83c>\u001b[0m in \u001b[0;36m<module>\u001b[1;34m()\u001b[0m\n\u001b[0;32m      7\u001b[0m         \u001b[1;31m#sumx = 0.0\u001b[0m\u001b[1;33m\u001b[0m\u001b[1;33m\u001b[0m\u001b[0m\n\u001b[0;32m      8\u001b[0m         \u001b[0msumx\u001b[0m \u001b[1;33m+=\u001b[0m \u001b[0mB\u001b[0m\u001b[1;33m[\u001b[0m\u001b[0mii\u001b[0m\u001b[1;33m]\u001b[0m\u001b[1;33m*\u001b[0m\u001b[0mx\u001b[0m\u001b[1;33m[\u001b[0m\u001b[0mii\u001b[0m\u001b[1;33m]\u001b[0m\u001b[1;33m.\u001b[0m\u001b[0mT\u001b[0m\u001b[1;33m\u001b[0m\u001b[0m\n\u001b[1;32m----> 9\u001b[1;33m         \u001b[0mnx\u001b[0m\u001b[1;33m[\u001b[0m\u001b[0mii\u001b[0m\u001b[1;33m]\u001b[0m \u001b[1;33m=\u001b[0m \u001b[0mbb\u001b[0m\u001b[1;33m[\u001b[0m\u001b[0mii\u001b[0m\u001b[1;33m]\u001b[0m \u001b[1;33m-\u001b[0m \u001b[0msumx\u001b[0m\u001b[1;33m\u001b[0m\u001b[0m\n\u001b[0m\u001b[0;32m     10\u001b[0m     \u001b[0mn1\u001b[0m \u001b[1;33m=\u001b[0m \u001b[0mnp\u001b[0m\u001b[1;33m.\u001b[0m\u001b[0mlinalg\u001b[0m\u001b[1;33m.\u001b[0m\u001b[0mnorm\u001b[0m\u001b[1;33m(\u001b[0m\u001b[0mnx\u001b[0m\u001b[1;33m)\u001b[0m\u001b[1;33m\u001b[0m\u001b[0m\n\u001b[0;32m     11\u001b[0m     \u001b[0mn2\u001b[0m \u001b[1;33m=\u001b[0m \u001b[0mnp\u001b[0m\u001b[1;33m.\u001b[0m\u001b[0mlinalg\u001b[0m\u001b[1;33m.\u001b[0m\u001b[0mnorm\u001b[0m\u001b[1;33m(\u001b[0m\u001b[0mx\u001b[0m\u001b[1;33m)\u001b[0m\u001b[1;33m\u001b[0m\u001b[0m\n",
      "\u001b[1;31mValueError\u001b[0m: setting an array element with a sequence."
     ]
    }
   ],
   "source": [
    "r,c = B.shape\n",
    "x = np.zeros(c,dtype=float)\n",
    "nx = np.zeros(c)\n",
    "\n",
    "for k in range(maxit):\n",
    "    for ii in range(r):\n",
    "        #sumx = 0.0\n",
    "        sumx += B[ii]*x[ii].T\n",
    "        nx[ii] = bb[ii] - sumx\n",
    "    n1 = np.linalg.norm(nx)\n",
    "    n2 = np.linalg.norm(x)\n",
    "    r = (n1-n2)/n1\n",
    "    print(k+1,nx,r)\n",
    "    if r < tol:\n",
    "        break\n",
    "    x = nx"
   ]
  },
  {
   "cell_type": "code",
   "execution_count": null,
   "metadata": {
    "collapsed": true
   },
   "outputs": [],
   "source": []
  }
 ],
 "metadata": {
  "kernelspec": {
   "display_name": "Python 3",
   "language": "python",
   "name": "python3"
  },
  "language_info": {
   "codemirror_mode": {
    "name": "ipython",
    "version": 3
   },
   "file_extension": ".py",
   "mimetype": "text/x-python",
   "name": "python",
   "nbconvert_exporter": "python",
   "pygments_lexer": "ipython3",
   "version": "3.6.2"
  }
 },
 "nbformat": 4,
 "nbformat_minor": 2
}
