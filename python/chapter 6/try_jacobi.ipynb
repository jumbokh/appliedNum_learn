{
 "cells": [
  {
   "cell_type": "code",
   "execution_count": 1,
   "metadata": {
    "collapsed": true
   },
   "outputs": [],
   "source": [
    "import numpy as np\n",
    "from jacobi import *"
   ]
  },
  {
   "cell_type": "code",
   "execution_count": 2,
   "metadata": {
    "collapsed": true
   },
   "outputs": [],
   "source": [
    "A = np.array([[8,1,-1],[2,1,9],[1,-7,2]])\n",
    "b = np.array([[8],[12],[-4]])"
   ]
  },
  {
   "cell_type": "code",
   "execution_count": 3,
   "metadata": {},
   "outputs": [
    {
     "name": "stdout",
     "output_type": "stream",
     "text": [
      "[ 8 -8 10]\n",
      "[[ 0.99033427 -0.10335016 -0.09250282]\n",
      " [ 0.13870121  0.73792581  0.66047518]\n",
      " [ 0.         -0.66692146  0.74512802]]\n"
     ]
    }
   ],
   "source": [
    "sol,p = jacobi(A)\n",
    "print(sol)\n",
    "print(p)"
   ]
  },
  {
   "cell_type": "code",
   "execution_count": 25,
   "metadata": {},
   "outputs": [
    {
     "name": "stdout",
     "output_type": "stream",
     "text": [
      "3 3\n",
      "[[ 8.  1. -1.  8.]\n",
      " [ 2.  1.  9. 12.]\n",
      " [ 1. -7.  2. -4.]]\n"
     ]
    }
   ],
   "source": [
    "# step 1 尺度化\n",
    "A = np.array([[8,1,-1],[2,1,9],[1,-7,2]])\n",
    "b = np.array([[8],[12],[-4]])\n",
    "r,c = A.shape\n",
    "print(r,c)\n",
    "B = np.zeros((r,c+1),dtype=float)\n",
    "for i in range(r):\n",
    "    for j in range(c):\n",
    "        B[i][j]=A[i][j]\n",
    "    B[i][j+1] = b[i]\n",
    "print(B)"
   ]
  },
  {
   "cell_type": "code",
   "execution_count": 26,
   "metadata": {},
   "outputs": [
    {
     "name": "stdout",
     "output_type": "stream",
     "text": [
      "[[ 8.  1. -1.  8.]\n",
      " [ 2.  1.  9. 12.]\n",
      " [ 1. -7.  2. -4.]]\n",
      "[[ 1.     0.125 -0.125  1.   ]\n",
      " [ 2.     1.     9.    12.   ]\n",
      " [ 0.5   -3.5    1.    -2.   ]]\n"
     ]
    }
   ],
   "source": [
    "r1,c1 = B.shape\n",
    "H = B.copy()\n",
    "print(H)\n",
    "for i in range(r1):\n",
    "    s = B[i][i]\n",
    "    for j in range(c1):\n",
    "        H[i][j] = B[i][j]/s\n",
    "print(H)\n",
    "    "
   ]
  },
  {
   "cell_type": "code",
   "execution_count": null,
   "metadata": {
    "collapsed": true
   },
   "outputs": [],
   "source": []
  }
 ],
 "metadata": {
  "kernelspec": {
   "display_name": "Python 3",
   "language": "python",
   "name": "python3"
  },
  "language_info": {
   "codemirror_mode": {
    "name": "ipython",
    "version": 3
   },
   "file_extension": ".py",
   "mimetype": "text/x-python",
   "name": "python",
   "nbconvert_exporter": "python",
   "pygments_lexer": "ipython3",
   "version": "3.6.2"
  }
 },
 "nbformat": 4,
 "nbformat_minor": 2
}
