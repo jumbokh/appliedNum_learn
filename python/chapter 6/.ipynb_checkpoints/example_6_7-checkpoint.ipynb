{
 "cells": [
  {
   "cell_type": "code",
   "execution_count": 16,
   "metadata": {},
   "outputs": [
    {
     "name": "stdout",
     "output_type": "stream",
     "text": [
      "index    x1          x2     x3          r\n",
      "1     2.0000 ,  -4.8333 ,   3.9091 ,     6.5301\n",
      "2    -0.4167 ,  -0.9091 ,   1.7121 ,     5.1055\n",
      "3     1.5455 ,  -3.5455 ,   3.4959 ,     3.7393\n",
      "4     0.2273 ,  -1.4050 ,   2.2975 ,     2.7848\n",
      "5     1.2975 ,  -2.8430 ,   3.2705 ,     2.0396\n",
      "6     0.5785 ,  -1.6754 ,   2.6168 ,     1.5190\n",
      "7     1.1623 ,  -2.4598 ,   3.1475 ,     1.1125\n",
      "8     0.7701 ,  -1.8230 ,   2.7910 ,     0.8285\n",
      "9     1.0885 ,  -2.2508 ,   3.0805 ,     0.6068\n",
      "10     0.8746 ,  -1.9034 ,   2.8860 ,     0.4519\n",
      "11     1.0483 ,  -2.1368 ,   3.0439 ,     0.3310\n",
      "12     0.9316 ,  -1.9473 ,   2.9378 ,     0.2465\n",
      "13     1.0263 ,  -2.0746 ,   3.0239 ,     0.1805\n",
      "14     0.9627 ,  -1.9713 ,   2.9661 ,     0.1345\n",
      "15     1.0144 ,  -2.0407 ,   3.0131 ,     0.0985\n"
     ]
    }
   ],
   "source": [
    "# 高斯賽德法\n",
    "import numpy as np\n",
    "\n",
    "A = np.array([[4,-2,0],[-2,6,-5],[0,-5,11]])\n",
    "b = np.array([[8],[-29],[43]])\n",
    "maxit = 15\n",
    "tol = 0.001\n",
    "\n",
    "def cross(a,b,n):\n",
    "    sumx = 0.0\n",
    "    for i in range(len(a)):\n",
    "        if i != n:\n",
    "            sumx += a[i]*b[i]\n",
    "    return sumx\n",
    "\n",
    "def disp(x):\n",
    "    for i in range(len(x)):\n",
    "       print('%8.4f'%x[i],', ',end='')\n",
    "    \n",
    "r,c = A.shape\n",
    "B = np.zeros((r,c),dtype=float)\n",
    "bb = np.zeros(c,dtype=float)\n",
    "for i in range(r):\n",
    "    s = A[i][i]\n",
    "    B[i] = A[i]/s\n",
    "    bb[i] = b[i]/s    \n",
    "x = np.zeros(c,dtype=float)\n",
    "nx = np.zeros(c,dtype=float)\n",
    "np.set_printoptions(precision=4, suppress=True)\n",
    "print('index    x1          x2     x3          r')\n",
    "x1 = x.copy()\n",
    "for k in range(maxit):\n",
    "    for ii in range(c):\n",
    "        nx[ii] = bb[ii] - cross(B[ii],x,ii)\n",
    "    r = np.linalg.norm(nx-x1)  \n",
    "    if r < tol:\n",
    "        print('Iteration is coverged')\n",
    "        break\n",
    "    print(k+1,end='   ')\n",
    "    disp(nx)\n",
    "    print(' ','%8.4f'%r)\n",
    "    x = nx.copy()\n",
    "    x1 = nx.copy()"
   ]
  },
  {
   "cell_type": "code",
   "execution_count": 18,
   "metadata": {},
   "outputs": [
    {
     "name": "stdout",
     "output_type": "stream",
     "text": [
      "index    x1          x2     x3          r\n",
      "1     2.4000 ,  -4.8400 ,   2.0509 ,     5.7786\n",
      "2    -0.9840 ,  -3.1747 ,   2.5491 ,     3.8043\n",
      "3     0.6920 ,  -2.3392 ,   2.9052 ,     1.9063\n",
      "4     0.8581 ,  -2.0838 ,   2.9733 ,     0.3122\n",
      "5     0.9781 ,  -2.0187 ,   2.9951 ,     0.1383\n",
      "6     0.9931 ,  -2.0039 ,   2.9989 ,     0.0214\n",
      "7     0.9991 ,  -2.0007 ,   2.9998 ,     0.0068\n",
      "Iteration is coverged\n"
     ]
    }
   ],
   "source": [
    "# SOR\n",
    "import numpy as np\n",
    "\n",
    "A = np.array([[4,-2,0],[-2,6,-5],[0,-5,11]])\n",
    "b = np.array([[8],[-29],[43]])\n",
    "maxit = 13\n",
    "tol = 0.001\n",
    "omega = 1.2\n",
    "\n",
    "def cross(a,b,n):\n",
    "    sumx = 0.0\n",
    "    for i in range(len(a)):\n",
    "        if i != n:\n",
    "            sumx += a[i]*b[i]\n",
    "    return sumx\n",
    "\n",
    "def disp(x):\n",
    "    for i in range(len(x)):\n",
    "       print('%8.4f'%x[i],', ',end='')\n",
    "    \n",
    "r,c = A.shape\n",
    "x = np.zeros(c,dtype=float)\n",
    "nx = np.zeros(c,dtype=float)\n",
    "np.set_printoptions(precision=4, suppress=True)\n",
    "print('index    x1          x2     x3          r')\n",
    "\n",
    "for k in range(maxit):\n",
    "    x1 = x.copy()\n",
    "    for ii in range(c):\n",
    "        nx[ii] = (1-omega)*x[ii]+(omega/A[ii][ii])*(b[ii] - cross(A[ii],x,ii))\n",
    "        x[ii] = nx[ii]\n",
    "    r = np.linalg.norm(nx-x1)  \n",
    "    if r < tol:\n",
    "        print('Iteration is coverged')\n",
    "        break\n",
    "    print(k+1,end='   ')\n",
    "    disp(nx)\n",
    "    print(' ','%8.4f'%r)\n",
    "    x = nx.copy()"
   ]
  },
  {
   "cell_type": "code",
   "execution_count": null,
   "metadata": {
    "collapsed": true
   },
   "outputs": [],
   "source": []
  }
 ],
 "metadata": {
  "kernelspec": {
   "display_name": "Python 3",
   "language": "python",
   "name": "python3"
  },
  "language_info": {
   "codemirror_mode": {
    "name": "ipython",
    "version": 3
   },
   "file_extension": ".py",
   "mimetype": "text/x-python",
   "name": "python",
   "nbconvert_exporter": "python",
   "pygments_lexer": "ipython3",
   "version": "3.6.6"
  }
 },
 "nbformat": 4,
 "nbformat_minor": 2
}
