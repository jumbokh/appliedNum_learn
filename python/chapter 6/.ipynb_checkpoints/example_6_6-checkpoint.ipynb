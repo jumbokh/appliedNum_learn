{
 "cells": [
  {
   "cell_type": "code",
   "execution_count": 17,
   "metadata": {},
   "outputs": [
    {
     "name": "stdout",
     "output_type": "stream",
     "text": [
      "index    x1          x2     x3          r\n",
      "1    -0.5000 ,   3.0000 ,  -1.5000 ,     3.3912\n",
      "2     1.7500 ,   1.3750 ,  -1.6875 ,     0.0000\n",
      "3     1.0312 ,   1.6406 ,  -1.1953 ,     0.0000\n",
      "4     0.9180 ,   1.9434 ,  -0.9873 ,     0.0000\n",
      "5     0.9653 ,   2.0237 ,  -0.9708 ,     0.0000\n",
      "6     0.9973 ,   2.0160 ,  -0.9906 ,     0.0000\n",
      "7     1.0033 ,   2.0030 ,  -1.0001 ,     0.0000\n",
      "8     1.0016 ,   1.9991 ,  -1.0012 ,     0.0000\n",
      "9     1.0002 ,   1.9993 ,  -1.0004 ,     0.0000\n",
      "10     0.9999 ,   1.9998 ,  -1.0000 ,     0.0000\n"
     ]
    }
   ],
   "source": [
    "import numpy as np\n",
    "\n",
    "A = np.array([[2,-1,1],[1,2,-1],[1,-1,2]])\n",
    "b = np.array([[-1],[6],[-3]])\n",
    "maxit = 10\n",
    "tol = 0.001\n",
    "\n",
    "def cross(a,b,n):\n",
    "    sumx = 0.0\n",
    "    for i in range(len(a)):\n",
    "        if i != n:\n",
    "            sumx += a[i]*b[i]\n",
    "    return sumx\n",
    "\n",
    "def disp(x):\n",
    "    for i in range(len(x)):\n",
    "       print('%8.4f'%x[i],', ',end='')\n",
    "    \n",
    "r,c = A.shape\n",
    "B = np.zeros((r,c),dtype=float)\n",
    "bb = np.zeros(c,dtype=float)\n",
    "for i in range(r):\n",
    "    s = A[i][i]\n",
    "    B[i] = A[i]/s\n",
    "    bb[i] = b[i]/s    \n",
    "x = np.zeros(c,dtype=float)\n",
    "nx = np.zeros(c,dtype=float)\n",
    "np.set_printoptions(precision=4, suppress=True)\n",
    "print('index    x1          x2     x3          r')\n",
    "for k in range(maxit):\n",
    "    for ii in range(c):\n",
    "        nx[ii] = bb[ii] - cross(B[ii],x,ii)\n",
    "    r = np.linalg.norm(nx-x)    \n",
    "    print(k+1,end='   ')\n",
    "    disp(nx)\n",
    "    print(' ','%8.4f'%r)\n",
    "    x = nx"
   ]
  },
  {
   "cell_type": "code",
   "execution_count": 23,
   "metadata": {},
   "outputs": [
    {
     "name": "stdout",
     "output_type": "stream",
     "text": [
      "index    x1          x2     x3          r\n",
      "1    -0.5000 ,   3.2500 ,   0.3750 ,     3.3096\n",
      "2     0.9375 ,   2.7188 ,  -0.6094 ,     1.8214\n",
      "3     1.1641 ,   2.1133 ,  -1.0254 ,     0.7688\n",
      "4     1.0693 ,   1.9526 ,  -1.0583 ,     0.1894\n",
      "5     1.0055 ,   1.9681 ,  -1.0187 ,     0.0767\n",
      "6     0.9934 ,   1.9939 ,  -0.9997 ,     0.0343\n",
      "7     0.9968 ,   2.0017 ,  -0.9976 ,     0.0088\n",
      "8     0.9996 ,   2.0014 ,  -0.9991 ,     0.0032\n",
      "9     1.0003 ,   2.0003 ,  -1.0000 ,     0.0015\n",
      "10     1.0001 ,   1.9999 ,  -1.0001 ,     0.0004\n"
     ]
    }
   ],
   "source": [
    "# 高斯賽德法\n",
    "import numpy as np\n",
    "\n",
    "A = np.array([[2,-1,1],[1,2,-1],[1,-1,2]])\n",
    "b = np.array([[-1],[6],[-3]])\n",
    "maxit = 10\n",
    "tol = 0.001\n",
    "\n",
    "def cross(a,b,n):\n",
    "    sumx = 0.0\n",
    "    for i in range(len(a)):\n",
    "        if i != n:\n",
    "            sumx += a[i]*b[i]\n",
    "    return sumx\n",
    "\n",
    "def disp(x):\n",
    "    for i in range(len(x)):\n",
    "       print('%8.4f'%x[i],', ',end='')\n",
    "    \n",
    "r,c = A.shape\n",
    "B = np.zeros((r,c),dtype=float)\n",
    "bb = np.zeros(c,dtype=float)\n",
    "for i in range(r):\n",
    "    s = A[i][i]\n",
    "    B[i] = A[i]/s\n",
    "    bb[i] = b[i]/s    \n",
    "x = np.zeros(c,dtype=float)\n",
    "nx = np.zeros(c,dtype=float)\n",
    "np.set_printoptions(precision=4, suppress=True)\n",
    "print('index    x1          x2     x3          r')\n",
    "x1 = x.copy()\n",
    "for k in range(maxit):\n",
    "    for ii in range(c):\n",
    "        nx[ii] = bb[ii] - cross(B[ii],x,ii)\n",
    "        x[ii] = nx[ii]\n",
    "    r = np.linalg.norm(nx-x1)  \n",
    "    if r < tol:\n",
    "        print('Iteration is coverged')\n",
    "        break\n",
    "    print(k+1,end='   ')\n",
    "    disp(nx)\n",
    "    print(' ','%8.4f'%r)\n",
    "    x = nx.copy()\n",
    "    x1 = nx.copy()"
   ]
  },
  {
   "cell_type": "code",
   "execution_count": null,
   "metadata": {
    "collapsed": true
   },
   "outputs": [],
   "source": []
  }
 ],
 "metadata": {
  "kernelspec": {
   "display_name": "Python 3",
   "language": "python",
   "name": "python3"
  },
  "language_info": {
   "codemirror_mode": {
    "name": "ipython",
    "version": 3
   },
   "file_extension": ".py",
   "mimetype": "text/x-python",
   "name": "python",
   "nbconvert_exporter": "python",
   "pygments_lexer": "ipython3",
   "version": "3.6.6"
  }
 },
 "nbformat": 4,
 "nbformat_minor": 2
}
