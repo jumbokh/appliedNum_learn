{
 "cells": [
  {
   "cell_type": "code",
   "execution_count": 5,
   "metadata": {},
   "outputs": [],
   "source": [
    "from newton import *"
   ]
  },
  {
   "cell_type": "code",
   "execution_count": 6,
   "metadata": {},
   "outputs": [],
   "source": [
    "def f(x):\n",
    "    return (x**2-5.0)**2*(x**2-3)"
   ]
  },
  {
   "cell_type": "code",
   "execution_count": 7,
   "metadata": {},
   "outputs": [],
   "source": [
    "def fpr(x):\n",
    "    return 4*x*(x**2-5)*(x**2-3)+2*x*(x**2-5)**2"
   ]
  },
  {
   "cell_type": "code",
   "execution_count": 9,
   "metadata": {},
   "outputs": [
    {
     "name": "stdout",
     "output_type": "stream",
     "text": [
      "0 2.000000 2.250000 1.000000\n",
      "1 2.250000 2.243159 0.008057\n",
      "2 2.243159 2.239647 0.002050\n",
      "3 2.239647 2.237866 0.000517\n",
      "4 2.237866 2.236969 0.000130\n",
      "5 2.236969 2.236519 0.000033\n",
      "6 2.236519 2.236294 0.000008\n",
      "7 2.236294 2.236181 0.000002\n",
      "8 2.236181 2.236124 0.000001\n",
      "x =  2.236181\n"
     ]
    }
   ],
   "source": [
    "x = newton(f,fpr,2.0,10,tol = 1.0e-4)\n",
    "print('x = ','{:8.6f}'.format(x))"
   ]
  },
  {
   "cell_type": "code",
   "execution_count": null,
   "metadata": {},
   "outputs": [],
   "source": []
  }
 ],
 "metadata": {
  "kernelspec": {
   "display_name": "Python 3",
   "language": "python",
   "name": "python3"
  },
  "language_info": {
   "codemirror_mode": {
    "name": "ipython",
    "version": 3
   },
   "file_extension": ".py",
   "mimetype": "text/x-python",
   "name": "python",
   "nbconvert_exporter": "python",
   "pygments_lexer": "ipython3",
   "version": "3.6.6"
  }
 },
 "nbformat": 4,
 "nbformat_minor": 2
}
