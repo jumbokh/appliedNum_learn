{
 "cells": [
  {
   "cell_type": "code",
   "execution_count": 1,
   "metadata": {},
   "outputs": [],
   "source": [
    "import numpy as np\n",
    "from falsi import *"
   ]
  },
  {
   "cell_type": "code",
   "execution_count": 2,
   "metadata": {},
   "outputs": [],
   "source": [
    "def f(x):\n",
    "    return x**3-2.0"
   ]
  },
  {
   "cell_type": "code",
   "execution_count": 6,
   "metadata": {},
   "outputs": [
    {
     "name": "stdout",
     "output_type": "stream",
     "text": [
      "0 1.000000 2.000000 1.142857 -0.507289\n",
      "1 1.142857 2.000000 1.209677 -0.229855\n",
      "2 1.209677 2.000000 1.238837 -0.098736\n",
      "3 1.238837 2.000000 1.251160 -0.041433\n",
      "4 1.251160 2.000000 1.256296 -0.017216\n",
      "5 1.256296 2.000000 1.258423 -0.007124\n",
      "6 1.258423 2.000000 1.259303 -0.002943\n",
      "7 1.259303 2.000000 1.259666 -0.001215\n",
      "8 1.259666 2.000000 1.259816 -0.000501\n",
      "9 1.259816 2.000000 1.259878 -0.000207\n",
      "10 1.259878 2.000000 1.259903 -0.000085\n",
      "x =  1.259914\n"
     ]
    }
   ],
   "source": [
    "x = falsi(f, 1,2, tol = 1.0e-5)\n",
    "print('x = ','{:8.6f}'.format(x))"
   ]
  },
  {
   "cell_type": "code",
   "execution_count": null,
   "metadata": {},
   "outputs": [],
   "source": []
  }
 ],
 "metadata": {
  "kernelspec": {
   "display_name": "Python 3",
   "language": "python",
   "name": "python3"
  },
  "language_info": {
   "codemirror_mode": {
    "name": "ipython",
    "version": 3
   },
   "file_extension": ".py",
   "mimetype": "text/x-python",
   "name": "python",
   "nbconvert_exporter": "python",
   "pygments_lexer": "ipython3",
   "version": "3.6.6"
  }
 },
 "nbformat": 4,
 "nbformat_minor": 2
}
