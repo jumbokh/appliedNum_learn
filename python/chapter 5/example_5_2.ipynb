{
 "cells": [
  {
   "cell_type": "code",
   "execution_count": 1,
   "metadata": {
    "collapsed": true
   },
   "outputs": [],
   "source": [
    "from power_B import *"
   ]
  },
  {
   "cell_type": "code",
   "execution_count": 2,
   "metadata": {
    "collapsed": true
   },
   "outputs": [],
   "source": [
    "A = np.array([[41.5,-31.5,21.0,-10.5],[43.4, -33.4, 22.4, -11.2],[2.2, -2.2, 1.7, -0.8],[0.2, -0.2, 0.2, 0.0]])\n",
    "z = [[1],[1],[1],[1]]"
   ]
  },
  {
   "cell_type": "code",
   "execution_count": 3,
   "metadata": {},
   "outputs": [
    {
     "name": "stdout",
     "output_type": "stream",
     "text": [
      "iter       w1    r  z(x)\n",
      "1 [21.2] 16.202863489021297 [[0.967  1.     0.0425 0.0094]]\n",
      "===============================================\n",
      "2 [9.4222] 0.8433155358149018 [[ 1.      0.9989 -0.0009  0.0002]]\n",
      "===============================================\n",
      "3 [10.0138] 0.020964145284936668 [[0.9999 1.     0.0001 0.    ]]\n",
      "===============================================\n",
      "4 [9.9987] 0.0019377218340014084 [[ 1.  1. -0.  0.]]\n",
      "===============================================\n",
      "5 [10.] 5.216770264989571e-05 [[1. 1. 0. 0.]]\n",
      "===============================================\n",
      "Power Method has coverged\n",
      "eigs:  [10.]\n",
      "[1. 1. 0. 0.]\n"
     ]
    }
   ],
   "source": [
    "np.set_printoptions(precision=5)\n",
    "[eigs,vecs] = power_B(A,z,15,0.0001)\n",
    "print('eigs: ',eigs)\n",
    "for x in vecs.T:\n",
    "    print(x,end='')\n",
    "print()"
   ]
  },
  {
   "cell_type": "code",
   "execution_count": 2,
   "metadata": {},
   "outputs": [],
   "source": [
    "from rayleigh import *\n",
    "import numpy as np"
   ]
  },
  {
   "cell_type": "code",
   "execution_count": 3,
   "metadata": {
    "collapsed": true
   },
   "outputs": [],
   "source": [
    "A = np.array([[41.5,-31.5,21.0,-10.5],[43.4, -33.4, 22.4, -11.2],[2.2, -2.2, 1.7, -0.8],[0.2, -0.2, 0.2, 0.0]])\n",
    "z = [[1],[1],[1],[1]]"
   ]
  },
  {
   "cell_type": "code",
   "execution_count": 4,
   "metadata": {},
   "outputs": [
    {
     "name": "stdout",
     "output_type": "stream",
     "text": [
      "iter     m       r     z(x)\n",
      "1     [10.7] 10.15 [[0.5 0.5 0.5 0.5]]\n",
      "===============================================\n",
      "2     [9.563] 0.346 [[0.6948 0.7185 0.0305 0.0068]]\n",
      "===============================================\n",
      "3     [10.0187] 0.008 [[ 0.7075  0.7067 -0.0006  0.0001]]\n",
      "===============================================\n",
      "4     [9.999] 0.000 [[0.7071 0.7071 0.     0.    ]]\n",
      "===============================================\n",
      "Power Method has coverged\n",
      "eigs:  [9.999]\n",
      "vecs: [0.7071 0.7071 0.     0.    ]\n"
     ]
    }
   ],
   "source": [
    "[eigs,vecs] = rayleigh(A,z,10,0.001)\n",
    "print('eigs: ',eigs)\n",
    "print('vecs: ',end='')\n",
    "for x in vecs.T:\n",
    "    print(x,end='')\n",
    "print()"
   ]
  },
  {
   "cell_type": "code",
   "execution_count": null,
   "metadata": {
    "collapsed": true
   },
   "outputs": [],
   "source": []
  }
 ],
 "metadata": {
  "kernelspec": {
   "display_name": "Python 3",
   "language": "python",
   "name": "python3"
  },
  "language_info": {
   "codemirror_mode": {
    "name": "ipython",
    "version": 3
   },
   "file_extension": ".py",
   "mimetype": "text/x-python",
   "name": "python",
   "nbconvert_exporter": "python",
   "pygments_lexer": "ipython3",
   "version": "3.6.6"
  }
 },
 "nbformat": 4,
 "nbformat_minor": 2
}
