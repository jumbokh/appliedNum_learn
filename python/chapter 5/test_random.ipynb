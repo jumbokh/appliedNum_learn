{
 "cells": [
  {
   "cell_type": "code",
   "execution_count": 2,
   "metadata": {},
   "outputs": [
    {
     "name": "stdout",
     "output_type": "stream",
     "text": [
      "[ 0.24611461  0.2730003   0.3683448  -0.49640351]\n",
      "[ 0.43604344  0.30808075  0.3288136   0.10252147]\n",
      "[-0.29934622  0.06706441 -0.29705139  0.00089893]\n",
      "[-0.18483886  0.27077208  0.24986139  0.24321681]\n",
      "[-0.04340429 -0.27868482  0.16028141 -0.00039111]\n",
      "[-0.46014571  0.27376889 -0.45248016  0.41175818]\n",
      "[ 0.15696621 -0.02694983  0.32063686  0.37776272]\n",
      "[-0.16286444  0.06116123 -0.32894443  0.06326165]\n",
      "[ 0.0407553  -0.3488179   0.29294709  0.16467526]\n",
      "[ 0.19075325  0.01284319 -0.28041944  0.23984591]\n"
     ]
    }
   ],
   "source": [
    "from numpy import *\n",
    "for i in range(10):\n",
    "    x = random.rand(4)-0.5\n",
    "    print x"
   ]
  },
  {
   "cell_type": "code",
   "execution_count": null,
   "metadata": {
    "collapsed": true
   },
   "outputs": [],
   "source": []
  }
 ],
 "metadata": {
  "kernelspec": {
   "display_name": "Python 2",
   "language": "python",
   "name": "python2"
  },
  "language_info": {
   "codemirror_mode": {
    "name": "ipython",
    "version": 2
   },
   "file_extension": ".py",
   "mimetype": "text/x-python",
   "name": "python",
   "nbconvert_exporter": "python",
   "pygments_lexer": "ipython2",
   "version": "2.7.14"
  }
 },
 "nbformat": 4,
 "nbformat_minor": 2
}
