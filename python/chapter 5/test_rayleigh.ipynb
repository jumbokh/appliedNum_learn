{
 "cells": [
  {
   "cell_type": "code",
   "execution_count": 6,
   "metadata": {},
   "outputs": [
    {
     "name": "stdout",
     "output_type": "stream",
     "text": [
      "\n",
      "A = \n",
      "[[ 4.       0.66667 -1.33333  1.33333]\n",
      " [ 0.66667  4.       0.       0.     ]\n",
      " [-1.33333  0.       6.       2.     ]\n",
      " [ 1.33333  0.       2.       6.     ]]\n",
      "\n",
      "Eigenvalues:  [ 2.  6.  4.  8.]\n",
      "\n",
      "Starting guess v:  [-0.96695  0.78602  0.83964 -0.46782]\n",
      " \n",
      "k = 0, mu =    1.0000000000000000 +    1.0000000000000000j\n",
      "k = 1, mu =    4.1950604486475740 +    0.0000000000000000j\n",
      "k = 2, mu =    4.0056532748017055 +   -0.0000000000000002j\n",
      "k = 3, mu =    4.0000000453786217 +   -0.0000000000000002j\n",
      "k = 4, mu =    4.0000000000000000 +   -0.0000000000000002j\n",
      "k = 5, mu =    4.0000000000000009 +    0.0000000000000000j\n",
      "k = 6, mu =    4.0000000000000000 +    0.0000000000000000j\n",
      "Matrix is singular!   Converged solution\n"
     ]
    }
   ],
   "source": [
    "\"\"\"\n",
    "Sample code for Rayleigh quotient iteration applied to \n",
    "shift matrix.\n",
    "\"\"\"\n",
    "import numpy as np\n",
    "from pylab import *\n",
    "np.set_printoptions(precision=5)\n",
    "A = np.array([[4.0,2.0/3.0,-4.0/3.0,4.0/3.0],[2.0/3.0,4.0,0,0],[-4.0/3.0,0,6.0,2.0],[4.0/3.0,0,2.0,6.0]])\n",
    "\n",
    "print \"\\nA = \"\n",
    "print A\n",
    "\n",
    "lam,X = eig(A)\n",
    "\n",
    "print \"\\nEigenvalues: \",lam\n",
    "\n",
    "v = randn(4)\n",
    "print \"\\nStarting guess v: \",v\n",
    "print \" \"\n",
    "\n",
    "mu = 1. + 1j\n",
    "print \"k = %s, mu = %21.16f + %21.16fj\" %  (0,mu.real,mu.imag)\n",
    "\n",
    "for k in range(1,10):\n",
    "    B = A - mu*eye(4)\n",
    "    try:\n",
    "        w = solve(B,v)\n",
    "    except:\n",
    "        print \"Matrix is singular!   Converged solution\"\n",
    "        break\n",
    "    v = w / norm(w,2)\n",
    "    mu = dot(conj(v.T), dot(A,v))\n",
    "    print \"k = %s, mu = %21.16f + %21.16fj\" %  (k,mu.real,mu.imag)\n",
    "\n",
    "\n"
   ]
  },
  {
   "cell_type": "code",
   "execution_count": null,
   "metadata": {
    "collapsed": true
   },
   "outputs": [],
   "source": []
  }
 ],
 "metadata": {
  "kernelspec": {
   "display_name": "Python 2",
   "language": "python",
   "name": "python2"
  },
  "language_info": {
   "codemirror_mode": {
    "name": "ipython",
    "version": 2
   },
   "file_extension": ".py",
   "mimetype": "text/x-python",
   "name": "python",
   "nbconvert_exporter": "python",
   "pygments_lexer": "ipython2",
   "version": "2.7.14"
  }
 },
 "nbformat": 4,
 "nbformat_minor": 2
}
