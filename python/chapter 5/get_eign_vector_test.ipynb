{
 "cells": [
  {
   "cell_type": "markdown",
   "metadata": {},
   "source": [
    "### 5.3.3 求特徵向量\n",
    "####  QR 法並不會自動求出特徵向量。 以逆迭代法求之\n",
    "###### 已知特徵向量的初始估計值z (可以是一個任意向量，或是全為1的向量，或某些非零向量)，程序如下：\n",
    "###### a). 求 B = A - mI\n",
    "###### b). 求解 By = z\n",
    "###### c). 將 y 尺度化為單位長 (歐幾里得或 max 範數)\n",
    "###### d). 若 y 是具有足夠準確度的特徵向量，則停止，否則設 z=y 並進行迭代"
   ]
  },
  {
   "cell_type": "code",
   "execution_count": 1,
   "metadata": {
    "collapsed": true
   },
   "outputs": [],
   "source": [
    "# 以 5.11 為例\n",
    "import numpy as np\n",
    "import scipy.linalg as ALG\n",
    "import math\n",
    "from gaussElimin import *\n",
    "from power_B import *"
   ]
  },
  {
   "cell_type": "code",
   "execution_count": 2,
   "metadata": {},
   "outputs": [],
   "source": [
    "A = np.array([[5,4,1,1],[4,5,1,1],[1,1,4,2],[1,1,2,4]],dtype=float)\n",
    "m = 9.9988\n",
    "z = np.array([[1],[1],[1],[1]],dtype=float)"
   ]
  },
  {
   "cell_type": "code",
   "execution_count": 3,
   "metadata": {
    "collapsed": true
   },
   "outputs": [],
   "source": [
    "def disp(A):\n",
    "    np.set_printoptions(precision=4, suppress=True)\n",
    "    for l in range(len(A)):\n",
    "            for m in range(len(A)):\n",
    "                print('%8.4f'%A[l][m],end=', ')\n",
    "            print()"
   ]
  },
  {
   "cell_type": "code",
   "execution_count": 4,
   "metadata": {},
   "outputs": [
    {
     "name": "stdout",
     "output_type": "stream",
     "text": [
      "iter       w1    r  z(x)\n",
      "1 [11.]  2.43935 [[1.     1.     0.7273 0.7273]]\n",
      "===============================================\n",
      "2 [10.4545]  1.06059 [[1.     1.     0.6087 0.6087]]\n",
      "===============================================\n",
      "3 [10.2174]  0.49644 [[1.     1.     0.5532 0.5532]]\n",
      "===============================================\n",
      "4 [10.1064]  0.24038 [[1.     1.     0.5263 0.5263]]\n",
      "===============================================\n",
      "5 [10.0526]  0.11830 [[1.     1.     0.5131 0.5131]]\n",
      "===============================================\n",
      "6 [10.0262]  0.05869 [[1.     1.     0.5065 0.5065]]\n",
      "===============================================\n",
      "7 [10.0131]  0.02923 [[1.     1.     0.5033 0.5033]]\n",
      "===============================================\n",
      "8 [10.0065]  0.01459 [[1.     1.     0.5016 0.5016]]\n",
      "===============================================\n",
      "9 [10.0033]  0.00729 [[1.     1.     0.5008 0.5008]]\n",
      "===============================================\n",
      "Power Method has coverged\n",
      "eigs:  [10.0033]\n",
      "vecs: [1.     1.     0.5008 0.5008]\n"
     ]
    }
   ],
   "source": [
    "np.set_printoptions(precision=4, suppress=True)\n",
    "B = A - m * np.eye(4)\n",
    "[eigs,vecs] = power_B(A,z,20,0.01)\n",
    "print('eigs: ',eigs)\n",
    "print('vecs: ',end='')\n",
    "for x in vecs.T:\n",
    "    print(x,end='')\n",
    "print()"
   ]
  },
  {
   "cell_type": "code",
   "execution_count": 10,
   "metadata": {},
   "outputs": [
    {
     "name": "stdout",
     "output_type": "stream",
     "text": [
      " -4.9988,   4.0000,   1.0000,   1.0000, \n",
      "  4.0000,  -4.9988,   1.0000,   1.0000, \n",
      "  1.0000,   1.0000,  -5.9988,   2.0000, \n",
      "  1.0000,   1.0000,   2.0000,  -5.9988, \n",
      "1 [[0.9996 1.     0.5001 0.5001]]\n",
      "2 [[-0.3817 -0.3858  0.4989  1.    ]]\n",
      "3 [[ 0.2327  0.0927 -0.1711 -1.    ]]\n",
      "4 [[-0.2847 -0.1793 -0.2522  1.    ]]\n",
      "5 [[ 0.1963  0.0698  0.5037 -1.    ]]\n",
      "6 [[-0.0985 -0.144  -0.5805  1.    ]]\n",
      "7 [[-0.0311 -0.1935 -0.5463  1.    ]]\n",
      "8 [[-0.0581 -0.2473 -0.4992  1.    ]]\n",
      "9 [[-0.0182 -0.3412 -0.464   1.    ]]\n",
      "10 [[-0.1802 -0.4589 -0.4439  1.    ]]\n",
      "11 [[ 0.5805 -0.7878 -0.4513  1.    ]]\n",
      "12 [[-1.     -0.1099 -0.0912  0.1928]]\n",
      "13 [[ 1.     -0.1398 -0.0147  0.0203]]\n",
      "14 [[-1.      0.088   0.0009  0.0017]]\n",
      "15 [[ 1.     -0.088  -0.0021  0.0002]]\n",
      "16 [[-1.      0.0816  0.0016 -0.    ]]\n",
      "17 [[ 1.     -0.0768 -0.0014  0.    ]]\n",
      "18 [[-1.      0.0724  0.0012 -0.    ]]\n",
      "19 [[ 1.     -0.0685 -0.0011  0.    ]]\n",
      "20 [[-1.      0.0649  0.001  -0.    ]]\n"
     ]
    }
   ],
   "source": [
    "B = A - m * np.eye(4)\n",
    "b = np.array([[0],[0],[0],[0]])\n",
    "n = 20\n",
    "disp(B)\n",
    "for i in range(n):\n",
    "    y = gaussElimin(B,z)\n",
    "    #w = y / ALG.norm(y)\n",
    "    w = y / max(abs(y))\n",
    "    print(i+1,w.T) \n",
    "    z = w"
   ]
  },
  {
   "cell_type": "code",
   "execution_count": null,
   "metadata": {
    "collapsed": true
   },
   "outputs": [],
   "source": []
  }
 ],
 "metadata": {
  "kernelspec": {
   "display_name": "Python 3",
   "language": "python",
   "name": "python3"
  },
  "language_info": {
   "codemirror_mode": {
    "name": "ipython",
    "version": 3
   },
   "file_extension": ".py",
   "mimetype": "text/x-python",
   "name": "python",
   "nbconvert_exporter": "python",
   "pygments_lexer": "ipython3",
   "version": "3.6.2"
  }
 },
 "nbformat": 4,
 "nbformat_minor": 2
}
