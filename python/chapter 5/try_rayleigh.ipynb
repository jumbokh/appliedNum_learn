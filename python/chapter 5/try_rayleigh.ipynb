{
 "cells": [
  {
   "cell_type": "code",
   "execution_count": 13,
   "metadata": {
    "collapsed": true
   },
   "outputs": [],
   "source": [
    "import numpy as np"
   ]
  },
  {
   "cell_type": "code",
   "execution_count": 14,
   "metadata": {
    "collapsed": true
   },
   "outputs": [],
   "source": [
    "A = np.array([[4.0,2.0/3.0,-4.0/3.0,4.0/3.0],[2.0/3.0, 4.0, 0.0, 0.0],[-4.0/3.0, 0.0, 6.0, 2.0],[4.0/3.0, 0.0, 2.0, 6.0]])\n",
    "z = np.array([[1.0],[1.0],[1.0],[1.0]])"
   ]
  },
  {
   "cell_type": "code",
   "execution_count": 15,
   "metadata": {
    "collapsed": true
   },
   "outputs": [],
   "source": [
    "\n",
    "def rayleigh(A,w,n,tol=0.001):\n",
    "    np.set_printoptions(precision=4)\n",
    "    np.set_printoptions(suppress=True)\n",
    "    print('iter     m1        m       r     z(x)')\n",
    "    for i in range(n):\n",
    "          # power_B\n",
    "          w0 = np.dot(A,w)\n",
    "          m0 = max(abs(w0))\n",
    "          # Rayleigh\n",
    "          z = w/np.linalg.norm(w)\n",
    "          w = np.dot(A,z)\n",
    "          m = np.dot(z.T,w)\n",
    "          r = np.linalg.norm(m*z-w)\n",
    "          rr = str(r)\n",
    "          print('{:<5}'.format(str(i+1)),m0,m[0],'{:.5}'.format(rr),z.T)\n",
    "          print('===============================================')\n",
    "          if( r < tol):\n",
    "              print('Power Method has coverged')\n",
    "              break\n",
    "    return [m[0],z]"
   ]
  },
  {
   "cell_type": "code",
   "execution_count": 16,
   "metadata": {},
   "outputs": [
    {
     "name": "stdout",
     "output_type": "stream",
     "text": [
      "iter     m1        m       r     z(x)\n",
      "1     [9.3333] [6.3333] 1.914 [[0.5 0.5 0.5 0.5]]\n",
      "===============================================\n",
      "2     [37.7778] [7.2792] 1.301 [[0.3527 0.3527 0.5038 0.7053]]\n",
      "===============================================\n",
      "3     [44.7368] [7.6621] 0.872 [[0.2589 0.2226 0.536  0.7721]]\n",
      "===============================================\n",
      "4     [47.1276] [7.8286] 0.604 [[0.1944 0.1378 0.5725 0.7845]]\n",
      "===============================================\n",
      "5     [47.6935] [7.9083] 0.433 [[0.1467 0.0867 0.6043 0.7783]]\n",
      "===============================================\n",
      "6     [47.5874] [7.9495] 0.319 [[0.1107 0.0561 0.6296 0.7669]]\n",
      "===============================================\n",
      "7     [47.2625] [7.9718] 0.237 [[0.0834 0.0375 0.6491 0.7552]]\n",
      "===============================================\n",
      "8     [46.8975] [7.9842] 0.177 [[0.0627 0.0258 0.6638 0.7449]]\n",
      "===============================================\n",
      "9     [46.5607] [7.9911] 0.133 [[0.0471 0.0181 0.6748 0.7363]]\n",
      "===============================================\n",
      "10    [46.2745] [7.995] 0.099 [[0.0354 0.013  0.683  0.7295]]\n",
      "===============================================\n",
      "eigs:  [7.995]\n",
      "vecs: [0.0354 0.013  0.683  0.7295]\n"
     ]
    }
   ],
   "source": [
    "np.set_printoptions(precision=5)\n",
    "[eigs,vecs] = rayleigh(A,z,10,0.001)\n",
    "print('eigs: ',eigs)\n",
    "print('vecs: ',end='')\n",
    "for x in vecs.T:\n",
    "    print(x,end='')\n",
    "print()"
   ]
  },
  {
   "cell_type": "code",
   "execution_count": null,
   "metadata": {
    "collapsed": true
   },
   "outputs": [],
   "source": []
  }
 ],
 "metadata": {
  "kernelspec": {
   "display_name": "Python 3",
   "language": "python",
   "name": "python3"
  },
  "language_info": {
   "codemirror_mode": {
    "name": "ipython",
    "version": 3
   },
   "file_extension": ".py",
   "mimetype": "text/x-python",
   "name": "python",
   "nbconvert_exporter": "python",
   "pygments_lexer": "ipython3",
   "version": "3.6.6"
  }
 },
 "nbformat": 4,
 "nbformat_minor": 2
}
