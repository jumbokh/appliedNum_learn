{
 "cells": [
  {
   "cell_type": "code",
   "execution_count": 1,
   "metadata": {
    "collapsed": true
   },
   "outputs": [],
   "source": [
    "from Inv_Power import *\n",
    "from numpy import *"
   ]
  },
  {
   "cell_type": "code",
   "execution_count": 3,
   "metadata": {},
   "outputs": [
    {
     "name": "stdout",
     "output_type": "stream",
     "text": [
      "iter     m      r      z(n)\n",
      "1     1.0000   2.4495  0.5774  0.5774  0.5774\n",
      "2     7.8571   0.3499  0.8729 -0.4364  0.2182\n",
      "3     7.8730   0.0057  0.8601 -0.4717  0.1942\n",
      "4     7.8730   0.0001  0.8599 -0.4722  0.1938\n",
      "Inv Power Method has coverged\n",
      "z:\n",
      "  0.8599 -0.4722  0.1938\n",
      "=================================\n",
      "mm = 1/m =  0.12702\n"
     ]
    }
   ],
   "source": [
    "# 求矩陣A之最小特徵值\n",
    "A = np.array([[1,2,1],[2,5,3],[1,3,3]])\n",
    "z, mm = inv_power(A,4,0.0001 )\n",
    "print('z:')\n",
    "for i in range(len(z)):\n",
    "    print('%8.4f'%z[i],end='')\n",
    "print()\n",
    "print('=================================')\n",
    "print('mm = 1/m = ',end='')\n",
    "print('%8.5f'%mm)"
   ]
  },
  {
   "cell_type": "code",
   "execution_count": null,
   "metadata": {
    "collapsed": true
   },
   "outputs": [],
   "source": []
  }
 ],
 "metadata": {
  "kernelspec": {
   "display_name": "Python 3",
   "language": "python",
   "name": "python3"
  },
  "language_info": {
   "codemirror_mode": {
    "name": "ipython",
    "version": 3
   },
   "file_extension": ".py",
   "mimetype": "text/x-python",
   "name": "python",
   "nbconvert_exporter": "python",
   "pygments_lexer": "ipython3",
   "version": "3.6.2"
  }
 },
 "nbformat": 4,
 "nbformat_minor": 2
}
