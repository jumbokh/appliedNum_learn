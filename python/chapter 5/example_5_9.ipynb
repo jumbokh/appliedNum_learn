{
 "cells": [
  {
   "cell_type": "code",
   "execution_count": 1,
   "metadata": {
    "collapsed": true
   },
   "outputs": [],
   "source": [
    "from Inv_Power import *\n",
    "from numpy import *\n",
    "import scipy.linalg as ALG"
   ]
  },
  {
   "cell_type": "code",
   "execution_count": 2,
   "metadata": {},
   "outputs": [
    {
     "name": "stdout",
     "output_type": "stream",
     "text": [
      "iter     m      r      z(n)\n",
      "1     0.0503   0.0157  0.5774  0.5774  0.5774\n",
      "2     0.0694   0.0269  0.3136  0.7128  0.6273\n",
      "3     0.0984   0.0244 -0.0399  0.8060  0.5905\n",
      "4     0.1148   0.0124 -0.2674  0.8185  0.5085\n",
      "m:\n",
      " -0.2674  0.8185  0.5085\n",
      "=================================\n",
      "mm = 1/m =  8.70720\n"
     ]
    }
   ],
   "source": [
    "# A 的特徵值中最靠近 b=15 的值\n",
    "A = np.array([[21,7,-1],[5,7,7],[4,-4,20]])\n",
    "m, mm = inv_power(A,4,0.0001 )\n",
    "print('m:')\n",
    "for i in range(len(m)):\n",
    "    print('%8.4f'%m[i],end='')\n",
    "print()\n",
    "print('=================================')\n",
    "print('mm = 1/m = ',end='')\n",
    "print('%8.5f'%mm)"
   ]
  },
  {
   "cell_type": "code",
   "execution_count": 3,
   "metadata": {},
   "outputs": [
    {
     "name": "stdout",
     "output_type": "stream",
     "text": [
      "[[ 6.  7. -1.]\n",
      " [ 5. -8.  7.]\n",
      " [ 4. -4.  5.]]\n"
     ]
    }
   ],
   "source": [
    "# 平移\n",
    "B = A - 15*np.eye(len(A))\n",
    "print(B)"
   ]
  },
  {
   "cell_type": "code",
   "execution_count": 6,
   "metadata": {},
   "outputs": [
    {
     "name": "stdout",
     "output_type": "stream",
     "text": [
      "[[0.03174603 0.15873016 0.3015873 ]]\n"
     ]
    }
   ],
   "source": [
    "# step 1\n",
    "# 求解 Bw = z, 由 z = [1,1,1]' 開始\n",
    "z = np.array([[1],[1],[1]])\n",
    "w = np.linalg.solve(B,z)\n",
    "print(w.T)"
   ]
  },
  {
   "cell_type": "code",
   "execution_count": 7,
   "metadata": {},
   "outputs": [
    {
     "name": "stdout",
     "output_type": "stream",
     "text": [
      "[0.3015873]\n"
     ]
    }
   ],
   "source": [
    "# 取絕對值最大之特徵值\n",
    "newW = max(abs(w))   # also w(k)/z(k)\n",
    "print(newW)"
   ]
  },
  {
   "cell_type": "code",
   "execution_count": 14,
   "metadata": {},
   "outputs": [
    {
     "name": "stdout",
     "output_type": "stream",
     "text": [
      "  3.3158\n"
     ]
    }
   ],
   "source": [
    "ndx = list(w).index(newW)\n",
    "#1/m = z[ndx]/w[ndx]\n",
    "m = 1/newW\n",
    "print('%8.4f'%(m))"
   ]
  },
  {
   "cell_type": "code",
   "execution_count": 16,
   "metadata": {},
   "outputs": [
    {
     "name": "stdout",
     "output_type": "stream",
     "text": [
      "[[0.10526316 0.52631579 1.        ]]\n"
     ]
    }
   ],
   "source": [
    "# 步驟二\n",
    "##將 w 尺度化\n",
    "z = w/w[ndx]\n",
    "print(z.T)"
   ]
  },
  {
   "cell_type": "code",
   "execution_count": 17,
   "metadata": {},
   "outputs": [
    {
     "name": "stdout",
     "output_type": "stream",
     "text": [
      "[[-0.37176274  0.45697577  0.86299081]]\n"
     ]
    }
   ],
   "source": [
    "# 求解 Bw = z\n",
    "w = np.linalg.solve(B,z)\n",
    "print(w.T)"
   ]
  },
  {
   "cell_type": "code",
   "execution_count": 18,
   "metadata": {},
   "outputs": [
    {
     "name": "stdout",
     "output_type": "stream",
     "text": [
      "[0.86299081]\n",
      "  1.1588\n"
     ]
    }
   ],
   "source": [
    "# 取絕對值最大之特徵值\n",
    "newW = max(abs(w))   # also w(k)/z(k)\n",
    "print(newW)\n",
    "ndx = list(w).index(newW)\n",
    "#1/m = z[ndx]/w[ndx]\n",
    "m = 1/newW\n",
    "print('%8.4f'%(m))"
   ]
  },
  {
   "cell_type": "code",
   "execution_count": 19,
   "metadata": {},
   "outputs": [
    {
     "name": "stdout",
     "output_type": "stream",
     "text": [
      "[[-0.43078412  0.52952565  1.        ]]\n",
      "[[-0.47228753  0.48076953  0.96244564]]\n"
     ]
    }
   ],
   "source": [
    "# 步驟三\n",
    "##將 w 尺度化\n",
    "z = w/w[ndx]\n",
    "print(z.T)\n",
    "# 求解 Bw = z\n",
    "w = np.linalg.solve(B,z)\n",
    "print(w.T)"
   ]
  },
  {
   "cell_type": "code",
   "execution_count": 20,
   "metadata": {},
   "outputs": [
    {
     "name": "stdout",
     "output_type": "stream",
     "text": [
      "[0.96244564]\n",
      "  1.0390\n"
     ]
    }
   ],
   "source": [
    "# 取絕對值最大之特徵值\n",
    "newW = max(abs(w))   # also w(k)/z(k)\n",
    "print(newW)\n",
    "ndx = list(w).index(newW)\n",
    "#1/m = z[ndx]/w[ndx]\n",
    "m = 1/newW\n",
    "print('%8.4f'%(m))"
   ]
  },
  {
   "cell_type": "code",
   "execution_count": 21,
   "metadata": {},
   "outputs": [
    {
     "name": "stdout",
     "output_type": "stream",
     "text": [
      "[16.03901972]\n"
     ]
    }
   ],
   "source": [
    "# 所以 A 的特徵值中最靠近 15 的值，其近似值為：\n",
    "final_m = 15 + m\n",
    "print(final_m)"
   ]
  },
  {
   "cell_type": "code",
   "execution_count": null,
   "metadata": {
    "collapsed": true
   },
   "outputs": [],
   "source": []
  }
 ],
 "metadata": {
  "kernelspec": {
   "display_name": "Python 3",
   "language": "python",
   "name": "python3"
  },
  "language_info": {
   "codemirror_mode": {
    "name": "ipython",
    "version": 3
   },
   "file_extension": ".py",
   "mimetype": "text/x-python",
   "name": "python",
   "nbconvert_exporter": "python",
   "pygments_lexer": "ipython3",
   "version": "3.6.6"
  }
 },
 "nbformat": 4,
 "nbformat_minor": 2
}
