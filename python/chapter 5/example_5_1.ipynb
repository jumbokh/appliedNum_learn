{
 "cells": [
  {
   "cell_type": "code",
   "execution_count": 1,
   "metadata": {
    "collapsed": true
   },
   "outputs": [],
   "source": [
    "from power_B import *"
   ]
  },
  {
   "cell_type": "code",
   "execution_count": 2,
   "metadata": {
    "collapsed": true
   },
   "outputs": [],
   "source": [
    "A = np.array([[21,7,-1],[5,7,7],[4,-4,20]])\n",
    "z = [[1],[1],[1]]"
   ]
  },
  {
   "cell_type": "code",
   "execution_count": 3,
   "metadata": {},
   "outputs": [
    {
     "name": "stdout",
     "output_type": "stream",
     "text": [
      "iter       w1    r  z(x)\n",
      "1 [27] 5.866601196791445 [[1.     0.7037 0.7407]]\n",
      "===============================================\n",
      "2 [25.1852] 2.323462560079786 [[1.     0.6    0.6353]]\n",
      "===============================================\n",
      "3 [24.5647] 1.1430703517588843 [[1.     0.5556 0.5824]]\n",
      "===============================================\n",
      "eigs:  [24.5647]\n",
      "vecs:  [[1.     0.5556 0.5824]]\n"
     ]
    }
   ],
   "source": [
    "[eigs,vecs] = power_B(A,z,3)\n",
    "print('eigs: ',eigs)\n",
    "print('vecs: ',vecs.T)"
   ]
  },
  {
   "cell_type": "code",
   "execution_count": 4,
   "metadata": {},
   "outputs": [
    {
     "name": "stdout",
     "output_type": "stream",
     "text": [
      "[[1.     0.5556 0.5824]]\n"
     ]
    }
   ],
   "source": [
    "aa = vecs.T\n",
    "print(aa)"
   ]
  },
  {
   "cell_type": "code",
   "execution_count": null,
   "metadata": {
    "collapsed": true
   },
   "outputs": [],
   "source": []
  }
 ],
 "metadata": {
  "kernelspec": {
   "display_name": "Python 3",
   "language": "python",
   "name": "python3"
  },
  "language_info": {
   "codemirror_mode": {
    "name": "ipython",
    "version": 3
   },
   "file_extension": ".py",
   "mimetype": "text/x-python",
   "name": "python",
   "nbconvert_exporter": "python",
   "pygments_lexer": "ipython3",
   "version": "3.6.2"
  }
 },
 "nbformat": 4,
 "nbformat_minor": 2
}
