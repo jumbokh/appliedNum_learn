{
 "cells": [
  {
   "cell_type": "code",
   "execution_count": 10,
   "metadata": {},
   "outputs": [
    {
     "name": "stdout",
     "output_type": "stream",
     "text": [
      "1 .  6.16227766017 [ 1.       0.56126 -0.31623]\n",
      "2 .  -0.162277660168 [ 1.       0.77208  0.31623]\n",
      "3 .  3.0 [  3.72380e-17  -5.00000e-01   1.00000e+00]\n",
      "4 .  3.0 [  3.72380e-17  -5.00000e-01   1.00000e+00]\n",
      "5 .  6.16227766017 [ 1.       0.56126 -0.31623]\n",
      "6 .  3.0 [  3.72380e-17  -5.00000e-01   1.00000e+00]\n",
      "7 .  3.0 [  3.72380e-17  -5.00000e-01   1.00000e+00]\n",
      "8 .  3.0 [  4.74785e-16   5.00000e-01  -1.00000e+00]\n",
      "9 .  3.0 [ -4.74785e-16  -5.00000e-01   1.00000e+00]\n",
      "10 .  -0.162277660168 [ 1.       0.77208  0.31623]\n"
     ]
    }
   ],
   "source": [
    "# rqi.py\n",
    "# Python translation of Sauer Matlab, JR 1/19/12. Updated for 2e 2/24/12.\n",
    "# (Note this can readily fail if A has an integer eigenvalue.)\n",
    "# Program 12.3 Rayleigh Quotient Iteration\n",
    "# Input: square numpy array A, (nonzero) 1d numpy array x, shift s, steps k\n",
    "# Output: eigenvalue lam and eigenvector x\n",
    "\n",
    "import numpy as np\n",
    "\n",
    "def rqi( A, x, k ):\n",
    "\tI = np.eye(A.shape[0])\n",
    "\tfor j in range(k):\n",
    "\t\tu = x/np.linalg.norm(x)\t\t# normalize\n",
    "\t\tlam = np.dot(u,np.dot(A,u))\t\t# Rayleigh quotient\n",
    "#\t\tprint j,u, lam\n",
    "#\t\tprint A-lam*I\n",
    "\t\tx = np.linalg.solve(A-lam*I,u)\t# inverse power iteration\n",
    "\tu = x/np.linalg.norm(x)\n",
    "\tlam = np.dot(u,np.dot(A,u))\n",
    "\treturn lam,x/np.linalg.norm(x,inf)\n",
    "np.set_printoptions(precision=5)\n",
    "# try it out\n",
    "A = array([[11.,-12,-6],[5,-5,-4],[-1,0,3]])\n",
    "#A = np.array([[4.0,2.0/3.0,-4.0/3.0,4.0/3.0],[2.0/3.0,4,0,0],[-4.0/3.0,0,6,2],[4.0/3.0,0,2.0,6.0]])\n",
    "for i in range(10):\n",
    "\tx = random.rand(3)-0.5; lam,v = rqi( A, x, 10 ); print i+1,'. ',lam, v\n"
   ]
  },
  {
   "cell_type": "code",
   "execution_count": null,
   "metadata": {
    "collapsed": true
   },
   "outputs": [],
   "source": []
  }
 ],
 "metadata": {
  "kernelspec": {
   "display_name": "Python 2",
   "language": "python",
   "name": "python2"
  },
  "language_info": {
   "codemirror_mode": {
    "name": "ipython",
    "version": 2
   },
   "file_extension": ".py",
   "mimetype": "text/x-python",
   "name": "python",
   "nbconvert_exporter": "python",
   "pygments_lexer": "ipython2",
   "version": "2.7.14"
  }
 },
 "nbformat": 4,
 "nbformat_minor": 2
}
