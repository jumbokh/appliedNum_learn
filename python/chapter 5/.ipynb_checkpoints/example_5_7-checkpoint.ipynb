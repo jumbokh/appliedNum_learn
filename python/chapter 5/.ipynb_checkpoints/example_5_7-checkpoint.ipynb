{
 "cells": [
  {
   "cell_type": "code",
   "execution_count": null,
   "metadata": {
    "collapsed": true
   },
   "outputs": [],
   "source": [
    "from power_B import *\n",
    "from rayleigh import *\n",
    "from Aitken import *\n",
    "import numpy as np"
   ]
  },
  {
   "cell_type": "code",
   "execution_count": null,
   "metadata": {},
   "outputs": [],
   "source": [
    "L= np.array([[1,0,0],[2,1,0],[1,1,1]])\n",
    "U = np.array([[1,2,1],[0,1,1],[0,0,1]])\n",
    "A = np.dot(L,U)\n",
    "z = [[1.0],[1.0],[1.0]]\n",
    "print(L)\n",
    "print(U)\n",
    "print(A)"
   ]
  },
  {
   "cell_type": "code",
   "execution_count": null,
   "metadata": {},
   "outputs": [],
   "source": [
    "np.set_printoptions(precision=5)\n",
    "[eigs,vecs] = power_B(A,z,5,0.001)\n",
    "print('eigs: ',eigs)\n",
    "for x in vecs.T:\n",
    "    print(x,end='')\n",
    "print()"
   ]
  },
  {
   "cell_type": "code",
   "execution_count": 1,
   "metadata": {
    "collapsed": true
   },
   "outputs": [],
   "source": [
    "import numpy as np\n",
    "\n",
    "def LU_Factor(a):\n",
    "    n = len(a)\n",
    "    L = np.eye(n, dtype = 'float')\n",
    "    U = a\n",
    "    for k in range(n):   #(0,n-1)\n",
    "        #print('step:',k)\n",
    "        for i in range(k+1,n):\n",
    "           if U[k,k] != 0.0:\n",
    "               L[i,k]=U[i,k]/U[k,k]\n",
    "               U[i,:n] = U[i,:n] - L[i,k]*U[k,:n]                          \n",
    "        #print(U)\n",
    "    return U,L"
   ]
  },
  {
   "cell_type": "code",
   "execution_count": 32,
   "metadata": {
    "collapsed": true
   },
   "outputs": [],
   "source": [
    "def LU_Solve(L, U, b):\n",
    "    n = len(L)\n",
    "    z = np.zeros(n)\n",
    "    x = np.zeros(n)\n",
    "    z[0] = b[0]\n",
    "    for i in range(1,n):\n",
    "        z[i] = b[i] - L[i][i-1]* z[i-1]\n",
    "    #print(z)\n",
    "    x[n-1] = z[n-1] / U[n-1][n-1]\n",
    "    for i in range(1,n):\n",
    "        x[i] = z[i] - U[i][i-1] * x[i]\n",
    "    return x"
   ]
  },
  {
   "cell_type": "code",
   "execution_count": 33,
   "metadata": {},
   "outputs": [
    {
     "name": "stdout",
     "output_type": "stream",
     "text": [
      "[[1. 0. 0.]\n",
      " [2. 1. 0.]\n",
      " [1. 1. 1.]]\n",
      "[[1 2 1]\n",
      " [0 1 1]\n",
      " [0 0 1]]\n"
     ]
    }
   ],
   "source": [
    "A = np.array([[1,2,1],[2,5,3],[1,3,3]])\n",
    "U,L = LU_Factor(A)\n",
    "print(L)\n",
    "print(U)"
   ]
  },
  {
   "cell_type": "code",
   "execution_count": 34,
   "metadata": {},
   "outputs": [
    {
     "name": "stdout",
     "output_type": "stream",
     "text": [
      "[ 0. -1.  2.]\n"
     ]
    }
   ],
   "source": [
    "z = np.array([[1],[1],[1]])\n",
    "x = LU_Solve(L,U,z)\n",
    "print(x)"
   ]
  },
  {
   "cell_type": "code",
   "execution_count": 36,
   "metadata": {},
   "outputs": [
    {
     "name": "stdout",
     "output_type": "stream",
     "text": [
      "[[ 30 -20 -10]\n",
      " [  0  41 -16]\n",
      " [  0   0  39]]\n",
      "[[ 1.          0.          0.        ]\n",
      " [-0.66666667  1.          0.        ]\n",
      " [-0.33333333 -0.3902439   1.        ]]\n",
      "xxxxxxxxxxxxxxxxxxxxxx\n",
      "[ 0.        80.        31.2195122]\n"
     ]
    }
   ],
   "source": [
    "A = np.array([[30,-20,-10],[-20,55,-10],[-10,-10,50]])\n",
    "b = np.array([[0],[80],[0]])\n",
    "U,L = LU_Factor(A)\n",
    "print(U)\n",
    "print(L)\n",
    "print('xxxxxxxxxxxxxxxxxxxxxx')\n",
    "x = LU_Solve(L,U,b)\n",
    "print(x)"
   ]
  },
  {
   "cell_type": "code",
   "execution_count": 37,
   "metadata": {},
   "outputs": [
    {
     "name": "stdout",
     "output_type": "stream",
     "text": [
      "[1.77590669 2.26360988 0.80050031]\n"
     ]
    }
   ],
   "source": [
    "y = np.linalg.solve(U,x)\n",
    "print(y)"
   ]
  },
  {
   "cell_type": "code",
   "execution_count": 40,
   "metadata": {},
   "outputs": [
    {
     "name": "stdout",
     "output_type": "stream",
     "text": [
      "[[1.76]\n",
      " [2.24]\n",
      " [0.8 ]]\n"
     ]
    }
   ],
   "source": [
    "A = np.array([[30,-20,-10],[-20,55,-10],[-10,-10,50]])\n",
    "b = np.array([[0],[80],[0]])\n",
    "h = np.linalg.solve(A,b)\n",
    "print(h)"
   ]
  },
  {
   "cell_type": "code",
   "execution_count": 61,
   "metadata": {},
   "outputs": [],
   "source": [
    "import numpy as np\n",
    "\n",
    "def inv_power(H,maxit,tol):\n",
    "    n = len(H)\n",
    "    L = np.eye(n)\n",
    "    U = H\n",
    "    U,L = LU_Factor(H)\n",
    "    w = np.ones(n)\n",
    "    print('iter     m      r      z(n)')\n",
    "    for i in range(maxit):\n",
    "        z = w / np.linalg.norm(w)\n",
    "        #w = np.linalg.solve(H, z)\n",
    "        w = LU_Solve(L,U,z)\n",
    "        m = np.dot(z.T,w)\n",
    "        r = np.linalg.norm(np.dot(m,z) - w)\n",
    "        print(i+1,'%10.4f'%m,'%8.4f'%r,end='')\n",
    "        for j in range(len(z)):\n",
    "            print('%8.4f'%z[j],end='')\n",
    "        print()\n",
    "        if r < tol:\n",
    "           print('Inv Power Method has coverged')\n",
    "           break\n",
    "    mm = 1/m\n",
    "    return z,mm"
   ]
  },
  {
   "cell_type": "code",
   "execution_count": 63,
   "metadata": {},
   "outputs": [
    {
     "name": "stdout",
     "output_type": "stream",
     "text": [
      "iter     m      r      z(n)\n",
      "1   0.3333   1.2472  0.5774  0.5774  0.5774\n",
      "2   1.4000   0.2000  0.0000 -0.4472  0.8944\n",
      "3   1.3000   0.1000  0.0000 -0.3162  0.9487\n",
      "4   1.2353   0.0588  0.0000 -0.2425  0.9701\n",
      "z:\n",
      "  0.0000 -0.2425  0.9701\n",
      "=================================\n",
      "mm:\n",
      " 0.80952\n"
     ]
    }
   ],
   "source": [
    "# 求矩陣A之最小特徵值\n",
    "A = np.array([[1,2,1],[2,5,3],[1,3,3]])\n",
    "z, mm = inv_power(A,4,0.0001 )\n",
    "print('z:')\n",
    "for i in range(len(z)):\n",
    "    print('%8.4f'%z[i],end='')\n",
    "print()\n",
    "print('=================================')\n",
    "print('mm:')\n",
    "print('%8.5f'%mm)"
   ]
  },
  {
   "cell_type": "code",
   "execution_count": null,
   "metadata": {
    "collapsed": true
   },
   "outputs": [],
   "source": []
  }
 ],
 "metadata": {
  "kernelspec": {
   "display_name": "Python 3",
   "language": "python",
   "name": "python3"
  },
  "language_info": {
   "codemirror_mode": {
    "name": "ipython",
    "version": 3
   },
   "file_extension": ".py",
   "mimetype": "text/x-python",
   "name": "python",
   "nbconvert_exporter": "python",
   "pygments_lexer": "ipython3",
   "version": "3.6.2"
  }
 },
 "nbformat": 4,
 "nbformat_minor": 2
}
