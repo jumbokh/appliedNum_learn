{
 "cells": [
  {
   "cell_type": "code",
   "execution_count": 1,
   "metadata": {
    "collapsed": true
   },
   "outputs": [],
   "source": [
    "from rayleigh import *\n",
    "import numpy as np"
   ]
  },
  {
   "cell_type": "code",
   "execution_count": 2,
   "metadata": {},
   "outputs": [
    {
     "name": "stdout",
     "output_type": "stream",
     "text": [
      "[[21.  7. -1.]\n",
      " [ 5.  7.  7.]\n",
      " [ 4. -4. 20.]]\n"
     ]
    }
   ],
   "source": [
    "A = np.array([[21.0,7.0,-1.0],[5.0,7.0,7.0],[4.0,-4.0,20.0]])\n",
    "w = np.array([[1.0],[1.0],[1.0]])\n",
    "print(A)"
   ]
  },
  {
   "cell_type": "code",
   "execution_count": 3,
   "metadata": {},
   "outputs": [
    {
     "name": "stdout",
     "output_type": "stream",
     "text": [
      "iter     m       r     z(x)\n",
      "1     [22.] 3.559 [[0.5774 0.5774 0.5774]]\n",
      "===============================================\n",
      "2     [23.3235] 1.822 [[0.6995 0.4922 0.5181]]\n",
      "===============================================\n",
      "3     [23.725] 0.963 [[0.753  0.4518 0.4784]]\n",
      "===============================================\n",
      "4     [23.867] 0.553 [[0.779  0.4328 0.4537]]\n",
      "===============================================\n",
      "5     [23.9273] 0.339 [[0.7931 0.4231 0.4381]]\n",
      "===============================================\n",
      "6     [23.9571] 0.216 [[0.8015 0.4176 0.428 ]]\n",
      "===============================================\n",
      "7     [23.9735] 0.141 [[0.8067 0.4143 0.4214]]\n",
      "===============================================\n",
      "8     [23.9831] 0.093 [[0.81   0.4123 0.417 ]]\n",
      "===============================================\n",
      "9     [23.9891] 0.061 [[0.8122 0.4109 0.4141]]\n",
      "===============================================\n",
      "10    [23.9928] 0.041 [[0.8137 0.41   0.4121]]\n",
      "===============================================\n",
      "eigs:  [23.9928]\n",
      "vecs: [0.8137 0.41   0.4121]\n"
     ]
    }
   ],
   "source": [
    "np.set_printoptions(precision=5)\n",
    "[eigs,vecs] = rayleigh(A,w,10,0.001)\n",
    "print('eigs: ',eigs)\n",
    "print('vecs: ',end='')\n",
    "for x in vecs.T:\n",
    "    print(x,end='')\n",
    "print()"
   ]
  },
  {
   "cell_type": "code",
   "execution_count": null,
   "metadata": {
    "collapsed": true
   },
   "outputs": [],
   "source": []
  }
 ],
 "metadata": {
  "kernelspec": {
   "display_name": "Python 3",
   "language": "python",
   "name": "python3"
  },
  "language_info": {
   "codemirror_mode": {
    "name": "ipython",
    "version": 3
   },
   "file_extension": ".py",
   "mimetype": "text/x-python",
   "name": "python",
   "nbconvert_exporter": "python",
   "pygments_lexer": "ipython3",
   "version": "3.6.2"
  }
 },
 "nbformat": 4,
 "nbformat_minor": 2
}
