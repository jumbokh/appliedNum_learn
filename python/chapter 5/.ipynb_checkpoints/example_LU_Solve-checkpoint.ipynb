{
 "cells": [
  {
   "cell_type": "code",
   "execution_count": 28,
   "metadata": {
    "collapsed": true
   },
   "outputs": [],
   "source": [
    "from LU_Solve import *\n",
    "import numpy as np"
   ]
  },
  {
   "cell_type": "code",
   "execution_count": 29,
   "metadata": {
    "collapsed": true
   },
   "outputs": [],
   "source": [
    "A = np.array([[2,6,10],[1,3,3],[3,14,28]])\n",
    "b = np.array([[0],[2],[-8]])"
   ]
  },
  {
   "cell_type": "code",
   "execution_count": 30,
   "metadata": {
    "collapsed": true
   },
   "outputs": [],
   "source": [
    "from scipy.linalg import lu_factor, lu_solve\n",
    "from numpy import tril, triu, allclose, zeros, eye"
   ]
  },
  {
   "cell_type": "code",
   "execution_count": 31,
   "metadata": {},
   "outputs": [
    {
     "name": "stdout",
     "output_type": "stream",
     "text": [
      "lu:\n",
      "[[ 3.         14.         28.        ]\n",
      " [ 0.66666667 -3.33333333 -8.66666667]\n",
      " [ 0.33333333  0.5        -2.        ]]\n",
      "********************************************\n",
      "piv:\n",
      "[2 2 2]\n",
      "[[ 2.]\n",
      " [ 1.]\n",
      " [-1.]]\n"
     ]
    }
   ],
   "source": [
    "lu, piv = lu_factor(A)\n",
    "print('lu:')\n",
    "print(lu)\n",
    "print('********************************************')\n",
    "print('piv:')\n",
    "print(piv)\n",
    "x = lu_solve((lu, piv), b)\n",
    "print(x)"
   ]
  },
  {
   "cell_type": "code",
   "execution_count": 32,
   "metadata": {},
   "outputs": [
    {
     "name": "stdout",
     "output_type": "stream",
     "text": [
      "P:\n",
      "[[0. 1. 0.]\n",
      " [0. 0. 1.]\n",
      " [1. 0. 0.]]\n",
      "************************************************\n",
      "L:\n",
      "[[1.         0.         0.        ]\n",
      " [0.66666667 1.         0.        ]\n",
      " [0.33333333 0.5        1.        ]]\n",
      "************************************************\n",
      "U:\n",
      "[[ 3.         14.         28.        ]\n",
      " [ 0.         -3.33333333 -8.66666667]\n",
      " [ 0.          0.         -2.        ]]\n"
     ]
    }
   ],
   "source": [
    "import scipy.linalg as ALG\n",
    "P,L,U= ALG.lu(A,permute_l = False)\n",
    "print('P:')\n",
    "print(P)\n",
    "print('************************************************')\n",
    "print('L:')\n",
    "print(L)\n",
    "print('************************************************')\n",
    "print('U:')\n",
    "print(U)"
   ]
  },
  {
   "cell_type": "code",
   "execution_count": 36,
   "metadata": {},
   "outputs": [
    {
     "name": "stdout",
     "output_type": "stream",
     "text": [
      "[[-8  0  2]]\n",
      "[[-8.          5.33333333  2.        ]]\n",
      "[[ 2.  1. -1.]]\n"
     ]
    }
   ],
   "source": [
    "P = np.array([[0,0,1],[1,0,0],[0,1,0]])\n",
    "c = P @ b\n",
    "print(c.T)\n",
    "# 解 Ly = c\n",
    "y = np.linalg.solve(L,c)\n",
    "print(y.T)\n",
    "# 解 Ux = y\n",
    "x = np.linalg.solve(U,y)\n",
    "print(x.T)"
   ]
  },
  {
   "cell_type": "markdown",
   "metadata": {},
   "source": [
    "### example from: https://docs.scipy.org/doc/scipy/reference/generated/scipy.linalg.lu_factor.html"
   ]
  },
  {
   "cell_type": "code",
   "execution_count": 11,
   "metadata": {
    "collapsed": true
   },
   "outputs": [],
   "source": [
    "A1 = np.array([[2, 5, 8, 7], [5, 2, 2, 8], [7, 5, 6, 6], [5, 4, 4, 8]])\n",
    "lu1, piv1 = lu_factor(A1,permute_l == False)"
   ]
  },
  {
   "cell_type": "code",
   "execution_count": 12,
   "metadata": {},
   "outputs": [
    {
     "name": "stdout",
     "output_type": "stream",
     "text": [
      "[[ 7.          5.          6.          6.        ]\n",
      " [ 0.28571429  3.57142857  6.28571429  5.28571429]\n",
      " [ 0.71428571  0.12       -1.04        3.08      ]\n",
      " [ 0.71428571 -0.44       -0.46153846  7.46153846]] [2 2 3 3]\n"
     ]
    }
   ],
   "source": [
    "print(lu1,piv1)"
   ]
  },
  {
   "cell_type": "code",
   "execution_count": 13,
   "metadata": {
    "collapsed": true
   },
   "outputs": [],
   "source": [
    "piv_py = [2, 0, 3, 1]\n",
    "L1, U1 = np.tril(lu1, k=-1) + np.eye(4), np.triu(lu1)"
   ]
  },
  {
   "cell_type": "code",
   "execution_count": 15,
   "metadata": {},
   "outputs": [
    {
     "data": {
      "text/plain": [
       "True"
      ]
     },
     "execution_count": 15,
     "metadata": {},
     "output_type": "execute_result"
    }
   ],
   "source": [
    "np.allclose(A1[piv_py] - L1 @ U1, np.zeros((4, 4)))"
   ]
  },
  {
   "cell_type": "code",
   "execution_count": null,
   "metadata": {
    "collapsed": true
   },
   "outputs": [],
   "source": []
  }
 ],
 "metadata": {
  "kernelspec": {
   "display_name": "Python 3",
   "language": "python",
   "name": "python3"
  },
  "language_info": {
   "codemirror_mode": {
    "name": "ipython",
    "version": 3
   },
   "file_extension": ".py",
   "mimetype": "text/x-python",
   "name": "python",
   "nbconvert_exporter": "python",
   "pygments_lexer": "ipython3",
   "version": "3.6.6"
  }
 },
 "nbformat": 4,
 "nbformat_minor": 2
}
