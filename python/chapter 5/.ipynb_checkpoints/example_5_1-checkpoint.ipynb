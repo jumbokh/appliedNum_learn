{
 "cells": [
  {
   "cell_type": "code",
   "execution_count": 1,
   "metadata": {},
   "outputs": [],
   "source": [
    "from power_B import *"
   ]
  },
  {
   "cell_type": "code",
   "execution_count": 2,
   "metadata": {
    "collapsed": true
   },
   "outputs": [],
   "source": [
    "A = np.array([[21,7,-1],[5,7,7],[4,-4,20]])\n",
    "z = [[1],[1],[1]]"
   ]
  },
  {
   "cell_type": "code",
   "execution_count": 5,
   "metadata": {},
   "outputs": [
    {
     "name": "stdout",
     "output_type": "stream",
     "text": [
      "w=Az= [[27 19 20]]\n",
      "new w: [27]\n",
      "z: [[1.         0.7037037  0.74074074]]\n",
      "w=Az= [[25.18518519 15.11111111 16.        ]]\n",
      "new w: [25.18518519]\n",
      "z: [[1.         0.6        0.63529412]]\n",
      "w=Az= [[24.56470588 13.64705882 14.30588235]]\n",
      "new w: [24.56470588]\n",
      "z: [[1.         0.55555556 0.58237548]]\n",
      "eigs:  [24.56470588]\n",
      "vecs:  [[1.         0.55555556 0.58237548]]\n"
     ]
    }
   ],
   "source": [
    "[eigs,vecs] = power_B(A,z,3)\n",
    "print('eigs: ',eigs)\n",
    "print('vecs: ',vecs.T)"
   ]
  },
  {
   "cell_type": "code",
   "execution_count": 4,
   "metadata": {},
   "outputs": [
    {
     "name": "stdout",
     "output_type": "stream",
     "text": [
      "[[1.         0.55555556 0.58237548]]\n"
     ]
    }
   ],
   "source": [
    "aa = vecs.T\n",
    "print(aa)"
   ]
  },
  {
   "cell_type": "code",
   "execution_count": null,
   "metadata": {
    "collapsed": true
   },
   "outputs": [],
   "source": []
  }
 ],
 "metadata": {
  "kernelspec": {
   "display_name": "Python 3",
   "language": "python",
   "name": "python3"
  },
  "language_info": {
   "codemirror_mode": {
    "name": "ipython",
    "version": 3
   },
   "file_extension": ".py",
   "mimetype": "text/x-python",
   "name": "python",
   "nbconvert_exporter": "python",
   "pygments_lexer": "ipython3",
   "version": "3.6.6"
  }
 },
 "nbformat": 4,
 "nbformat_minor": 2
}
