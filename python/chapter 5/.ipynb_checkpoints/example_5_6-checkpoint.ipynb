{
 "cells": [
  {
   "cell_type": "code",
   "execution_count": 1,
   "metadata": {
    "collapsed": true
   },
   "outputs": [],
   "source": [
    "from power_B import *\n",
    "import numpy as np"
   ]
  },
  {
   "cell_type": "code",
   "execution_count": 2,
   "metadata": {},
   "outputs": [
    {
     "name": "stdout",
     "output_type": "stream",
     "text": [
      "[[ 5 -2  0]\n",
      " [-2  3  0]\n",
      " [ 0  0  6]]\n"
     ]
    }
   ],
   "source": [
    "A = np.array([[5,-2,0],[-2,3,0],[0,0,6]])\n",
    "z = np.array([[1],[1],[1]])\n",
    "print(A)"
   ]
  },
  {
   "cell_type": "code",
   "execution_count": 3,
   "metadata": {},
   "outputs": [
    {
     "name": "stdout",
     "output_type": "stream",
     "text": [
      "[[-1. -2.  0.]\n",
      " [-2. -3.  0.]\n",
      " [ 0.  0.  0.]]\n"
     ]
    }
   ],
   "source": [
    "B = A - 6*np.eye(3)\n",
    "print(B)"
   ]
  },
  {
   "cell_type": "code",
   "execution_count": 4,
   "metadata": {},
   "outputs": [
    {
     "name": "stdout",
     "output_type": "stream",
     "text": [
      "iter       w1    r  z(x)\n",
      "1 [6] 1.7159383568311668 [[0.5    0.1667 1.    ]]\n",
      "===============================================\n",
      "2 [6.] 0.5106882308569509 [[ 0.3611 -0.0833  1.    ]]\n",
      "===============================================\n",
      "3 [6.] 0.17135884743816443 [[ 0.3287 -0.162   1.    ]]\n",
      "===============================================\n",
      "4 [6.] 0.09954002770892344 [[ 0.3279 -0.1906  1.    ]]\n",
      "===============================================\n",
      "5 [6.] 0.09390449358241029 [[ 0.3368 -0.2046  1.    ]]\n",
      "===============================================\n",
      "6 [6.] 0.09676082279228207 [[ 0.3489 -0.2146  1.    ]]\n",
      "===============================================\n",
      "eigs:  [6.]\n",
      "vecs:  [[ 0.3489 -0.2146  1.    ]]\n"
     ]
    }
   ],
   "source": [
    "[eigs,vecs] = power_B(A,z,6)\n",
    "print('eigs: ',eigs)\n",
    "print('vecs: ',vecs.T)"
   ]
  },
  {
   "cell_type": "code",
   "execution_count": 5,
   "metadata": {},
   "outputs": [
    {
     "name": "stdout",
     "output_type": "stream",
     "text": [
      "iter       w1    r  z(x)\n",
      "1 [5.] 10.770329614269007 [[-0.6 -1.   0. ]]\n",
      "===============================================\n",
      "2 [4.2] 9.921688832908043 [[0.619 1.    0.   ]]\n",
      "===============================================\n",
      "3 [4.2381] 9.961724789495696 [[-0.618 -1.     0.   ]]\n",
      "===============================================\n",
      "4 [4.236] 9.959474407221368 [[0.618 1.    0.   ]]\n",
      "===============================================\n",
      "5 [4.2361] 9.959599756443682 [[-0.618 -1.     0.   ]]\n",
      "===============================================\n",
      "6 [4.2361] 9.959592770783805 [[0.618 1.    0.   ]]\n",
      "===============================================\n",
      "eigs:  [4.2361]\n",
      "vecs:  [[0.618 1.    0.   ]]\n"
     ]
    }
   ],
   "source": [
    "[eigs,vecs] = power_B(B,z,6)\n",
    "print('eigs: ',eigs)\n",
    "print('vecs: ',vecs.T)"
   ]
  },
  {
   "cell_type": "code",
   "execution_count": null,
   "metadata": {
    "collapsed": true
   },
   "outputs": [],
   "source": []
  }
 ],
 "metadata": {
  "kernelspec": {
   "display_name": "Python 3",
   "language": "python",
   "name": "python3"
  },
  "language_info": {
   "codemirror_mode": {
    "name": "ipython",
    "version": 3
   },
   "file_extension": ".py",
   "mimetype": "text/x-python",
   "name": "python",
   "nbconvert_exporter": "python",
   "pygments_lexer": "ipython3",
   "version": "3.6.2"
  }
 },
 "nbformat": 4,
 "nbformat_minor": 2
}
