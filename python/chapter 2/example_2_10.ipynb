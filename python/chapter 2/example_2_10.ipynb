{
 "cells": [
  {
   "cell_type": "code",
   "execution_count": 7,
   "metadata": {},
   "outputs": [],
   "source": [
    "from newton import *"
   ]
  },
  {
   "cell_type": "code",
   "execution_count": 8,
   "metadata": {},
   "outputs": [],
   "source": [
    "def f(x):\n",
    "    return x**3-3.0*x**2+x+3.0"
   ]
  },
  {
   "cell_type": "code",
   "execution_count": 9,
   "metadata": {},
   "outputs": [],
   "source": [
    "def fpr(x):\n",
    "    return 3.0*x**2-6.0*x + 1"
   ]
  },
  {
   "cell_type": "code",
   "execution_count": 14,
   "metadata": {},
   "outputs": [
    {
     "name": "stdout",
     "output_type": "stream",
     "text": [
      "0 -0.500000 -0.842105 1.625000\n",
      "1 -0.842105 -0.772827 -0.566701\n",
      "2 -0.772827 -0.769301 -0.026191\n",
      "3 -0.769301 -0.769292 -0.000066\n",
      "x =  -0.769301\n"
     ]
    }
   ],
   "source": [
    "x = newton(f,fpr,-0.5,31,tol = 1.0e-5)\n",
    "print('x = ','{:8.6f}'.format(x))"
   ]
  },
  {
   "cell_type": "code",
   "execution_count": 16,
   "metadata": {},
   "outputs": [
    {
     "name": "stdout",
     "output_type": "stream",
     "text": [
      "1 -1.000000 0.000000 -0.600000 1.104000\n",
      "2 -1.000000 -0.600000 -0.742268 0.195885\n",
      "3 -1.000000 -0.742268 -0.765259 0.029724\n",
      "4 -1.000000 -0.765259 -0.768697 0.004400\n",
      "5 -1.000000 -0.768697 -0.769205 0.000649\n",
      "6 -1.000000 -0.769205 -0.769279 0.000096\n",
      "7 -1.000000 -0.769279 -0.769290 0.000014\n",
      "8 -1.000000 -0.769290 -0.769292 0.000002\n",
      "regula falsi has coverged\n",
      "x =  -0.769292\n"
     ]
    }
   ],
   "source": [
    "from falsi import *\n",
    "x = falsi(f, -1.0,0, tol = 1.0e-5)\n",
    "print('x = ','{:8.6f}'.format(x))"
   ]
  },
  {
   "cell_type": "code",
   "execution_count": null,
   "metadata": {},
   "outputs": [],
   "source": []
  }
 ],
 "metadata": {
  "kernelspec": {
   "display_name": "Python 3",
   "language": "python",
   "name": "python3"
  },
  "language_info": {
   "codemirror_mode": {
    "name": "ipython",
    "version": 3
   },
   "file_extension": ".py",
   "mimetype": "text/x-python",
   "name": "python",
   "nbconvert_exporter": "python",
   "pygments_lexer": "ipython3",
   "version": "3.6.6"
  }
 },
 "nbformat": 4,
 "nbformat_minor": 2
}
