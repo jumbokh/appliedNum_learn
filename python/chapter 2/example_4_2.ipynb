{
 "cells": [
  {
   "cell_type": "code",
   "execution_count": 1,
   "metadata": {},
   "outputs": [],
   "source": [
    "import numpy as np\n",
    "from bisection import *"
   ]
  },
  {
   "cell_type": "code",
   "execution_count": 2,
   "metadata": {},
   "outputs": [],
   "source": [
    "def f(x):\n",
    "    return x**2-3.0"
   ]
  },
  {
   "cell_type": "code",
   "execution_count": 3,
   "metadata": {},
   "outputs": [
    {
     "name": "stdout",
     "output_type": "stream",
     "text": [
      "1.0000 2.000000 1.500000 -2.000000 1.000000 -0.750000\n",
      "1.5000 2.000000 1.750000 -0.750000 1.000000 0.062500\n",
      "1.5000 1.750000 1.625000 -0.750000 0.062500 -0.359375\n",
      "1.6250 1.750000 1.687500 -0.359375 0.062500 -0.152344\n",
      "1.6875 1.750000 1.718750 -0.152344 0.062500 -0.045898\n",
      "1.7188 1.750000 1.734375 -0.045898 0.062500 0.008057\n",
      "1.7188 1.734375 1.726562 -0.045898 0.008057 -0.018982\n",
      "1.7266 1.734375 1.730469 -0.018982 0.008057 -0.005478\n",
      "1.7305 1.734375 1.732422 -0.005478 0.008057 0.001286\n",
      "1.7305 1.732422 1.731445 -0.005478 0.001286 -0.002097\n",
      "1.7314 1.732422 1.731934 -0.002097 0.001286 -0.000406\n",
      "1.7319 1.732422 1.732178 -0.000406 0.001286 0.000440\n",
      "1.7319 1.732178 1.732056 -0.000406 0.000440 0.000017\n",
      "1.7319 1.732056 1.731995 -0.000406 0.000017 -0.000195\n",
      "x =   1.73203\n"
     ]
    }
   ],
   "source": [
    "ans = bisection(f,1.0,2.0,tol = 1.0e-4)\n",
    "print('x = ','{:8.5f}'.format(ans))"
   ]
  },
  {
   "cell_type": "code",
   "execution_count": null,
   "metadata": {},
   "outputs": [],
   "source": []
  }
 ],
 "metadata": {
  "kernelspec": {
   "display_name": "Python 3",
   "language": "python",
   "name": "python3"
  },
  "language_info": {
   "codemirror_mode": {
    "name": "ipython",
    "version": 3
   },
   "file_extension": ".py",
   "mimetype": "text/x-python",
   "name": "python",
   "nbconvert_exporter": "python",
   "pygments_lexer": "ipython3",
   "version": "3.6.6"
  }
 },
 "nbformat": 4,
 "nbformat_minor": 2
}
