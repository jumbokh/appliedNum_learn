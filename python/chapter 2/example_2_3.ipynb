{
 "cells": [
  {
   "cell_type": "code",
   "execution_count": 1,
   "metadata": {},
   "outputs": [],
   "source": [
    "from falsi import *"
   ]
  },
  {
   "cell_type": "code",
   "execution_count": 2,
   "metadata": {},
   "outputs": [],
   "source": [
    "def f(x):\n",
    "    return x**3-2.0"
   ]
  },
  {
   "cell_type": "code",
   "execution_count": 5,
   "metadata": {},
   "outputs": [
    {
     "name": "stdout",
     "output_type": "stream",
     "text": [
      "1 1.000000 2.000000 1.142857 -0.507289\n",
      "2 1.142857 2.000000 1.209677 -0.229855\n",
      "3 1.209677 2.000000 1.238837 -0.098736\n",
      "4 1.238837 2.000000 1.251160 -0.041433\n",
      "5 1.251160 2.000000 1.256296 -0.017216\n",
      "6 1.256296 2.000000 1.258423 -0.007124\n",
      "7 1.258423 2.000000 1.259303 -0.002943\n",
      "8 1.259303 2.000000 1.259666 -0.001215\n",
      "9 1.259666 2.000000 1.259816 -0.000501\n",
      "10 1.259816 2.000000 1.259878 -0.000207\n",
      "11 1.259878 2.000000 1.259903 -0.000085\n",
      "regula falsi has coverged\n",
      "x =   1.25990\n"
     ]
    }
   ],
   "source": [
    "ans = falsi(f,1.0,2.0,tol = 1.0e-4)\n",
    "print('x = ','{:8.5f}'.format(ans))"
   ]
  },
  {
   "cell_type": "code",
   "execution_count": null,
   "metadata": {},
   "outputs": [],
   "source": []
  }
 ],
 "metadata": {
  "kernelspec": {
   "display_name": "Python 3",
   "language": "python",
   "name": "python3"
  },
  "language_info": {
   "codemirror_mode": {
    "name": "ipython",
    "version": 3
   },
   "file_extension": ".py",
   "mimetype": "text/x-python",
   "name": "python",
   "nbconvert_exporter": "python",
   "pygments_lexer": "ipython3",
   "version": "3.6.6"
  }
 },
 "nbformat": 4,
 "nbformat_minor": 2
}
