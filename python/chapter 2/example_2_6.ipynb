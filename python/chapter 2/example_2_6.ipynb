{
 "cells": [
  {
   "cell_type": "code",
   "execution_count": 7,
   "metadata": {},
   "outputs": [],
   "source": [
    "from secant import *\n",
    "import math"
   ]
  },
  {
   "cell_type": "code",
   "execution_count": 8,
   "metadata": {},
   "outputs": [],
   "source": [
    "def f(x):\n",
    "    return 20.0*math.pi-100.0*x+50.0*math.sin(x)"
   ]
  },
  {
   "cell_type": "code",
   "execution_count": 9,
   "metadata": {},
   "outputs": [
    {
     "name": "stdout",
     "output_type": "stream",
     "text": [
      "0 1.000000 2.000000 -91.703276\n",
      "1 2.000000 1.050776 1.144707\n",
      "2 1.050776 1.062479 0.262202\n",
      "3 1.062479 1.065956 -0.001151\n",
      "x =  1.065956\n"
     ]
    }
   ],
   "source": [
    "x = secant(f,1.0,2.0,10,tol = 1.0e-5)\n",
    "print('x = ','{:8.6f}'.format(x))"
   ]
  },
  {
   "cell_type": "code",
   "execution_count": 10,
   "metadata": {},
   "outputs": [],
   "source": [
    "def f(x):\n",
    "    return 40.0*math.pi-100.0*x+50.0*math.sin(x)"
   ]
  },
  {
   "cell_type": "code",
   "execution_count": 11,
   "metadata": {},
   "outputs": [
    {
     "name": "stdout",
     "output_type": "stream",
     "text": [
      "0 1.000000 2.000000 -28.871423\n",
      "1 2.000000 1.701151 5.124416\n",
      "2 1.701151 1.746198 0.276696\n",
      "3 1.746198 1.748770 -0.003021\n",
      "x =  1.748770\n"
     ]
    }
   ],
   "source": [
    "x = secant(f,1.0,2.0,10,tol = 1.0e-5)\n",
    "print('x = ','{:8.6f}'.format(x))"
   ]
  },
  {
   "cell_type": "code",
   "execution_count": null,
   "metadata": {},
   "outputs": [],
   "source": []
  }
 ],
 "metadata": {
  "kernelspec": {
   "display_name": "Python 3",
   "language": "python",
   "name": "python3"
  },
  "language_info": {
   "codemirror_mode": {
    "name": "ipython",
    "version": 3
   },
   "file_extension": ".py",
   "mimetype": "text/x-python",
   "name": "python",
   "nbconvert_exporter": "python",
   "pygments_lexer": "ipython3",
   "version": "3.6.6"
  }
 },
 "nbformat": 4,
 "nbformat_minor": 2
}
