{
 "cells": [
  {
   "cell_type": "code",
   "execution_count": 1,
   "metadata": {},
   "outputs": [],
   "source": [
    "from newton import *"
   ]
  },
  {
   "cell_type": "code",
   "execution_count": 2,
   "metadata": {},
   "outputs": [],
   "source": [
    "def f(x):\n",
    "    return 4*x**2-3"
   ]
  },
  {
   "cell_type": "code",
   "execution_count": 3,
   "metadata": {},
   "outputs": [],
   "source": [
    "def fpr(x):\n",
    "    return 8*x"
   ]
  },
  {
   "cell_type": "code",
   "execution_count": 5,
   "metadata": {},
   "outputs": [
    {
     "name": "stdout",
     "output_type": "stream",
     "text": [
      "0 0.500000 1.000000 -2.000000\n",
      "1 1.000000 0.875000 1.000000\n",
      "2 0.875000 0.866071 0.062500\n",
      "3 0.866071 0.866025 0.000319\n",
      "4 0.866025 0.866025 0.000000\n",
      "x =  0.866025\n"
     ]
    }
   ],
   "source": [
    "x = newton(f,fpr,0.5,30,tol = 1.0e-5)\n",
    "print('x = ','{:8.6f}'.format(x))"
   ]
  },
  {
   "cell_type": "code",
   "execution_count": 8,
   "metadata": {},
   "outputs": [
    {
     "name": "stdout",
     "output_type": "stream",
     "text": [
      "1 0.000000 2.000000 0.375000 -2.437500\n",
      "2 0.375000 2.000000 0.631579 -1.404432\n",
      "3 0.631579 2.000000 0.765000 -0.659100\n",
      "4 0.765000 2.000000 0.824593 -0.280185\n",
      "5 0.824593 2.000000 0.849392 -0.114134\n",
      "6 0.849392 2.000000 0.859406 -0.045687\n",
      "7 0.859406 2.000000 0.863400 -0.018160\n",
      "8 0.863400 2.000000 0.864986 -0.007199\n",
      "9 0.864986 2.000000 0.865614 -0.002850\n",
      "10 0.865614 2.000000 0.865863 -0.001128\n",
      "11 0.865863 2.000000 0.865961 -0.000446\n",
      "12 0.865961 2.000000 0.866000 -0.000177\n",
      "13 0.866000 2.000000 0.866015 -0.000070\n",
      "14 0.866015 2.000000 0.866021 -0.000028\n",
      "15 0.866021 2.000000 0.866024 -0.000011\n",
      "16 0.866024 2.000000 0.866025 -0.000004\n",
      "regula falsi has coverged\n",
      "x =  0.866025\n"
     ]
    }
   ],
   "source": [
    "from falsi import *\n",
    "x = falsi(f, 0,2, tol = 1.0e-5)\n",
    "print('x = ','{:8.6f}'.format(x))"
   ]
  },
  {
   "cell_type": "code",
   "execution_count": null,
   "metadata": {},
   "outputs": [],
   "source": []
  }
 ],
 "metadata": {
  "kernelspec": {
   "display_name": "Python 3",
   "language": "python",
   "name": "python3"
  },
  "language_info": {
   "codemirror_mode": {
    "name": "ipython",
    "version": 3
   },
   "file_extension": ".py",
   "mimetype": "text/x-python",
   "name": "python",
   "nbconvert_exporter": "python",
   "pygments_lexer": "ipython3",
   "version": "3.6.6"
  }
 },
 "nbformat": 4,
 "nbformat_minor": 2
}
