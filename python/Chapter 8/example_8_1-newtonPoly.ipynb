{
 "cells": [
  {
   "cell_type": "code",
   "execution_count": 12,
   "metadata": {},
   "outputs": [],
   "source": [
    "import numpy as np"
   ]
  },
  {
   "cell_type": "code",
   "execution_count": 13,
   "metadata": {},
   "outputs": [],
   "source": [
    "from newtonPoly import *\n",
    "import math"
   ]
  },
  {
   "cell_type": "code",
   "execution_count": 14,
   "metadata": {},
   "outputs": [
    {
     "name": "stdout",
     "output_type": "stream",
     "text": [
      " x     yInterp   yExact\n",
      "--------------------------\n",
      "0.0   0.89545   2.00000\n",
      "0.5   1.68398   2.75000\n",
      "1.0   2.23426   4.00000\n",
      "1.5   2.26422   5.75000\n",
      "2.0   1.49182   8.00000\n",
      "2.5  -0.36501  10.75000\n",
      "3.0  -3.58833  14.00000\n",
      "3.5  -8.46019  17.75000\n",
      "4.0 -15.26266  22.00000\n",
      "4.5 -24.27779  26.75000\n",
      "5.0 -35.78764  32.00000\n",
      "5.5 -50.07427  37.75000\n",
      "6.0 -67.41975  44.00000\n",
      "6.5 -88.10612  50.75000\n",
      "7.0 -112.41545  58.00000\n",
      "7.5 -140.62979  65.75000\n",
      "8.0 -173.03122  74.00000\n",
      "8.5 -209.90177  82.75000\n",
      "9.0 -251.52352  92.00000\n",
      "9.5 -298.17852 101.75000\n",
      "10.0 -350.14883 112.00000\n"
     ]
    }
   ],
   "source": [
    "xData = np.array([-2,0.2,2,0.6])\n",
    "yData = np.array([1.0,1.22140,1.49182,1.82212])\n",
    "a = coeffts(xData,yData)\n",
    "print(\" x     yInterp   yExact\")\n",
    "print(\"--------------------------\")\n",
    "for x in np.arange(0.0, 10.1, 0.5):\n",
    "    y = evalPoly(a,xData,x)\n",
    "    yExact = math.pow(x,2)+x+2\n",
    "    print('{:3.1f} {:9.5f} {:9.5f}'.format(x,y,yExact))"
   ]
  },
  {
   "cell_type": "code",
   "execution_count": 15,
   "metadata": {},
   "outputs": [],
   "source": [
    "from rational import *\n",
    "from neville import *\n",
    "import matplotlib.pyplot as plt"
   ]
  },
  {
   "cell_type": "code",
   "execution_count": 16,
   "metadata": {},
   "outputs": [
    {
     "data": {
      "image/png": "[encoded data removed]",
      "text/plain": [
       "<Figure size 432x288 with 1 Axes>"
      ]
     },
     "metadata": {},
     "output_type": "display_data"
    }
   ],
   "source": [
    "x = np.arange(-2.1, 2.1, 0.05);\n",
    "n = len(x)\n",
    "y = np.zeros((n,2))\n",
    "yg = evalPoly(a,xData,x)\n",
    "for i in range(n):\n",
    "    y[i,0] = yg[i]\n",
    "    y[i,1] = math.pow(x[i],2)+x[i]+2\n",
    "plt.plot(xData, yData, 'o', x,y[:,0], '-', x,y[:,1],'--')\n",
    "plt.xlabel('x')\n",
    "plt.legend(('Data','eval','Exact'),loc = 0)\n",
    "plt.grid(True)\n",
    "plt.show()"
   ]
  },
  {
   "cell_type": "code",
   "execution_count": 17,
   "metadata": {},
   "outputs": [
    {
     "name": "stdout",
     "output_type": "stream",
     "text": [
      " 1.64872\n"
     ]
    }
   ],
   "source": [
    "import math\n",
    "a = math.exp(0.5)\n",
    "print('{:8.5f}'.format(a))"
   ]
  },
  {
   "cell_type": "code",
   "execution_count": 18,
   "metadata": {},
   "outputs": [
    {
     "name": "stdout",
     "output_type": "stream",
     "text": [
      " 0.00009\n"
     ]
    }
   ],
   "source": [
    "r = 1.64881 -1.64872 \n",
    "print('{:8.5f}'.format(r))"
   ]
  },
  {
   "cell_type": "code",
   "execution_count": null,
   "metadata": {},
   "outputs": [],
   "source": []
  }
 ],
 "metadata": {
  "kernelspec": {
   "display_name": "Python 3",
   "language": "python",
   "name": "python3"
  },
  "language_info": {
   "codemirror_mode": {
    "name": "ipython",
    "version": 3
   },
   "file_extension": ".py",
   "mimetype": "text/x-python",
   "name": "python",
   "nbconvert_exporter": "python",
   "pygments_lexer": "ipython3",
   "version": "3.6.5"
  }
 },
 "nbformat": 4,
 "nbformat_minor": 2
}
