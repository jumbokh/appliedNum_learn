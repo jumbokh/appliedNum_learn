{
 "cells": [
  {
   "cell_type": "code",
   "execution_count": 25,
   "metadata": {
    "collapsed": true
   },
   "outputs": [],
   "source": [
    "import numpy as np\n",
    "import matplotlib.pyplot as plt"
   ]
  },
  {
   "cell_type": "code",
   "execution_count": 26,
   "metadata": {
    "collapsed": true
   },
   "outputs": [],
   "source": [
    "def LagrangeCoef(x,y):\n",
    "    n = len(x)\n",
    "    c = np.zeros(n)\n",
    "    d = np.zeros(n)\n",
    "    for k in range(n):\n",
    "        d[k] = 1.0\n",
    "        for i in range(n):\n",
    "            if i != k:\n",
    "                d[k] = d[k]*(x[k]-x[i])\n",
    "            c[k] = y[k]/d[k]\n",
    "    return c"
   ]
  },
  {
   "cell_type": "code",
   "execution_count": 27,
   "metadata": {},
   "outputs": [
    {
     "name": "stdout",
     "output_type": "stream",
     "text": [
      "    0.50,    -0.50,     1.00, \n"
     ]
    }
   ],
   "source": [
    "xData = np.array([-2,0,2])\n",
    "yData = np.array([4,2,8])\n",
    "c = LagrangeCoef(xData,yData)\n",
    "n = len(c)\n",
    "for i in range(n):\n",
    "    print('{:8.2f}'.format(c[i]),end=', ')\n",
    "print()"
   ]
  },
  {
   "cell_type": "code",
   "execution_count": 28,
   "metadata": {
    "collapsed": true
   },
   "outputs": [],
   "source": [
    "def LagrangeEval(t,x,c):\n",
    "    m = len(x)\n",
    "    n = len(t)\n",
    "    p = np.zeros(n)\n",
    "    N = np.zeros(m)\n",
    "    for i in range(n):\n",
    "        p[i]=0\n",
    "        for j in range(m):\n",
    "            N[j] = 1\n",
    "            for k in range(m):\n",
    "                if j != k:\n",
    "                    N[j] = N[j] * (t[i] - x[k])\n",
    "            p[i] = p[i] + N[j] * c[j]\n",
    "    return p"
   ]
  },
  {
   "cell_type": "code",
   "execution_count": 29,
   "metadata": {},
   "outputs": [
    {
     "data": {
      "image/png": "[encoded data removed]",
      "text/plain": [
       "<matplotlib.figure.Figure at 0x1abe1522550>"
      ]
     },
     "metadata": {},
     "output_type": "display_data"
    }
   ],
   "source": [
    "t = np.arange(-2.1,2.1,0.05)\n",
    "p = np.zeros(len(t))\n",
    "p = LagrangeEval(t,xData,c)\n",
    "plt.plot(xData, yData, 'o', t,p,'--')\n",
    "plt.xlabel('x')\n",
    "plt.legend(('Data','eval'),loc = 0)\n",
    "plt.grid(True)\n",
    "plt.show()"
   ]
  }
 ],
 "metadata": {
  "kernelspec": {
   "display_name": "Python 3",
   "language": "python",
   "name": "python3"
  },
  "language_info": {
   "codemirror_mode": {
    "name": "ipython",
    "version": 3
   },
   "file_extension": ".py",
   "mimetype": "text/x-python",
   "name": "python",
   "nbconvert_exporter": "python",
   "pygments_lexer": "ipython3",
   "version": "3.6.2"
  }
 },
 "nbformat": 4,
 "nbformat_minor": 2
}
