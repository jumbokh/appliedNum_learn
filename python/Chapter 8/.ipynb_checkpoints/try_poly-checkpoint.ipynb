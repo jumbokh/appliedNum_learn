{
 "cells": [
  {
   "cell_type": "code",
   "execution_count": 4,
   "metadata": {
    "collapsed": true
   },
   "outputs": [],
   "source": [
    "import numpy as np"
   ]
  },
  {
   "cell_type": "code",
   "execution_count": 5,
   "metadata": {
    "collapsed": true
   },
   "outputs": [],
   "source": [
    "from newtonPoly import *\n",
    "import math"
   ]
  },
  {
   "cell_type": "code",
   "execution_count": 6,
   "metadata": {},
   "outputs": [
    {
     "ename": "NameError",
     "evalue": "name 'xData' is not defined",
     "output_type": "error",
     "traceback": [
      "\u001b[1;31m---------------------------------------------------------------------------\u001b[0m",
      "\u001b[1;31mNameError\u001b[0m                                 Traceback (most recent call last)",
      "\u001b[1;32m<ipython-input-6-01ffce1eb941>\u001b[0m in \u001b[0;36m<module>\u001b[1;34m()\u001b[0m\n\u001b[0;32m      1\u001b[0m \u001b[0mxdata\u001b[0m \u001b[1;33m=\u001b[0m \u001b[0mnp\u001b[0m\u001b[1;33m.\u001b[0m\u001b[0marray\u001b[0m\u001b[1;33m(\u001b[0m\u001b[1;33m[\u001b[0m\u001b[1;36m0.15\u001b[0m\u001b[1;33m,\u001b[0m \u001b[1;36m2.3\u001b[0m\u001b[1;33m,\u001b[0m \u001b[1;36m3.15\u001b[0m\u001b[1;33m,\u001b[0m \u001b[1;36m4.85\u001b[0m\u001b[1;33m,\u001b[0m \u001b[1;36m6.25\u001b[0m\u001b[1;33m,\u001b[0m \u001b[1;36m7.95\u001b[0m\u001b[1;33m]\u001b[0m\u001b[1;33m)\u001b[0m\u001b[1;33m\u001b[0m\u001b[0m\n\u001b[0;32m      2\u001b[0m \u001b[0mydata\u001b[0m \u001b[1;33m=\u001b[0m \u001b[0mnp\u001b[0m\u001b[1;33m.\u001b[0m\u001b[0marray\u001b[0m\u001b[1;33m(\u001b[0m\u001b[1;33m[\u001b[0m\u001b[1;36m4.79867\u001b[0m\u001b[1;33m,\u001b[0m \u001b[1;36m4.49013\u001b[0m\u001b[1;33m,\u001b[0m \u001b[1;36m4.2242\u001b[0m\u001b[1;33m,\u001b[0m \u001b[1;36m3.47313\u001b[0m\u001b[1;33m,\u001b[0m \u001b[1;36m2.66674\u001b[0m\u001b[1;33m,\u001b[0m \u001b[1;36m1.51909\u001b[0m\u001b[1;33m]\u001b[0m\u001b[1;33m)\u001b[0m\u001b[1;33m\u001b[0m\u001b[0m\n\u001b[1;32m----> 3\u001b[1;33m \u001b[0ma\u001b[0m \u001b[1;33m=\u001b[0m \u001b[0mcoeffts\u001b[0m\u001b[1;33m(\u001b[0m\u001b[0mxData\u001b[0m\u001b[1;33m,\u001b[0m\u001b[0myData\u001b[0m\u001b[1;33m)\u001b[0m\u001b[1;33m\u001b[0m\u001b[0m\n\u001b[0m\u001b[0;32m      4\u001b[0m \u001b[0mprint\u001b[0m\u001b[1;33m(\u001b[0m\u001b[1;34m\" x     yInterp      yExact\"\u001b[0m\u001b[1;33m)\u001b[0m\u001b[1;33m\u001b[0m\u001b[0m\n\u001b[0;32m      5\u001b[0m \u001b[0mprint\u001b[0m\u001b[1;33m(\u001b[0m\u001b[1;34m\"--------------------------\"\u001b[0m\u001b[1;33m)\u001b[0m\u001b[1;33m\u001b[0m\u001b[0m\n",
      "\u001b[1;31mNameError\u001b[0m: name 'xData' is not defined"
     ]
    }
   ],
   "source": [
    "xData = np.array([0.15, 2.3, 3.15, 4.85, 6.25, 7.95])\n",
    "yData = np.array([4.79867, 4.49013, 4.2242, 3.47313, 2.66674, 1.51909])\n",
    "a = coeffts(xData,yData)\n",
    "print(\" x     yInterp      yExact\")\n",
    "print(\"--------------------------\")\n",
    "for x in np.arange(0.0, 8.1, 0.5):\n",
    "    y = evalPoly(a,xData,x)\n",
    "    yExact = 4.9*math.cos(math.pi*x/20.0)\n",
    "    print('{:3.1f} {:9.5f} {:9.5f}'.format(x,y,yExact))"
   ]
  },
  {
   "cell_type": "code",
   "execution_count": null,
   "metadata": {
    "collapsed": true
   },
   "outputs": [],
   "source": []
  }
 ],
 "metadata": {
  "kernelspec": {
   "display_name": "Python 3",
   "language": "python",
   "name": "python3"
  },
  "language_info": {
   "codemirror_mode": {
    "name": "ipython",
    "version": 3
   },
   "file_extension": ".py",
   "mimetype": "text/x-python",
   "name": "python",
   "nbconvert_exporter": "python",
   "pygments_lexer": "ipython3",
   "version": "3.6.2"
  }
 },
 "nbformat": 4,
 "nbformat_minor": 2
}
