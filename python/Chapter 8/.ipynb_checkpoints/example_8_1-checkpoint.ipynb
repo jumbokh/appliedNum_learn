{
 "cells": [
  {
   "cell_type": "code",
   "execution_count": 12,
   "metadata": {
    "collapsed": true
   },
   "outputs": [],
   "source": [
    "import numpy as np"
   ]
  },
  {
   "cell_type": "code",
   "execution_count": 13,
   "metadata": {
    "collapsed": true
   },
   "outputs": [],
   "source": [
    "from newtonPoly import *\n",
    "import math"
   ]
  },
  {
   "cell_type": "code",
   "execution_count": 14,
   "metadata": {},
   "outputs": [
    {
     "name": "stdout",
     "output_type": "stream",
     "text": [
      " x     yInterp      yExact\n",
      "--------------------------\n",
      "0.0   4.79990   4.90000\n",
      "0.5   4.78536   4.88489\n",
      "1.0   4.74112   4.83967\n",
      "1.5   4.66753   4.76461\n",
      "2.0   4.56513   4.66018\n",
      "2.5   4.43459   4.52701\n",
      "3.0   4.27674   4.36593\n",
      "3.5   4.09256   4.17794\n",
      "4.0   3.88320   3.96418\n",
      "4.5   3.64991   3.72599\n",
      "5.0   3.39412   3.46482\n",
      "5.5   3.11738   3.18230\n",
      "6.0   2.82139   2.88015\n",
      "6.5   2.50797   2.56024\n",
      "7.0   2.17907   2.22455\n",
      "7.5   1.83678   1.87515\n",
      "8.0   1.48330   1.51418\n"
     ]
    }
   ],
   "source": [
    "xData = np.array([0.15, 2.3, 3.15, 4.85, 6.25, 7.95])\n",
    "yData = np.array([4.79867, 4.49013, 4.2242, 3.47313, 2.66674, 1.51909])\n",
    "a = coeffts(xData,yData)\n",
    "print(\" x     yInterp      yExact\")\n",
    "print(\"--------------------------\")\n",
    "for x in np.arange(0.0, 8.1, 0.5):\n",
    "    y = evalPoly(a,xData,x)\n",
    "    yExact = 4.9*math.cos(math.pi*x/20.0)\n",
    "    print('{:3.1f} {:9.5f} {:9.5f}'.format(x,y,yExact))"
   ]
  },
  {
   "cell_type": "code",
   "execution_count": 15,
   "metadata": {
    "collapsed": true
   },
   "outputs": [],
   "source": [
    "from plotPoly import *"
   ]
  },
  {
   "cell_type": "code",
   "execution_count": 23,
   "metadata": {},
   "outputs": [
    {
     "data": {
      "image/png": "[encoded data removed]",
      "text/plain": [
       "<matplotlib.figure.Figure at 0x253dd78d9b0>"
      ]
     },
     "metadata": {},
     "output_type": "display_data"
    }
   ],
   "source": [
    "plotPoly(xData,yData,a)"
   ]
  },
  {
   "cell_type": "code",
   "execution_count": null,
   "metadata": {
    "collapsed": true
   },
   "outputs": [],
   "source": []
  }
 ],
 "metadata": {
  "kernelspec": {
   "display_name": "Python 3",
   "language": "python",
   "name": "python3"
  },
  "language_info": {
   "codemirror_mode": {
    "name": "ipython",
    "version": 3
   },
   "file_extension": ".py",
   "mimetype": "text/x-python",
   "name": "python",
   "nbconvert_exporter": "python",
   "pygments_lexer": "ipython3",
   "version": "3.6.2"
  }
 },
 "nbformat": 4,
 "nbformat_minor": 2
}
