{
 "cells": [
  {
   "cell_type": "code",
   "execution_count": 2,
   "metadata": {
    "collapsed": true
   },
   "outputs": [],
   "source": [
    "import numpy as np"
   ]
  },
  {
   "cell_type": "code",
   "execution_count": 3,
   "metadata": {
    "collapsed": true
   },
   "outputs": [],
   "source": [
    "from newtonPoly import *\n",
    "import math"
   ]
  },
  {
   "cell_type": "code",
   "execution_count": 4,
   "metadata": {},
   "outputs": [
    {
     "name": "stdout",
     "output_type": "stream",
     "text": [
      " x     yInterp   yExact\n",
      "--------------------------\n",
      "0.0   2.00000   2.00000\n",
      "0.5   2.75000   2.75000\n",
      "1.0   4.00000   4.00000\n",
      "1.5   5.75000   5.75000\n",
      "2.0   8.00000   8.00000\n",
      "2.5  10.75000  10.75000\n",
      "3.0  14.00000  14.00000\n",
      "3.5  17.75000  17.75000\n",
      "4.0  22.00000  22.00000\n",
      "4.5  26.75000  26.75000\n",
      "5.0  32.00000  32.00000\n",
      "5.5  37.75000  37.75000\n",
      "6.0  44.00000  44.00000\n",
      "6.5  50.75000  50.75000\n",
      "7.0  58.00000  58.00000\n",
      "7.5  65.75000  65.75000\n",
      "8.0  74.00000  74.00000\n",
      "8.5  82.75000  82.75000\n",
      "9.0  92.00000  92.00000\n",
      "9.5 101.75000 101.75000\n",
      "10.0 112.00000 112.00000\n"
     ]
    }
   ],
   "source": [
    "xData = np.array([-2,0,2])\n",
    "yData = np.array([4,2,8])\n",
    "a = coeffts(xData,yData)\n",
    "print(\" x     yInterp   yExact\")\n",
    "print(\"--------------------------\")\n",
    "for x in np.arange(0.0, 10.1, 0.5):\n",
    "    y = evalPoly(a,xData,x)\n",
    "    yExact = math.pow(x,2)+x+2\n",
    "    print('{:3.1f} {:9.5f} {:9.5f}'.format(x,y,yExact))"
   ]
  },
  {
   "cell_type": "code",
   "execution_count": 5,
   "metadata": {
    "collapsed": true
   },
   "outputs": [],
   "source": [
    "from rational import *\n",
    "from neville import *\n",
    "import matplotlib.pyplot as plt"
   ]
  },
  {
   "cell_type": "code",
   "execution_count": 10,
   "metadata": {},
   "outputs": [
    {
     "data": {
      "image/png": "[encoded data removed]",
      "text/plain": [
       "<matplotlib.figure.Figure at 0x20f72dca908>"
      ]
     },
     "metadata": {},
     "output_type": "display_data"
    }
   ],
   "source": [
    "x = np.arange(-2.1, 2.1, 0.05);\n",
    "n = len(x)\n",
    "y = np.zeros((n,2))\n",
    "yg = evalPoly(a,xData,x)\n",
    "for i in range(n):\n",
    "    y[i,0] = yg[i]\n",
    "    y[i,1] = math.pow(x[i],2)+x[i]+2\n",
    "plt.plot(xData, yData, 'o', x,y[:,0], '-', x,y[:,1],'--')\n",
    "plt.xlabel('x')\n",
    "plt.legend(('Data','eval','Exact'),loc = 0)\n",
    "plt.grid(True)\n",
    "plt.show()"
   ]
  },
  {
   "cell_type": "code",
   "execution_count": null,
   "metadata": {
    "collapsed": true
   },
   "outputs": [],
   "source": []
  }
 ],
 "metadata": {
  "kernelspec": {
   "display_name": "Python 3",
   "language": "python",
   "name": "python3"
  },
  "language_info": {
   "codemirror_mode": {
    "name": "ipython",
    "version": 3
   },
   "file_extension": ".py",
   "mimetype": "text/x-python",
   "name": "python",
   "nbconvert_exporter": "python",
   "pygments_lexer": "ipython3",
   "version": "3.6.2"
  }
 },
 "nbformat": 4,
 "nbformat_minor": 2
}
