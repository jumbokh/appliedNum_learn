{
 "cells": [
  {
   "cell_type": "code",
   "execution_count": 1,
   "metadata": {},
   "outputs": [
    {
     "ename": "SyntaxError",
     "evalue": "Missing parentheses in call to 'print'. Did you mean print(\"Using Muller's method to solve %s\\n\" % func.__doc__)? (<ipython-input-1-335113601136>, line 16)",
     "output_type": "error",
     "traceback": [
      "\u001b[1;36m  File \u001b[1;32m\"<ipython-input-1-335113601136>\"\u001b[1;36m, line \u001b[1;32m16\u001b[0m\n\u001b[1;33m    print \"Using Muller's method to solve %s\\n\" % func.__doc__\u001b[0m\n\u001b[1;37m                                              ^\u001b[0m\n\u001b[1;31mSyntaxError\u001b[0m\u001b[1;31m:\u001b[0m Missing parentheses in call to 'print'. Did you mean print(\"Using Muller's method to solve %s\\n\" % func.__doc__)?\n"
     ]
    }
   ],
   "source": [
    "from helpers import *\n",
    "\n",
    "def swap_points(x):\n",
    "    s = []\n",
    "    s = x\n",
    "    s.sort()\n",
    "    f = s[1]\n",
    "    sn = s[2]\n",
    "    t = s[0]\n",
    "    s[0] = f\n",
    "    s[1] = sn\n",
    "    s[2] = t\n",
    "    return s\n",
    "\n",
    "def mullers_method(func, a, b, r, max_steps=MaxSteps):\n",
    "    print (\"Using Muller's method to solve %s\\n\" % func.__doc__)\n",
    "    x = [a,b,r]\n",
    "    for loopCount in range(max_steps):\n",
    "        x = swap_points(x)\n",
    "        y = func(x[0]), func(x[1]), func(x[2])\n",
    "        h1 = x[1]-x[0]\n",
    "        h2 = x[0]-x[2]\n",
    "        lam = h2/h1\n",
    "        c = y[0]\n",
    "        a = (lam*y[1] - y[0]*((1.0+lam))+y[2])/(lam*h1**2.0*(1+lam))\n",
    "        b = (y[1] - y[0] - a*((h1)**2.0))/(h1)\n",
    "        if b > 0:\n",
    "            root = x[0] - ((2.0*c)/(b+ (b**2 - 4.0*a*c)**0.5))\n",
    "        else:\n",
    "            root = x[0] - ((2.0*c)/(b- (b**2 - 4.0*a*c)**0.5))\n",
    "        print (\"a = %.5f b = %.5f c = %.5f root = %.5f \" % (a,b,c,root))\n",
    "        print (\"Current approximation is %.9f\" % root)\n",
    "        if abs(func(root)) > x[0]:\n",
    "            x = [x[1],x[0],root]\n",
    "        else:\n",
    "            x = [x[2],x[0],root]\n",
    "        x = swap_points(x)"
   ]
  },
  {
   "cell_type": "code",
   "execution_count": null,
   "metadata": {},
   "outputs": [],
   "source": []
  }
 ],
 "metadata": {
  "kernelspec": {
   "display_name": "Python 3",
   "language": "python",
   "name": "python3"
  },
  "language_info": {
   "codemirror_mode": {
    "name": "ipython",
    "version": 3
   },
   "file_extension": ".py",
   "mimetype": "text/x-python",
   "name": "python",
   "nbconvert_exporter": "python",
   "pygments_lexer": "ipython3",
   "version": "3.6.6"
  }
 },
 "nbformat": 4,
 "nbformat_minor": 2
}
