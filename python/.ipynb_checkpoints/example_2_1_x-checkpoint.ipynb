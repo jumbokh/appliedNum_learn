{
 "cells": [
  {
   "cell_type": "code",
   "execution_count": 1,
   "metadata": {},
   "outputs": [],
   "source": [
    "from bisectionx import *"
   ]
  },
  {
   "cell_type": "code",
   "execution_count": 2,
   "metadata": {},
   "outputs": [],
   "source": [
    "def f(x):\n",
    "    return x**3-3.0*x**2+1.0"
   ]
  },
  {
   "cell_type": "code",
   "execution_count": 3,
   "metadata": {},
   "outputs": [
    {
     "name": "stdout",
     "output_type": "stream",
     "text": [
      "+--------+--------+--------+--------+---------+---------+\n",
      "|   a    |   b    |   m    |   ya   |    yb   |    ym   |\n",
      "+--------+--------+--------+--------+---------+---------+\n",
      "|   0    |   1    |  0.5   |  1.0   |   -1.0  |  0.375  |\n",
      "|  0.5   |   1    |  0.75  | 0.375  |   -1.0  | -0.2656 |\n",
      "|  0.5   |  0.75  | 0.625  | 0.375  | -0.2656 |  0.0723 |\n",
      "| 0.625  |  0.75  | 0.6875 | 0.0723 | -0.2656 |  -0.093 |\n",
      "| 0.625  | 0.6875 | 0.6562 | 0.0723 |  -0.093 | -0.0094 |\n",
      "| 0.625  | 0.6562 | 0.6406 | 0.0723 | -0.0094 |  0.0317 |\n",
      "| 0.6406 | 0.6562 | 0.6484 | 0.0317 | -0.0094 |  0.0112 |\n",
      "| 0.6484 | 0.6562 | 0.6523 | 0.0112 | -0.0094 |  0.0009 |\n",
      "| 0.6523 | 0.6562 | 0.6543 | 0.0009 | -0.0094 | -0.0042 |\n",
      "| 0.6523 | 0.6543 | 0.6533 | 0.0009 | -0.0042 | -0.0016 |\n",
      "| 0.6523 | 0.6533 | 0.6528 | 0.0009 | -0.0016 | -0.0003 |\n",
      "| 0.6523 | 0.6528 | 0.6526 | 0.0009 | -0.0003 |  0.0003 |\n",
      "| 0.6526 | 0.6528 | 0.6527 | 0.0003 | -0.0003 |   -0.0  |\n",
      "| 0.6526 | 0.6527 | 0.6526 | 0.0003 |   -0.0  |  0.0001 |\n",
      "| 0.6526 | 0.6527 | 0.6527 | 0.0001 |   -0.0  |  0.0001 |\n",
      "| 0.6527 | 0.6527 | 0.6527 | 0.0001 |   -0.0  |   0.0   |\n",
      "| 0.6527 | 0.6527 | 0.6527 |  0.0   |   -0.0  |   0.0   |\n",
      "+--------+--------+--------+--------+---------+---------+\n"
     ]
    }
   ],
   "source": [
    "x,logdat = bisectionx(f, 0,1, tol = 1.0e-5)\n",
    "#print('x = ','{:6.4f}'.format(ans))\n",
    "from prettytable import PrettyTable\n",
    "import matplotlib.pyplot as plt\n",
    "printx = PrettyTable([\"a\",\"b\",\"m\",\"ya\",\"yb\",\"ym\" ])\n",
    "printx.padding_width = 1\n",
    "for a,b,m,f1,f2,f3 in logdat:\n",
    "    printx.add_row([a,b,m,f1,f2,f3])   \n",
    "print(printx)\n"
   ]
  },
  {
   "cell_type": "code",
   "execution_count": 14,
   "metadata": {},
   "outputs": [
    {
     "data": {
      "image/png": "[encoded data removed]",
      "text/plain": [
       "<Figure size 432x288 with 1 Axes>"
      ]
     },
     "metadata": {},
     "output_type": "display_data"
    }
   ],
   "source": [
    "t = np.arange(0,1,.01)\n",
    "n = np.copy(t)\n",
    "n.fill(0)\n",
    "plt.plot(t, f(t), 'r')\n",
    "plt.plot(t,n,'k')\n",
    "for a,b,m,f1,f2,f3 in logdat:\n",
    "    plt.plot(a,f1,'go')\n",
    "    plt.plot(b,f2,'bo')\n",
    "    plt.plot(m,0,'co')\n",
    "plt.show()"
   ]
  },
  {
   "cell_type": "code",
   "execution_count": 16,
   "metadata": {},
   "outputs": [
    {
     "name": "stdout",
     "output_type": "stream",
     "text": [
      "+------+--------+--------+--------+---------+--------+--------+\n",
      "| 步驟 |   a    |   b    |   m    |    ym   |  誤差  |  範圍  |\n",
      "+------+--------+--------+--------+---------+--------+--------+\n",
      "|  1   |   0    |   1    |  0.5   |  0.375  | 0.1527 |  0.5   |\n",
      "|  2   |  0.5   |   1    |  0.75  | -0.2656 | 0.0973 |  0.25  |\n",
      "|  3   |  0.5   |  0.75  | 0.625  |  0.0723 | 0.0277 | 0.125  |\n",
      "|  4   | 0.625  |  0.75  | 0.6875 |  -0.093 | 0.0348 | 0.0625 |\n",
      "|  5   | 0.625  | 0.6875 | 0.6562 | -0.0094 | 0.0035 | 0.0312 |\n",
      "|  6   | 0.625  | 0.6562 | 0.6406 |  0.0317 | 0.0121 | 0.0156 |\n",
      "|  7   | 0.6406 | 0.6562 | 0.6484 |  0.0112 | 0.0043 | 0.0078 |\n",
      "|  8   | 0.6484 | 0.6562 | 0.6523 |  0.0009 | 0.0004 | 0.0039 |\n",
      "|  9   | 0.6523 | 0.6562 | 0.6543 | -0.0042 | 0.0016 | 0.002  |\n",
      "|  10  | 0.6523 | 0.6543 | 0.6533 | -0.0016 | 0.0006 | 0.001  |\n",
      "|  11  | 0.6523 | 0.6533 | 0.6528 | -0.0003 | 0.0001 | 0.0005 |\n",
      "|  12  | 0.6523 | 0.6528 | 0.6526 |  0.0003 | 0.0001 | 0.0003 |\n",
      "|  13  | 0.6526 | 0.6528 | 0.6527 |   -0.0  |  0.0   | 0.0001 |\n",
      "|  14  | 0.6526 | 0.6527 | 0.6526 |  0.0001 | 0.0001 |  0.0   |\n",
      "|  15  | 0.6526 | 0.6527 | 0.6527 |  0.0001 |  0.0   |  0.0   |\n",
      "|  16  | 0.6527 | 0.6527 | 0.6527 |   0.0   |  0.0   |  0.0   |\n",
      "|  17  | 0.6527 | 0.6527 | 0.6527 |   0.0   |  0.0   |  0.0   |\n",
      "+------+--------+--------+--------+---------+--------+--------+\n"
     ]
    }
   ],
   "source": [
    "from prettytable import PrettyTable\n",
    "\n",
    "printx = PrettyTable([\"步驟\",\"a\",\"b\",\"m\",\"ym\",\"誤差\",\"範圍\" ])\n",
    "printx.padding_width = 1\n",
    "n=0\n",
    "for a,b,m,f1,f2,f3 in logdat:\n",
    "    n = n + 1\n",
    "    err = round(abs(x-m),4)\n",
    "    bound = round(abs(0.5*(a-b)),4)\n",
    "    printx.add_row([n,a,b,m,f3,err,bound])   \n",
    "print(printx)"
   ]
  },
  {
   "cell_type": "code",
   "execution_count": null,
   "metadata": {},
   "outputs": [],
   "source": []
  }
 ],
 "metadata": {
  "kernelspec": {
   "display_name": "Python 3",
   "language": "python",
   "name": "python3"
  },
  "language_info": {
   "codemirror_mode": {
    "name": "ipython",
    "version": 3
   },
   "file_extension": ".py",
   "mimetype": "text/x-python",
   "name": "python",
   "nbconvert_exporter": "python",
   "pygments_lexer": "ipython3",
   "version": "3.6.6"
  }
 },
 "nbformat": 4,
 "nbformat_minor": 2
}
