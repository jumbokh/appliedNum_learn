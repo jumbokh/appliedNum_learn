{
 "cells": [
  {
   "cell_type": "code",
   "execution_count": 11,
   "metadata": {
    "collapsed": true
   },
   "outputs": [],
   "source": [
    "import numpy as np"
   ]
  },
  {
   "cell_type": "code",
   "execution_count": 12,
   "metadata": {
    "collapsed": true
   },
   "outputs": [],
   "source": [
    "A = np.array([[21,7,-1],[5,7,7],[4,-4,20]])\n",
    "z = [[1],[1],[1]]"
   ]
  },
  {
   "cell_type": "code",
   "execution_count": 13,
   "metadata": {},
   "outputs": [
    {
     "name": "stdout",
     "output_type": "stream",
     "text": [
      "w= [[27]\n",
      " [19]\n",
      " [20]]\n",
      "new w: [27]\n",
      "z: [[1.        ]\n",
      " [0.7037037 ]\n",
      " [0.74074074]]\n",
      "w= [[25.18518519]\n",
      " [15.11111111]\n",
      " [16.        ]]\n",
      "new w: [25.18518519]\n",
      "z: [[1.        ]\n",
      " [0.6       ]\n",
      " [0.63529412]]\n",
      "w= [[24.56470588]\n",
      " [13.64705882]\n",
      " [14.30588235]]\n",
      "new w: [24.56470588]\n",
      "z: [[1.        ]\n",
      " [0.55555556]\n",
      " [0.58237548]]\n"
     ]
    }
   ],
   "source": [
    "for _ in range(3):\n",
    "    w = np.dot(A,z)\n",
    "    print('w=',w) \n",
    "    w1 = max(w)\n",
    "    print('new w:',w1)\n",
    "    z = w/w1\n",
    "    print('z:',z)"
   ]
  },
  {
   "cell_type": "code",
   "execution_count": null,
   "metadata": {
    "collapsed": true
   },
   "outputs": [],
   "source": []
  }
 ],
 "metadata": {
  "kernelspec": {
   "display_name": "Python 3",
   "language": "python",
   "name": "python3"
  },
  "language_info": {
   "codemirror_mode": {
    "name": "ipython",
    "version": 3
   },
   "file_extension": ".py",
   "mimetype": "text/x-python",
   "name": "python",
   "nbconvert_exporter": "python",
   "pygments_lexer": "ipython3",
   "version": "3.6.6"
  }
 },
 "nbformat": 4,
 "nbformat_minor": 2
}
