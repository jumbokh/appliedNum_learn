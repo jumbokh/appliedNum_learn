{
 "cells": [
  {
   "cell_type": "code",
   "execution_count": 1,
   "metadata": {
    "collapsed": true
   },
   "outputs": [],
   "source": [
    "import numpy as np\n",
    "import math"
   ]
  },
  {
   "cell_type": "code",
   "execution_count": 2,
   "metadata": {},
   "outputs": [
    {
     "name": "stdout",
     "output_type": "stream",
     "text": [
      "[[ 11. -26.   3. -12.]\n",
      " [  3. -12.   3.  -6.]\n",
      " [ 31. -99.  15. -44.]\n",
      " [  9. -10.  -3.  -4.]]\n"
     ]
    }
   ],
   "source": [
    "## ex-4.10\n",
    "A = np.array([[11,-26,3,-12],[3,-12,3,-6],[31,-99,15,-44],[9,-10,-3,-4]],dtype=float)\n",
    "np.set_printoptions(precision=4, suppress=True)\n",
    "print(A)"
   ]
  },
  {
   "cell_type": "code",
   "execution_count": 8,
   "metadata": {},
   "outputs": [],
   "source": [
    "def Hessenberg(A):\n",
    "    (n, nn) = np.shape(A)\n",
    "    for k in range(n-1):\n",
    "        #x = np.zeros(n)\n",
    "        w = np.zeros(n)\n",
    "        C = np.zeros(shape=(n,nn))\n",
    "        d = 0.0\n",
    "        x = A[:,k]\n",
    "        x = np.array([aa if i > k else 0 for i,aa in enumerate(x)])\n",
    "        p = np.sign(x[k+1])\n",
    "        if p == 0.0:\n",
    "            p = 1\n",
    "        g = np.linalg.norm(x)\n",
    "        s = math.sqrt(2*g*(g+p*(x[k+1])))\n",
    "        B = np.copy(A)\n",
    "        if s != 0.0:\n",
    "            w = x/s\n",
    "            w[k+1] = (x[k+1]+p*g)/s\n",
    "            w = w.reshape(-1,1)\n",
    "            wt = w.reshape(1,-1)\n",
    "            C = np.matmul(w,wt)\n",
    "            d = np.matmul(np.matmul(wt,A),w)\n",
    "            B = A - 2.0*np.dot(C,A) - 2.0 *np.dot(A,C) + 4.0 * d * C\n",
    "        A = np.copy(B)\n",
    "        print('k:',k+1)\n",
    "        print('x = ',x.T)\n",
    "        print('g = %8.4f'%g)\n",
    "        print('s = %8.4f'%s)\n",
    "        print('w = ',wt)\n",
    "        print('d = ',d)\n",
    "        print('C=',C)\n",
    "        print('B=',B)\n",
    "    return A\n",
    "        "
   ]
  },
  {
   "cell_type": "code",
   "execution_count": 9,
   "metadata": {},
   "outputs": [
    {
     "name": "stdout",
     "output_type": "stream",
     "text": [
      "k: 1\n",
      "x =  [ 0.  3. 31.  9.]\n",
      "g =  32.4191\n",
      "s =  47.9220\n",
      "w =  [[0.     0.7391 0.6469 0.1878]]\n",
      "d =  [[-54.2491]]\n",
      "C= [[0.     0.     0.     0.    ]\n",
      " [0.     0.5463 0.4781 0.1388]\n",
      " [0.     0.4781 0.4185 0.1215]\n",
      " [0.     0.1388 0.1215 0.0353]]\n",
      "B= [[  11.        2.8687   28.2668   -4.6645]\n",
      " [ -32.4191   -8.078  -107.1151   16.6447]\n",
      " [   0.        0.0437    2.3056    0.1142]\n",
      " [   0.        2.8754  -20.5835    4.7724]]\n",
      "k: 2\n",
      "x =  [0.     0.     0.0437 2.8754]\n",
      "g =   2.8757\n",
      "s =   4.0977\n",
      "w =  [[0.     0.     0.7125 0.7017]]\n",
      "d =  [[-6.7132]]\n",
      "C= [[0.     0.     0.     0.    ]\n",
      " [0.     0.     0.     0.    ]\n",
      " [0.     0.     0.5076 0.4999]\n",
      " [0.     0.     0.4999 0.4924]]\n",
      "B= [[ 11.       2.8687   4.2341 -28.3345]\n",
      " [-32.4191  -8.078  -15.0141 107.3558]\n",
      " [  0.      -2.8757   4.4607 -20.6163]\n",
      " [  0.      -0.       0.0814   2.6174]]\n",
      "k: 3\n",
      "x =  [0.     0.     0.     0.0814]\n",
      "g =   0.0814\n",
      "s =   0.1628\n",
      "w =  [[0. 0. 0. 1.]]\n",
      "d =  [[2.6174]]\n",
      "C= [[0. 0. 0. 0.]\n",
      " [0. 0. 0. 0.]\n",
      " [0. 0. 0. 0.]\n",
      " [0. 0. 0. 1.]]\n",
      "B= [[  11.        2.8687    4.2341   28.3345]\n",
      " [ -32.4191   -8.078   -15.0141 -107.3558]\n",
      " [   0.       -2.8757    4.4607   20.6163]\n",
      " [   0.        0.       -0.0814    2.6174]]\n",
      "[[  11.        2.8687    4.2341   28.3345]\n",
      " [ -32.4191   -8.078   -15.0141 -107.3558]\n",
      " [   0.       -2.8757    4.4607   20.6163]\n",
      " [   0.        0.       -0.0814    2.6174]]\n"
     ]
    }
   ],
   "source": [
    "H = Hessenberg(A)\n",
    "print(H)"
   ]
  },
  {
   "cell_type": "code",
   "execution_count": 10,
   "metadata": {},
   "outputs": [
    {
     "name": "stdout",
     "output_type": "stream",
     "text": [
      "k: 1\n",
      "x =  [ 0 10 10 10]\n",
      "g =  17.3205\n",
      "s =  30.7638\n",
      "w =  [[0.     0.8881 0.3251 0.3251]]\n",
      "d =  [[4.4641]]\n",
      "C= [[0.     0.     0.     0.    ]\n",
      " [0.     0.7887 0.2887 0.2887]\n",
      " [0.     0.2887 0.1057 0.1057]\n",
      " [0.     0.2887 0.1057 0.1057]]\n",
      "B= [[ 15.       2.8868  -0.2113   0.7887]\n",
      " [-17.3205   0.       7.       7.    ]\n",
      " [  0.       0.       2.366   -0.366 ]\n",
      " [  0.      -0.       1.366    0.634 ]]\n",
      "k: 2\n",
      "x =  [ 0.  0.  0. -0.]\n",
      "g =   0.0000\n",
      "s =   0.0000\n",
      "w =  [[ 0.      0.      0.7071 -0.7071]]\n",
      "d =  [[1.]]\n",
      "C= [[ 0.   0.   0.   0. ]\n",
      " [ 0.   0.   0.   0. ]\n",
      " [ 0.   0.   0.5 -0.5]\n",
      " [ 0.   0.  -0.5  0.5]]\n",
      "B= [[ 15.       2.8868   0.7887  -0.2113]\n",
      " [-17.3205   0.       7.       7.    ]\n",
      " [  0.      -0.       0.634    1.366 ]\n",
      " [  0.      -0.      -0.366    2.366 ]]\n",
      "k: 3\n",
      "x =  [ 0.     0.     0.    -0.366]\n",
      "g =   0.3660\n",
      "s =   0.7321\n",
      "w =  [[ 0.  0.  0. -1.]]\n",
      "d =  [[2.366]]\n",
      "C= [[0. 0. 0. 0.]\n",
      " [0. 0. 0. 0.]\n",
      " [0. 0. 0. 0.]\n",
      " [0. 0. 0. 1.]]\n",
      "B= [[ 15.       2.8868   0.7887   0.2113]\n",
      " [-17.3205   0.       7.      -7.    ]\n",
      " [  0.      -0.       0.634   -1.366 ]\n",
      " [ -0.       0.       0.366    2.366 ]]\n",
      "+++++++++++++++++++++++++++++++++++\n",
      "[[ 15.       2.8868   0.7887   0.2113]\n",
      " [-17.3205   0.       7.      -7.    ]\n",
      " [  0.      -0.       0.634   -1.366 ]\n",
      " [ -0.       0.       0.366    2.366 ]]\n"
     ]
    }
   ],
   "source": [
    "B = np.array([[15,-2,-2,-1],[10,6,-4,-2],[10,4,-1,-3],[10,4,-2,-2]])\n",
    "#H1 = ALG.hessenberg(B)\n",
    "H1 = Hessenberg(B)\n",
    "print(\"+++++++++++++++++++++++++++++++++++\")\n",
    "print(H1)"
   ]
  },
  {
   "cell_type": "code",
   "execution_count": null,
   "metadata": {
    "collapsed": true
   },
   "outputs": [],
   "source": []
  }
 ],
 "metadata": {
  "kernelspec": {
   "display_name": "Python 3",
   "language": "python",
   "name": "python3"
  },
  "language_info": {
   "codemirror_mode": {
    "name": "ipython",
    "version": 3
   },
   "file_extension": ".py",
   "mimetype": "text/x-python",
   "name": "python",
   "nbconvert_exporter": "python",
   "pygments_lexer": "ipython3",
   "version": "3.6.2"
  }
 },
 "nbformat": 4,
 "nbformat_minor": 2
}
