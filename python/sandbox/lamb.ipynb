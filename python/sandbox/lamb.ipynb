{
 "cells": [
  {
   "cell_type": "code",
   "execution_count": 1,
   "metadata": {},
   "outputs": [],
   "source": [
    "import re"
   ]
  },
  {
   "cell_type": "code",
   "execution_count": 5,
   "metadata": {},
   "outputs": [],
   "source": [
    "a = [['Y','AO1','R'],['T','R','UW1'],['N','AO1','R','TH']]"
   ]
  },
  {
   "cell_type": "code",
   "execution_count": 6,
   "metadata": {},
   "outputs": [],
   "source": [
    "k = [list(map(lambda x: re.sub(r'[0-9]+','',x),i)) for i in a]"
   ]
  },
  {
   "cell_type": "code",
   "execution_count": 7,
   "metadata": {},
   "outputs": [
    {
     "data": {
      "text/plain": [
       "[['Y', 'AO', 'R'], ['T', 'R', 'UW'], ['N', 'AO', 'R', 'TH']]"
      ]
     },
     "execution_count": 7,
     "metadata": {},
     "output_type": "execute_result"
    }
   ],
   "source": [
    "k"
   ]
  },
  {
   "cell_type": "markdown",
   "metadata": {},
   "source": [
    "### QA\n",
    "'''\n",
    "我有一個list, 裡面有數個 list，我要把裡面的數字移除，但是維持一個清單裡有數個清單的形式，請問該如何解？謝謝！\n",
    "\n",
    "目前我寫了兩個 for 迴圈，雖然把numerical string 移除了，但是所有的內容都被寫在一個清單裡（而非原本的三個清單）\n",
    "\n",
    "目前寫法：\n",
    "aaa = [['Y', 'AO1', 'R'], ['T', 'R', 'UW1'] ['N', 'AO1', 'R', 'TH']]\n",
    "\n",
    "result = [ ]\n",
    "final_result = [ ]\n",
    "\n",
    "for ls in aaa:\n",
    "for i in ls:\n",
    "ir = i[:2]\n",
    "result.append(ir)\n",
    "final_result.append(result)\n",
    "\n",
    "目前output:\n",
    "['Y', 'AO', 'R', 'T', 'R', 'UW','N', 'AO', 'R', 'TH']\n",
    "\n",
    "目標output:\n",
    "[['Y', 'AO', 'R'], ['T', 'R', 'UW'] ['N', 'AO', 'R', 'TH']]\n",
    "'''"
   ]
  },
  {
   "cell_type": "code",
   "execution_count": null,
   "metadata": {},
   "outputs": [],
   "source": []
  }
 ],
 "metadata": {
  "kernelspec": {
   "display_name": "Python 3",
   "language": "python",
   "name": "python3"
  },
  "language_info": {
   "codemirror_mode": {
    "name": "ipython",
    "version": 3
   },
   "file_extension": ".py",
   "mimetype": "text/x-python",
   "name": "python",
   "nbconvert_exporter": "python",
   "pygments_lexer": "ipython3",
   "version": "3.6.6"
  }
 },
 "nbformat": 4,
 "nbformat_minor": 2
}
