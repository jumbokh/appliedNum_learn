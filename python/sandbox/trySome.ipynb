{
 "cells": [
  {
   "cell_type": "code",
   "execution_count": 48,
   "metadata": {
    "collapsed": true
   },
   "outputs": [],
   "source": [
    "import numpy as np"
   ]
  },
  {
   "cell_type": "code",
   "execution_count": 71,
   "metadata": {},
   "outputs": [
    {
     "name": "stdout",
     "output_type": "stream",
     "text": [
      "[1. 1. 1. 1.]\n",
      "[0, 0, 0, 1.0]\n"
     ]
    }
   ],
   "source": [
    "n = 4\n",
    "x = np.ones(n)\n",
    "k = 2\n",
    "print(x)\n",
    "x = [aa if i > k else 0 for i,aa in enumerate(x)]\n",
    "print(x)"
   ]
  },
  {
   "cell_type": "code",
   "execution_count": 50,
   "metadata": {},
   "outputs": [
    {
     "name": "stdout",
     "output_type": "stream",
     "text": [
      "[[ 5. 14.  1.  1.]\n",
      " [ 4.  5.  1.  1.]\n",
      " [ 1.  1.  4.  2.]\n",
      " [ 1.  1.  2.  4.]]\n"
     ]
    }
   ],
   "source": [
    "A = np.array([[5,14,1,1],[4,5,1,1],[1,1,4,2],[1,1,2,4]],dtype=float)\n",
    "print(A)\n"
   ]
  },
  {
   "cell_type": "code",
   "execution_count": 51,
   "metadata": {},
   "outputs": [
    {
     "name": "stdout",
     "output_type": "stream",
     "text": [
      "[14.  5.  1.  1.]\n"
     ]
    }
   ],
   "source": [
    "g = A[:,k]\n",
    "print(g)"
   ]
  },
  {
   "cell_type": "code",
   "execution_count": 53,
   "metadata": {},
   "outputs": [
    {
     "name": "stdout",
     "output_type": "stream",
     "text": [
      "(4, 1) (1, 4)\n",
      "(4, 4)\n",
      "[[0.         0.         0.         0.        ]\n",
      " [0.         0.54626881 0.47812379 0.13880298]\n",
      " [0.         0.47812379 0.41847961 0.12148782]\n",
      " [0.         0.13880298 0.12148782 0.03526884]]\n"
     ]
    }
   ],
   "source": [
    "wt =  np.array([0., 0.7391, 0.6469, 0.1878]).reshape(4,1)\n",
    "w = wt.reshape(1,-1)\n",
    "print(wt.shape, w.shape)\n",
    "H = np.matmul(wt,w)\n",
    "print(H.shape)\n",
    "print(H)"
   ]
  },
  {
   "cell_type": "code",
   "execution_count": null,
   "metadata": {
    "collapsed": true
   },
   "outputs": [],
   "source": []
  }
 ],
 "metadata": {
  "kernelspec": {
   "display_name": "Python 3",
   "language": "python",
   "name": "python3"
  },
  "language_info": {
   "codemirror_mode": {
    "name": "ipython",
    "version": 3
   },
   "file_extension": ".py",
   "mimetype": "text/x-python",
   "name": "python",
   "nbconvert_exporter": "python",
   "pygments_lexer": "ipython3",
   "version": "3.6.2"
  }
 },
 "nbformat": 4,
 "nbformat_minor": 2
}
