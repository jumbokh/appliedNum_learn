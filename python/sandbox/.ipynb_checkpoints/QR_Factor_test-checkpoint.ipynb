{
 "cells": [
  {
   "cell_type": "code",
   "execution_count": null,
   "metadata": {
    "collapsed": true
   },
   "outputs": [],
   "source": [
    "import numpy as np\n",
    "def householder(A):\n",
    "     (r, c) = np.shape(A)\n",
    "     Q = np.identity(r)\n",
    "     R = np.copy(A)\n",
    "     for i in range(r - 1):\n",
    "         x = R[i:, i]\n",
    "         e = np.zeros_like(x)\n",
    "         e[0] = np.linalg.norm(x)\n",
    "         u = x - e\n",
    "         v = u / np.linalg.norm(u)\n",
    "         Q_i = np.identity(r)\n",
    "         Q_i[i:, i:] -= 2.0 * np.outer(v, v)\n",
    "         R = np.dot(Q_i, R)  \n",
    "         Q = np.dot(Q, Q_i)  \n",
    "     return (Q, R,c)\n",
    " \n",
    "np.set_printoptions(precision=4, suppress=True)\n",
    "A = np.array([[4,2/3,-4/3,4/3],[2/3,4,0,0],[-4/3,0,6,0],[4/3,0,2,6]])\n",
    "b = np.array([[0],[0],[80],[0]])\n",
    "\n",
    "(Q, R,c) = householder(A)\n",
    "x=np.arange(c)\n",
    "B = np.dot(Q.T,b)\n",
    "\n",
    "x=np.linalg.solve(R,B)\n",
    "print('Q:',Q)\n",
    "print('R:',R)\n",
    "print('x:',x)\n",
    "#（made  cheng）\n",
    "#--------------------- \n",
    "#作者：qq_34442920 \n",
    "#来源：CSDN \n",
    "#原文：https://blog.csdn.net/qq_34442920/article/details/83244582 \n",
    "#版权声明：本文为博主原创文章，转载请附上博文链接！"
   ]
  }
 ],
 "metadata": {
  "kernelspec": {
   "display_name": "Python 3",
   "language": "python",
   "name": "python3"
  },
  "language_info": {
   "codemirror_mode": {
    "name": "ipython",
    "version": 3
   },
   "file_extension": ".py",
   "mimetype": "text/x-python",
   "name": "python",
   "nbconvert_exporter": "python",
   "pygments_lexer": "ipython3",
   "version": "3.6.2"
  }
 },
 "nbformat": 4,
 "nbformat_minor": 2
}
