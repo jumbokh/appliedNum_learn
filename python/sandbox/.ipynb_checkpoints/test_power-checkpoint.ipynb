{
 "cells": [
  {
   "cell_type": "code",
   "execution_count": 4,
   "metadata": {
    "collapsed": true
   },
   "outputs": [],
   "source": [
    "import numpy as np\n",
    "\n",
    "def power_method(mat, start, maxit):\n",
    "    \"\"\"\n",
    "    Does maxit iterations of the power method\n",
    "    on the matrix mat starting at start.\n",
    "    Returns an approximation of the largest\n",
    "    eigenvector of the matrix mat.\n",
    "    \"\"\"\n",
    "    result = start\n",
    "    for i in range(maxit):\n",
    "        result = mat*result\n",
    "        result = result/np.linalg.norm(result)\n",
    "        print('w= ',result)\n",
    "    return result\n",
    "\n",
    "def check(mat, otp):\n",
    "    \"\"\"\n",
    "    Compares the output otp of the power\n",
    "    method with the largest eigenvalue\n",
    "    of the matrix mat.\n",
    "    \"\"\"\n",
    "    prd = mat*otp\n",
    "    eigval = prd[0]/otp[0]\n",
    "    print ('computed eigenvalue :' , eigval)\n",
    "    [eigs, vecs] = np.linalg.eig(mat)\n",
    "    abseigs = list(abs(eigs))\n",
    "    ind = abseigs.index(max(abseigs))\n",
    "    print (' largest eigenvalue :', eigs[ind])"
   ]
  },
  {
   "cell_type": "code",
   "execution_count": 5,
   "metadata": {
    "collapsed": true
   },
   "outputs": [],
   "source": [
    "def main():\n",
    "    \"\"\"\n",
    "    Prompts the user for a dimension\n",
    "    and the number of iterations.\n",
    "    \"\"\"\n",
    "    print ('Running the power method...')\n",
    "    dim = 3 #input('Give the dimension : ')\n",
    "    nbit = 3 # input('How many iterations ? ')\n",
    "    j = complex(0, 1)\n",
    "    #rnd = np.random.normal(0, 1, (dim, dim)) \\\n",
    "    #    + np.random.normal(0, 1, (dim, dim))*j\n",
    "    #nbs = np.random.normal(0, 1, (dim, 1)) \\\n",
    "    #    + np.random.normal(0, 1, (dim, 1))*j\n",
    "    #rndmat = np.matrix(rnd)\n",
    "    #rndvec = np.matrix(nbs)\n",
    "    rndmat = np.array([[21,7,-1],[5,7,7],[4,-4,20]])\n",
    "    rndvec = np.array([1,1,1])\n",
    "    eigmax = power_method(rndmat, rndvec, nbit)\n",
    "    print('z=',eigmax)\n",
    "    check(rndmat, eigmax)"
   ]
  },
  {
   "cell_type": "code",
   "execution_count": 6,
   "metadata": {},
   "outputs": [
    {
     "name": "stdout",
     "output_type": "stream",
     "text": [
      "Running the power method...\n",
      "w=  [[ 0.64931203  0.21643734 -0.03091962]\n",
      " [ 0.1545981   0.21643734  0.21643734]\n",
      " [ 0.12367848 -0.12367848  0.61839241]]\n",
      "w=  [[0.73213604 0.08134845 0.00166017]\n",
      " [0.04150431 0.08134845 0.08134845]\n",
      " [0.02656276 0.02656276 0.66406897]]\n",
      "w=  [[ 7.55797593e-01  2.79925034e-02 -8.16107972e-05]\n",
      " [ 1.02013497e-02  2.79925034e-02  2.79925034e-02]\n",
      " [ 5.22309102e-03 -5.22309102e-03  6.52886378e-01]]\n"
     ]
    },
    {
     "ename": "NameError",
     "evalue": "name 'egimax' is not defined",
     "output_type": "error",
     "traceback": [
      "\u001b[1;31m---------------------------------------------------------------------------\u001b[0m",
      "\u001b[1;31mNameError\u001b[0m                                 Traceback (most recent call last)",
      "\u001b[1;32m<ipython-input-6-58ca95c5b364>\u001b[0m in \u001b[0;36m<module>\u001b[1;34m()\u001b[0m\n\u001b[1;32m----> 1\u001b[1;33m \u001b[0mmain\u001b[0m\u001b[1;33m(\u001b[0m\u001b[1;33m)\u001b[0m\u001b[1;33m\u001b[0m\u001b[0m\n\u001b[0m",
      "\u001b[1;32m<ipython-input-5-2504906f0fa8>\u001b[0m in \u001b[0;36mmain\u001b[1;34m()\u001b[0m\n\u001b[0;32m     17\u001b[0m     \u001b[0mrndvec\u001b[0m \u001b[1;33m=\u001b[0m \u001b[0mnp\u001b[0m\u001b[1;33m.\u001b[0m\u001b[0marray\u001b[0m\u001b[1;33m(\u001b[0m\u001b[1;33m[\u001b[0m\u001b[1;36m1\u001b[0m\u001b[1;33m,\u001b[0m\u001b[1;36m1\u001b[0m\u001b[1;33m,\u001b[0m\u001b[1;36m1\u001b[0m\u001b[1;33m]\u001b[0m\u001b[1;33m)\u001b[0m\u001b[1;33m\u001b[0m\u001b[0m\n\u001b[0;32m     18\u001b[0m     \u001b[0meigmax\u001b[0m \u001b[1;33m=\u001b[0m \u001b[0mpower_method\u001b[0m\u001b[1;33m(\u001b[0m\u001b[0mrndmat\u001b[0m\u001b[1;33m,\u001b[0m \u001b[0mrndvec\u001b[0m\u001b[1;33m,\u001b[0m \u001b[0mnbit\u001b[0m\u001b[1;33m)\u001b[0m\u001b[1;33m\u001b[0m\u001b[0m\n\u001b[1;32m---> 19\u001b[1;33m     \u001b[0mprint\u001b[0m\u001b[1;33m(\u001b[0m\u001b[1;34m'z='\u001b[0m\u001b[1;33m,\u001b[0m\u001b[0megimax\u001b[0m\u001b[1;33m)\u001b[0m\u001b[1;33m\u001b[0m\u001b[0m\n\u001b[0m\u001b[0;32m     20\u001b[0m     \u001b[0mcheck\u001b[0m\u001b[1;33m(\u001b[0m\u001b[0mrndmat\u001b[0m\u001b[1;33m,\u001b[0m \u001b[0meigmax\u001b[0m\u001b[1;33m)\u001b[0m\u001b[1;33m\u001b[0m\u001b[0m\n",
      "\u001b[1;31mNameError\u001b[0m: name 'egimax' is not defined"
     ]
    }
   ],
   "source": [
    "main()"
   ]
  },
  {
   "cell_type": "code",
   "execution_count": null,
   "metadata": {
    "collapsed": true
   },
   "outputs": [],
   "source": []
  }
 ],
 "metadata": {
  "kernelspec": {
   "display_name": "Python 3",
   "language": "python",
   "name": "python3"
  },
  "language_info": {
   "codemirror_mode": {
    "name": "ipython",
    "version": 3
   },
   "file_extension": ".py",
   "mimetype": "text/x-python",
   "name": "python",
   "nbconvert_exporter": "python",
   "pygments_lexer": "ipython3",
   "version": "3.6.6"
  }
 },
 "nbformat": 4,
 "nbformat_minor": 2
}
