{
 "cells": [
  {
   "cell_type": "code",
   "execution_count": 8,
   "metadata": {},
   "outputs": [],
   "source": [
    "import numpy as np\n",
    "\n",
    "def power_method(mat, start, maxit):\n",
    "    \"\"\"\n",
    "    Does maxit iterations of the power method\n",
    "    on the matrix mat starting at start.\n",
    "    Returns an approximation of the largest\n",
    "    eigenvector of the matrix mat.\n",
    "    \"\"\"\n",
    "    result = start\n",
    "    for i in range(maxit):\n",
    "        result = mat*result\n",
    "        result = result/np.linalg.norm(result)\n",
    "    return result\n",
    "\n",
    "def check(mat, otp):\n",
    "    \"\"\"\n",
    "    Compares the output otp of the power\n",
    "    method with the largest eigenvalue\n",
    "    of the matrix mat.\n",
    "    \"\"\"\n",
    "    prd = mat*otp\n",
    "    eigval = prd[0]/otp[0]\n",
    "    print ('computed eigenvalue :' , eigval)\n",
    "    [eigs, vecs] = np.linalg.eig(mat)\n",
    "    abseigs = list(abs(eigs))\n",
    "    ind = abseigs.index(max(abseigs))\n",
    "    print (' largest eigenvalue :', eigs[ind])"
   ]
  },
  {
   "cell_type": "code",
   "execution_count": 11,
   "metadata": {
    "collapsed": true
   },
   "outputs": [],
   "source": [
    "def main():\n",
    "    \"\"\"\n",
    "    Prompts the user for a dimension\n",
    "    and the number of iterations.\n",
    "    \"\"\"\n",
    "    print ('Running the power method...')\n",
    "    dim = 3 #input('Give the dimension : ')\n",
    "    nbit = 3 # input('How many iterations ? ')\n",
    "    j = complex(0, 1)\n",
    "    #rnd = np.random.normal(0, 1, (dim, dim)) \\\n",
    "    #    + np.random.normal(0, 1, (dim, dim))*j\n",
    "    #nbs = np.random.normal(0, 1, (dim, 1)) \\\n",
    "    #    + np.random.normal(0, 1, (dim, 1))*j\n",
    "    #rndmat = np.matrix(rnd)\n",
    "    #rndvec = np.matrix(nbs)\n",
    "    rndmat = np.array([[21,7,-1],[5,7,7],[4,-4,20]])\n",
    "    rndvec = np.array([1,1,1])\n",
    "    eigmax = power_method(rndmat, rndvec, nbit)\n",
    "    check(rndmat, eigmax)"
   ]
  },
  {
   "cell_type": "code",
   "execution_count": 12,
   "metadata": {},
   "outputs": [
    {
     "name": "stdout",
     "output_type": "stream",
     "text": [
      "Running the power method...\n",
      "computed eigenvalue : [21.  7. -1.]\n",
      " largest eigenvalue : 24.000000000000014\n"
     ]
    }
   ],
   "source": [
    "main()"
   ]
  },
  {
   "cell_type": "code",
   "execution_count": null,
   "metadata": {
    "collapsed": true
   },
   "outputs": [],
   "source": []
  }
 ],
 "metadata": {
  "kernelspec": {
   "display_name": "Python 3",
   "language": "python",
   "name": "python3"
  },
  "language_info": {
   "codemirror_mode": {
    "name": "ipython",
    "version": 3
   },
   "file_extension": ".py",
   "mimetype": "text/x-python",
   "name": "python",
   "nbconvert_exporter": "python",
   "pygments_lexer": "ipython3",
   "version": "3.6.2"
  }
 },
 "nbformat": 4,
 "nbformat_minor": 2
}
