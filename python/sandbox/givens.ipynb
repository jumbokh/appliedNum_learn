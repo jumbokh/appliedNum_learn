{
 "cells": [
  {
   "cell_type": "code",
   "execution_count": 1,
   "metadata": {
    "collapsed": true
   },
   "outputs": [],
   "source": [
    "import numpy as np\n",
    "import math"
   ]
  },
  {
   "cell_type": "code",
   "execution_count": 2,
   "metadata": {
    "collapsed": true
   },
   "outputs": [],
   "source": [
    "def Givens(B):\n",
    "    (row,col) = np.shape(B)\n",
    "    x = np.array([0.0,0.0])\n",
    "    for k in range(row-1):\n",
    "       x[0] = B[k][k]\n",
    "       x[1] = B[k+1][k]\n",
    "       c = x[0]/math.sqrt(math.pow(x[0],2)+math.pow(x[1],2))\n",
    "       s = -x[1]/math.sqrt(math.pow(x[0],2)+math.pow(x[1],2))\n",
    "       T = B\n",
    "       for j in range(row):\n",
    "           T[k][j] = c * B[k][j] - s* B[k+1][j]\n",
    "           T[k+1][j] = s * B[k][j] + c * B[k+1][j]\n",
    "       B = T\n",
    "       print('k: ',k+1)\n",
    "       print('x = %8.4f'%x[0],', %8.4f'%x[1])\n",
    "       print('c = %8.4f'%c,',s = %8.4f'%s)\n",
    "       print('B:')\n",
    "       for l in range(row):\n",
    "            for m in range(col):\n",
    "                print('%8.4f'%B[l][m],end=', ')\n",
    "            print()\n",
    "    return B"
   ]
  },
  {
   "cell_type": "code",
   "execution_count": 3,
   "metadata": {},
   "outputs": [
    {
     "name": "stdout",
     "output_type": "stream",
     "text": [
      " 11.0000,   2.8687,   4.2341, -28.3345, \n",
      "-32.4191,  -8.0780, -15.0141, 107.3558, \n",
      "  0.0000,  -2.8757,   4.4607, -20.6163, \n",
      "  0.0000,   0.0000,   0.0814,   2.6174, \n",
      "k:  1\n",
      "x =  11.0000 , -32.4191\n",
      "c =   0.3213 ,s =   0.9470\n",
      "B:\n",
      " 34.2345,   8.5714,  15.5784, -110.7673, \n",
      " 22.0024,   5.5213,   9.9281, -70.3987, \n",
      "  0.0000,  -2.8757,   4.4607, -20.6163, \n",
      "  0.0000,   0.0000,   0.0814,   2.6174, \n",
      "k:  2\n",
      "x =   5.5213 ,  -2.8757\n",
      "c =   0.8869 ,s =   0.4619\n",
      "B:\n",
      " 34.2345,   8.5714,  15.5784, -110.7673, \n",
      " 19.5142,   6.2253,   6.7448, -52.9141, \n",
      "  9.0143,   0.3252,   7.0719, -42.7278, \n",
      "  0.0000,   0.0000,   0.0814,   2.6174, \n",
      "k:  3\n",
      "x =   7.0719 ,   0.0814\n",
      "c =   0.9999 ,s =  -0.0115\n",
      "B:\n",
      " 34.2345,   8.5714,  15.5784, -110.7673, \n",
      " 19.5142,   6.2253,   6.7448, -52.9141, \n",
      "  9.0137,   0.3252,   7.0724, -42.6949, \n",
      " -0.1037,  -0.0037,  -0.0000,   3.1086, \n",
      "Givens:\n",
      " 34.2345,   8.5714,  15.5784, -110.7673, \n",
      " 19.5142,   6.2253,   6.7448, -52.9141, \n",
      "  9.0137,   0.3252,   7.0724, -42.6949, \n",
      " -0.1037,  -0.0037,  -0.0000,   3.1086, \n"
     ]
    }
   ],
   "source": [
    "B = np.array([[11,2.8687,4.2341,-28.3345],[-32.4191,-8.0780,-15.0141,107.3558],[0,-2.8757,4.4607,-20.6163],[0,0,0.0814,2.6174]])\n",
    "np.set_printoptions(precision=4, suppress=True)\n",
    "(r,c) = np.shape(B)\n",
    "for l in np.arange(r):\n",
    "            for m in np.arange(c):\n",
    "                print('%8.4f'%B[l][m],end=', ')\n",
    "            print()\n",
    "G = Givens(B)\n",
    "print(\"Givens:\")\n",
    "for l in np.arange(r):\n",
    "            for m in np.arange(c):\n",
    "                print('%8.4f'%G[l][m],end=', ')\n",
    "            print()"
   ]
  },
  {
   "cell_type": "code",
   "execution_count": 6,
   "metadata": {
    "collapsed": true
   },
   "outputs": [],
   "source": [
    "def givens_rotation(A):\n",
    "    \"\"\"Givens变换\"\"\"\n",
    "    (r, c) = np.shape(A)\n",
    "    Q = np.identity(r)\n",
    "    R = np.copy(A)\n",
    "    (rows, cols) = np.tril_indices(r, -1, c)\n",
    "    for (row, col) in zip(rows, cols):\n",
    "        if R[row, col] != 0:  # R[row, col]=0则c=1,s=0,R、Q不变\n",
    "            r_ = np.hypot(R[col, col], R[row, col])  # d\n",
    "            c = R[col, col]/r_\n",
    "            s = -R[row, col]/r_\n",
    "            G = np.identity(r)\n",
    "            G[[col, row], [col, row]] = c\n",
    "            G[row, col] = s\n",
    "            G[col, row] = -s\n",
    "            R = np.dot(G, R)  # R=G(n-1,n)*...*G(2n)*...*G(23,1n)*...*G(12)*A\n",
    "            Q = np.dot(Q, G.T)  # Q=G(n-1,n).T*...*G(2n).T*...*G(23,1n).T*...*G(12).T\n",
    "        print('k: ',row)\n",
    "        print('x = %8.4f'%R[col, col],', %8.4f'%R[row, col])\n",
    "        print('c = %8.4f'%c,',s = %8.4f'%s)\n",
    "        print('R:')\n",
    "        for l in range(len(A)):\n",
    "            for m in range(len(A)):\n",
    "                print('%8.4f'%R[l][m],end=', ')\n",
    "            print()\n",
    "    return (Q, R)"
   ]
  },
  {
   "cell_type": "code",
   "execution_count": 7,
   "metadata": {},
   "outputs": [
    {
     "name": "stdout",
     "output_type": "stream",
     "text": [
      " 11.0000,   2.8687,   4.2341, -28.3345, \n",
      "-32.4191,  -8.0780, -15.0141, 107.3558, \n",
      "  0.0000,  -2.8757,   4.4607, -20.6163, \n",
      "  0.0000,   0.0000,   0.0814,   2.6174, \n",
      "k:  1\n",
      "x =  34.2345 ,   0.0000\n",
      "c =   0.3213 ,s =   0.9470\n",
      "R:\n",
      " 34.2345,   8.5714,  15.5784, -110.7673, \n",
      "  0.0000,   0.1210,  -0.8147,   7.6629, \n",
      "  0.0000,  -2.8757,   4.4607, -20.6163, \n",
      "  0.0000,   0.0000,   0.0814,   2.6174, \n",
      "k:  2\n",
      "x =  34.2345 ,   0.0000\n",
      "c =   0.3213 ,s =   0.9470\n",
      "R:\n",
      " 34.2345,   8.5714,  15.5784, -110.7673, \n",
      "  0.0000,   0.1210,  -0.8147,   7.6629, \n",
      "  0.0000,  -2.8757,   4.4607, -20.6163, \n",
      "  0.0000,   0.0000,   0.0814,   2.6174, \n",
      "k:  2\n",
      "x =   2.8782 ,  -0.0000\n",
      "c =   0.0420 ,s =   0.9991\n",
      "R:\n",
      " 34.2345,   8.5714,  15.5784, -110.7673, \n",
      "  0.0000,   2.8782,  -4.4910,  20.9202, \n",
      "  0.0000,  -0.0000,  -0.6264,   6.7894, \n",
      "  0.0000,   0.0000,   0.0814,   2.6174, \n",
      "k:  3\n",
      "x =  34.2345 ,   0.0000\n",
      "c =   0.0420 ,s =   0.9991\n",
      "R:\n",
      " 34.2345,   8.5714,  15.5784, -110.7673, \n",
      "  0.0000,   2.8782,  -4.4910,  20.9202, \n",
      "  0.0000,  -0.0000,  -0.6264,   6.7894, \n",
      "  0.0000,   0.0000,   0.0814,   2.6174, \n",
      "k:  3\n",
      "x =   2.8782 ,   0.0000\n",
      "c =   0.0420 ,s =   0.9991\n",
      "R:\n",
      " 34.2345,   8.5714,  15.5784, -110.7673, \n",
      "  0.0000,   2.8782,  -4.4910,  20.9202, \n",
      "  0.0000,  -0.0000,  -0.6264,   6.7894, \n",
      "  0.0000,   0.0000,   0.0814,   2.6174, \n",
      "k:  3\n",
      "x =   0.6317 ,   0.0000\n",
      "c =  -0.9917 ,s =  -0.1289\n",
      "R:\n",
      " 34.2345,   8.5714,  15.5784, -110.7673, \n",
      "  0.0000,   2.8782,  -4.4910,  20.9202, \n",
      " -0.0000,   0.0000,   0.6317,  -6.3954, \n",
      " -0.0000,   0.0000,   0.0000,  -3.4705, \n",
      "Givens:\n",
      " 34.2345,   8.5714,  15.5784, -110.7673, \n",
      "  0.0000,   2.8782,  -4.4910,  20.9202, \n",
      " -0.0000,   0.0000,   0.6317,  -6.3954, \n",
      " -0.0000,   0.0000,   0.0000,  -3.4705, \n"
     ]
    }
   ],
   "source": [
    "A = np.array([[11,2.8687,4.2341,-28.3345],[-32.4191,-8.0780,-15.0141,107.3558],[0,-2.8757,4.4607,-20.6163],[0,0,0.0814,2.6174]])\n",
    "np.set_printoptions(precision=4, suppress=True)\n",
    "(r,c) = np.shape(A)\n",
    "for l in np.arange(r):\n",
    "            for m in np.arange(c):\n",
    "                print('%8.4f'%A[l][m],end=', ')\n",
    "            print()\n",
    "Q2,G2 = givens_rotation(A)\n",
    "print(\"Givens:\")\n",
    "for l in np.arange(r):\n",
    "            for m in np.arange(c):\n",
    "                print('%8.4f'%G2[l][m],end=', ')\n",
    "            print()"
   ]
  },
  {
   "cell_type": "code",
   "execution_count": null,
   "metadata": {
    "collapsed": true
   },
   "outputs": [],
   "source": []
  }
 ],
 "metadata": {
  "kernelspec": {
   "display_name": "Python 3",
   "language": "python",
   "name": "python3"
  },
  "language_info": {
   "codemirror_mode": {
    "name": "ipython",
    "version": 3
   },
   "file_extension": ".py",
   "mimetype": "text/x-python",
   "name": "python",
   "nbconvert_exporter": "python",
   "pygments_lexer": "ipython3",
   "version": "3.6.2"
  }
 },
 "nbformat": 4,
 "nbformat_minor": 2
}
