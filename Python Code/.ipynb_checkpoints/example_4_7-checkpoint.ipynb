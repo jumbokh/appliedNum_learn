{
 "cells": [
  {
   "cell_type": "code",
   "execution_count": 1,
   "metadata": {},
   "outputs": [],
   "source": [
    "from LUdecomp3 import *\n",
    "import numpy as np"
   ]
  },
  {
   "cell_type": "code",
   "execution_count": 2,
   "metadata": {},
   "outputs": [],
   "source": [
    "c = np.array([4,1,2,5,0])\n",
    "d = np.array([1,17,3,1,21])\n",
    "e = np.array([0,4,2,0,4])\n",
    "A = np.array([[1,4,0,0,0],[4,17,1,0,0],[0,2,3,2,0],[0,0,0,1,5],[0,0,0,4,21]])\n",
    "r = np.array([[-7],[-27],[-3],[21],[89]])"
   ]
  },
  {
   "cell_type": "code",
   "execution_count": 3,
   "metadata": {},
   "outputs": [
    {
     "name": "stdout",
     "output_type": "stream",
     "text": [
      "[ 4  0  1 -5  0]\n",
      "============\n",
      "[ 1 17  2 -1 21]\n",
      "============\n",
      "[0 4 2 0 4]\n"
     ]
    }
   ],
   "source": [
    "B,D,E = LUdecomp3(c,d,e)\n",
    "print(B)\n",
    "print(\"============\")\n",
    "print(D)\n",
    "print(\"============\")\n",
    "print(E)"
   ]
  },
  {
   "cell_type": "code",
   "execution_count": 4,
   "metadata": {},
   "outputs": [
    {
     "name": "stdout",
     "output_type": "stream",
     "text": [
      "[[ -7]\n",
      " [ -5]\n",
      " [ 22]\n",
      " [-24]\n",
      " [  9]]\n"
     ]
    }
   ],
   "source": [
    "x = LUsolve3(B,D,E,r)\n",
    "print(x)"
   ]
  },
  {
   "cell_type": "code",
   "execution_count": 5,
   "metadata": {},
   "outputs": [],
   "source": [
    "from LUdecomp import *"
   ]
  },
  {
   "cell_type": "code",
   "execution_count": 6,
   "metadata": {},
   "outputs": [],
   "source": [
    "a = LUdecomp(A)"
   ]
  },
  {
   "cell_type": "code",
   "execution_count": 7,
   "metadata": {},
   "outputs": [
    {
     "name": "stdout",
     "output_type": "stream",
     "text": [
      "[[1 4 0 0 0]\n",
      " [4 1 1 0 0]\n",
      " [0 2 1 2 0]\n",
      " [0 0 0 1 5]\n",
      " [0 0 0 4 1]]\n"
     ]
    }
   ],
   "source": [
    "print(a)"
   ]
  },
  {
   "cell_type": "code",
   "execution_count": 8,
   "metadata": {},
   "outputs": [
    {
     "name": "stdout",
     "output_type": "stream",
     "text": [
      "[[ 4197]\n",
      " [-1051]\n",
      " [ 1074]\n",
      " [ -549]\n",
      " [  105]]\n"
     ]
    }
   ],
   "source": [
    "x = LUsolve(a,r)\n",
    "print(x)"
   ]
  },
  {
   "cell_type": "code",
   "execution_count": null,
   "metadata": {},
   "outputs": [],
   "source": []
  }
 ],
 "metadata": {
  "kernelspec": {
   "display_name": "Python 3",
   "language": "python",
   "name": "python3"
  },
  "language_info": {
   "codemirror_mode": {
    "name": "ipython",
    "version": 3
   },
   "file_extension": ".py",
   "mimetype": "text/x-python",
   "name": "python",
   "nbconvert_exporter": "python",
   "pygments_lexer": "ipython3",
   "version": "3.5.6"
  }
 },
 "nbformat": 4,
 "nbformat_minor": 2
}
