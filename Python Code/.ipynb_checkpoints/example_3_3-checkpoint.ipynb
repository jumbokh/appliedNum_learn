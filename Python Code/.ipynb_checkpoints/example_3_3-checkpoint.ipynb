{
 "cells": [
  {
   "cell_type": "code",
   "execution_count": 4,
   "metadata": {},
   "outputs": [],
   "source": [
    "from gaussPivot import *\n",
    "import numpy as np\n",
    "import math"
   ]
  },
  {
   "cell_type": "code",
   "execution_count": 6,
   "metadata": {},
   "outputs": [],
   "source": [
    "a = math.pi/6\n",
    "b = math.pi/3\n",
    "A = np.array([[1,0,0,0,math.sin(a),0],\n",
    "              [0,1,0,1,math.cos(a),0],\n",
    "              [0,0,1,0,0,math.sin(b)],\n",
    "              [0,0,0,-1,0,-(math.cos(b))],\n",
    "             [0,0,0,0,-(math.sin(a)),-(math.sin(b))],\n",
    "              [0,0,0,0,-(math.cos(a)),math.cos(b)]])\n",
    "r = np.array([[0,0],[0,0],[0,0],[0,0],[100,75],[0,0]])"
   ]
  },
  {
   "cell_type": "code",
   "execution_count": 7,
   "metadata": {},
   "outputs": [
    {
     "name": "stdout",
     "output_type": "stream",
     "text": [
      "[[ 24  17]\n",
      " [  0   0]\n",
      " [ 74  55]\n",
      " [ 43  32]\n",
      " [-49 -36]\n",
      " [-86 -64]]\n"
     ]
    }
   ],
   "source": [
    "ans = gaussPivot(A,r)\n",
    "print(ans)"
   ]
  },
  {
   "cell_type": "code",
   "execution_count": null,
   "metadata": {},
   "outputs": [],
   "source": []
  }
 ],
 "metadata": {
  "kernelspec": {
   "display_name": "Python 3",
   "language": "python",
   "name": "python3"
  },
  "language_info": {
   "codemirror_mode": {
    "name": "ipython",
    "version": 3
   },
   "file_extension": ".py",
   "mimetype": "text/x-python",
   "name": "python",
   "nbconvert_exporter": "python",
   "pygments_lexer": "ipython3",
   "version": "3.6.5"
  }
 },
 "nbformat": 4,
 "nbformat_minor": 2
}
