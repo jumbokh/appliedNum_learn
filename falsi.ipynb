{
 "cells": [
  {
   "cell_type": "code",
   "execution_count": null,
   "metadata": {},
   "outputs": [],
   "source": [
    "## module falsi\n",
    "''' root = ridder(f,a,b,tol=1.0e-9).\n",
    "    Finds a root of f(x) = 0 with rule of false position method.\n",
    "    The root must be bracketed in (a,b).\n",
    "'''\n",
    "import error\n",
    "import math\n",
    "from numpy import sign\n",
    "\n",
    "def falsi(f,a,b,tol=1.0e-9):   \n",
    "    fa = f(a)\n",
    "    if fa == 0.0: return a\n",
    "    fb = f(b)\n",
    "    if fb == 0.0: return b\n",
    "    if sign(fa) == sign(fb): error.err('Root is not bracketed')\n",
    "    for i in range(30):\n",
    "      # Compute the improved root x from falsi formula\n",
    "        \n",
    "        s = b - fb*(b-a)/(fb-fa)\n",
    "        fx = f(s)\n",
    "        if s == 0.0: return None\n",
    "        \n",
    "      # Test for convergence\n",
    "        if i > 0:\n",
    "            if abs(s - xOld) < tol*max(abs(s),1.0): return s\n",
    "        xOld = s\n",
    "      # Re-bracket the root as tightly as possible\n",
    "        if sign(fx) == sign(fa): \n",
    "             b = s; fb = fx\n",
    "        else: a = s; fa = fx\n",
    "        \n",
    "    return None\n",
    "    print('Too many iterations')\n",
    "\n"
   ]
  }
 ],
 "metadata": {
  "kernelspec": {
   "display_name": "Python 3",
   "language": "python",
   "name": "python3"
  },
  "language_info": {
   "codemirror_mode": {
    "name": "ipython",
    "version": 3
   },
   "file_extension": ".py",
   "mimetype": "text/x-python",
   "name": "python",
   "nbconvert_exporter": "python",
   "pygments_lexer": "ipython3",
   "version": "3.6.6"
  }
 },
 "nbformat": 4,
 "nbformat_minor": 2
}
