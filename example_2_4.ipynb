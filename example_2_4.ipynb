{
 "cells": [
  {
   "cell_type": "code",
   "execution_count": 1,
   "metadata": {},
   "outputs": [],
   "source": [
    "from falsi import *"
   ]
  },
  {
   "cell_type": "code",
   "execution_count": 2,
   "metadata": {},
   "outputs": [],
   "source": [
    "def f(x):\n",
    "    return x**3-3*x**2+1.0"
   ]
  },
  {
   "cell_type": "code",
   "execution_count": 3,
   "metadata": {},
   "outputs": [
    {
     "name": "stdout",
     "output_type": "stream",
     "text": [
      "0.000000 0.500000 0.500000 0.375000\n",
      "0.800000 0.500000 0.800000 -0.408000\n",
      "0.643678 0.500000 0.643678 0.023725\n",
      "0.653382 0.500000 0.653382 -0.001790\n",
      "0.652653 0.500000 0.652653 0.000133\n",
      "0.652707 0.500000 0.652707 -0.000010\n",
      "x =   0.65270\n"
     ]
    }
   ],
   "source": [
    "ans = falsi(f,0,1.0,tol = 1.0e-5)\n",
    "print('x = ','{:8.5f}'.format(ans))"
   ]
  },
  {
   "cell_type": "code",
   "execution_count": null,
   "metadata": {},
   "outputs": [],
   "source": []
  }
 ],
 "metadata": {
  "kernelspec": {
   "display_name": "Python 3",
   "language": "python",
   "name": "python3"
  },
  "language_info": {
   "codemirror_mode": {
    "name": "ipython",
    "version": 3
   },
   "file_extension": ".py",
   "mimetype": "text/x-python",
   "name": "python",
   "nbconvert_exporter": "python",
   "pygments_lexer": "ipython3",
   "version": "3.6.6"
  }
 },
 "nbformat": 4,
 "nbformat_minor": 2
}
