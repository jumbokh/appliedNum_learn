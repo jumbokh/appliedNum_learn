{
 "cells": [
  {
   "cell_type": "code",
   "execution_count": 1,
   "metadata": {},
   "outputs": [],
   "source": [
    "import numpy as np\n",
    "from bisection import *"
   ]
  },
  {
   "cell_type": "code",
   "execution_count": 2,
   "metadata": {},
   "outputs": [],
   "source": [
    "def f(x):\n",
    "    return x**3-3.0*x**2+1.0"
   ]
  },
  {
   "cell_type": "code",
   "execution_count": 3,
   "metadata": {},
   "outputs": [
    {
     "name": "stdout",
     "output_type": "stream",
     "text": [
      "0.0000 1.000000 0.500000 1.000000 -1.000000 0.375000\n",
      "0.5000 1.000000 0.750000 0.375000 -1.000000 -0.265625\n",
      "0.5000 0.750000 0.625000 0.375000 -0.265625 0.072266\n",
      "0.6250 0.750000 0.687500 0.072266 -0.265625 -0.093018\n",
      "0.6250 0.687500 0.656250 0.072266 -0.093018 -0.009369\n",
      "0.6250 0.656250 0.640625 0.072266 -0.009369 0.031712\n",
      "0.6406 0.656250 0.648438 0.031712 -0.009369 0.011236\n",
      "0.6484 0.656250 0.652344 0.011236 -0.009369 0.000949\n",
      "0.6523 0.656250 0.654297 0.000949 -0.009369 -0.004206\n",
      "0.6523 0.654297 0.653320 0.000949 -0.004206 -0.001627\n",
      "0.6523 0.653320 0.652832 0.000949 -0.001627 -0.000339\n",
      "0.6523 0.652832 0.652588 0.000949 -0.000339 0.000305\n",
      "0.6526 0.652832 0.652710 0.000305 -0.000339 -0.000017\n",
      "0.6526 0.652710 0.652649 0.000305 -0.000017 0.000144\n",
      "0.6526 0.652710 0.652679 0.000144 -0.000017 0.000064\n",
      "0.6527 0.652710 0.652695 0.000064 -0.000017 0.000024\n",
      "0.6527 0.652710 0.652702 0.000024 -0.000017 0.000003\n",
      "x =  0.6527\n"
     ]
    }
   ],
   "source": [
    "ans = bisection(f, 0,1, tol = 1.0e-5)\n",
    "print('x = ','{:6.4f}'.format(ans))"
   ]
  },
  {
   "cell_type": "code",
   "execution_count": null,
   "metadata": {},
   "outputs": [],
   "source": []
  }
 ],
 "metadata": {
  "kernelspec": {
   "display_name": "Python 3",
   "language": "python",
   "name": "python3"
  },
  "language_info": {
   "codemirror_mode": {
    "name": "ipython",
    "version": 3
   },
   "file_extension": ".py",
   "mimetype": "text/x-python",
   "name": "python",
   "nbconvert_exporter": "python",
   "pygments_lexer": "ipython3",
   "version": "3.6.6"
  }
 },
 "nbformat": 4,
 "nbformat_minor": 2
}
