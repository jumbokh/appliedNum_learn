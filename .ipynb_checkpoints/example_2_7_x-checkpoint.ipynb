{
 "cells": [
  {
   "cell_type": "code",
   "execution_count": 1,
   "metadata": {},
   "outputs": [],
   "source": [
    "from falsi import *"
   ]
  },
  {
   "cell_type": "code",
   "execution_count": 2,
   "metadata": {},
   "outputs": [],
   "source": [
    "def f(x):\n",
    "    return x**5-0.5"
   ]
  },
  {
   "cell_type": "code",
   "execution_count": 4,
   "metadata": {},
   "outputs": [
    {
     "name": "stdout",
     "output_type": "stream",
     "text": [
      "1 0.000000 1.000000 0.500000 -0.468750\n",
      "2 0.500000 1.000000 0.741935 -0.275182\n",
      "3 0.741935 1.000000 0.833546 -0.097610\n",
      "4 0.833546 1.000000 0.860733 -0.027564\n",
      "5 0.860733 1.000000 0.868010 -0.007254\n",
      "6 0.868010 1.000000 0.869897 -0.001873\n",
      "7 0.869897 1.000000 0.870383 -0.000481\n",
      "8 0.870383 1.000000 0.870508 -0.000124\n",
      "9 0.870508 1.000000 0.870540 -0.000032\n",
      "regula falsi has coverged\n",
      "x =  0.870540\n"
     ]
    }
   ],
   "source": [
    "x,logdat = falsix(f,0,1.0,tol = 1.0e-4)\n",
    "print('x = ','{:8.6f}'.format(x))"
   ]
  },
  {
   "cell_type": "code",
   "execution_count": 6,
   "metadata": {},
   "outputs": [],
   "source": [
    "from secant import *"
   ]
  },
  {
   "cell_type": "code",
   "execution_count": 8,
   "metadata": {},
   "outputs": [
    {
     "name": "stdout",
     "output_type": "stream",
     "text": [
      "0 0.000000 1.000000 0.500000\n",
      "1 1.000000 0.500000 -0.468750\n",
      "2 0.500000 0.741935 -0.275182\n",
      "3 0.741935 1.085879 1.009755\n",
      "4 1.085879 0.815594 -0.139113\n",
      "5 0.815594 0.848322 -0.060656\n",
      "6 0.848322 0.873625 0.008891\n",
      "7 0.873625 0.870390 -0.000461\n",
      "x =  0.870390\n"
     ]
    }
   ],
   "source": [
    "x = secant(f,0,1.0,10,tol = 1.0e-4)\n",
    "print('x = ','{:8.6f}'.format(x))"
   ]
  },
  {
   "cell_type": "code",
   "execution_count": 5,
   "metadata": {},
   "outputs": [],
   "source": [
    "import matplotlib.pyplot as plt"
   ]
  },
  {
   "cell_type": "code",
   "execution_count": 36,
   "metadata": {},
   "outputs": [
    {
     "name": "stdout",
     "output_type": "stream",
     "text": [
      "0.000000 -0.500000 1.000000 0.500000 0.500000\n",
      "0.500000 -0.468750 1.000000 0.500000 0.741935\n",
      "0.741935 -0.275182 1.000000 0.500000 0.833546\n",
      "0.833546 -0.097610 1.000000 0.500000 0.860733\n",
      "0.860733 -0.027564 1.000000 0.500000 0.868010\n",
      "0.868010 -0.007254 1.000000 0.500000 0.869897\n",
      "0.869897 -0.001873 1.000000 0.500000 0.870383\n",
      "0.870383 -0.000481 1.000000 0.500000 0.870508\n",
      "0.870508 -0.000124 1.000000 0.500000 0.870540\n"
     ]
    },
    {
     "data": {
      "image/png": "[encoded data removed]",
      "text/plain": [
       "<Figure size 432x288 with 1 Axes>"
      ]
     },
     "metadata": {},
     "output_type": "display_data"
    }
   ],
   "source": [
    "plt.xlim((0, 1))     #也可写成plt.xlim(-5, 5) \n",
    "#plt.ylim((-0.6, 0.6))     #也可写成plt.ylim(-2, 2)\n",
    "plt.plot((0,0),(1,0),'k:')\n",
    "for a,b,fa,fb,s in logdat:\n",
    "  plt.plot((a,fa),(b,fb),'r')\n",
    "  plt.plot(a,fa,'o-')\n",
    "  plt.plot(b,fb,'.-')\n",
    "  plt.plot(s,0,'b^')\n",
    "  print('{:8.6f}'.format(a),'{:8.6f}'.format(fa),'{:8.6f}'.format(b),'{:8.6f}'.format(fb),'{:8.6f}'.format(s))\n",
    "plt.show()"
   ]
  },
  {
   "cell_type": "code",
   "execution_count": null,
   "metadata": {},
   "outputs": [],
   "source": []
  }
 ],
 "metadata": {
  "kernelspec": {
   "display_name": "Python 3",
   "language": "python",
   "name": "python3"
  },
  "language_info": {
   "codemirror_mode": {
    "name": "ipython",
    "version": 3
   },
   "file_extension": ".py",
   "mimetype": "text/x-python",
   "name": "python",
   "nbconvert_exporter": "python",
   "pygments_lexer": "ipython3",
   "version": "3.6.6"
  }
 },
 "nbformat": 4,
 "nbformat_minor": 2
}
